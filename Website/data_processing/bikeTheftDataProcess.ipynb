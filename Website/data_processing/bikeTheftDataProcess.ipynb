{
 "cells": [
  {
   "cell_type": "code",
   "execution_count": 2,
   "metadata": {},
   "outputs": [],
   "source": [
    "import geopandas as gpd\n",
    "import pandas as pd\n",
    "import os\n",
    "import requests\n",
    "from io import StringIO"
   ]
  },
  {
   "cell_type": "code",
   "execution_count": 3,
   "metadata": {},
   "outputs": [
    {
     "data": {
      "text/html": [
       "<div>\n",
       "<style scoped>\n",
       "    .dataframe tbody tr th:only-of-type {\n",
       "        vertical-align: middle;\n",
       "    }\n",
       "\n",
       "    .dataframe tbody tr th {\n",
       "        vertical-align: top;\n",
       "    }\n",
       "\n",
       "    .dataframe thead th {\n",
       "        text-align: right;\n",
       "    }\n",
       "</style>\n",
       "<table border=\"1\" class=\"dataframe\">\n",
       "  <thead>\n",
       "    <tr style=\"text-align: right;\">\n",
       "      <th></th>\n",
       "      <th>LSOA Code</th>\n",
       "      <th>LSOA Name</th>\n",
       "      <th>Borough</th>\n",
       "      <th>202210</th>\n",
       "      <th>202211</th>\n",
       "      <th>202212</th>\n",
       "      <th>202301</th>\n",
       "      <th>202302</th>\n",
       "      <th>202303</th>\n",
       "      <th>202304</th>\n",
       "      <th>...</th>\n",
       "      <th>202312</th>\n",
       "      <th>202401</th>\n",
       "      <th>202402</th>\n",
       "      <th>202403</th>\n",
       "      <th>202404</th>\n",
       "      <th>202405</th>\n",
       "      <th>202406</th>\n",
       "      <th>202407</th>\n",
       "      <th>202408</th>\n",
       "      <th>202409</th>\n",
       "    </tr>\n",
       "  </thead>\n",
       "  <tbody>\n",
       "    <tr>\n",
       "      <th>0</th>\n",
       "      <td>E01000007</td>\n",
       "      <td>Barking and Dagenham 015A</td>\n",
       "      <td>E09000002</td>\n",
       "      <td>0</td>\n",
       "      <td>2</td>\n",
       "      <td>0</td>\n",
       "      <td>0</td>\n",
       "      <td>2</td>\n",
       "      <td>0</td>\n",
       "      <td>0</td>\n",
       "      <td>...</td>\n",
       "      <td>0</td>\n",
       "      <td>1</td>\n",
       "      <td>1</td>\n",
       "      <td>0</td>\n",
       "      <td>1</td>\n",
       "      <td>0</td>\n",
       "      <td>0</td>\n",
       "      <td>0</td>\n",
       "      <td>1</td>\n",
       "      <td>0</td>\n",
       "    </tr>\n",
       "    <tr>\n",
       "      <th>1</th>\n",
       "      <td>E01000009</td>\n",
       "      <td>Barking and Dagenham 016B</td>\n",
       "      <td>E09000002</td>\n",
       "      <td>1</td>\n",
       "      <td>0</td>\n",
       "      <td>0</td>\n",
       "      <td>1</td>\n",
       "      <td>0</td>\n",
       "      <td>0</td>\n",
       "      <td>0</td>\n",
       "      <td>...</td>\n",
       "      <td>1</td>\n",
       "      <td>1</td>\n",
       "      <td>0</td>\n",
       "      <td>0</td>\n",
       "      <td>0</td>\n",
       "      <td>0</td>\n",
       "      <td>1</td>\n",
       "      <td>0</td>\n",
       "      <td>0</td>\n",
       "      <td>0</td>\n",
       "    </tr>\n",
       "    <tr>\n",
       "      <th>2</th>\n",
       "      <td>E01000011</td>\n",
       "      <td>Barking and Dagenham 016C</td>\n",
       "      <td>E09000002</td>\n",
       "      <td>0</td>\n",
       "      <td>0</td>\n",
       "      <td>0</td>\n",
       "      <td>0</td>\n",
       "      <td>0</td>\n",
       "      <td>0</td>\n",
       "      <td>0</td>\n",
       "      <td>...</td>\n",
       "      <td>0</td>\n",
       "      <td>0</td>\n",
       "      <td>0</td>\n",
       "      <td>0</td>\n",
       "      <td>0</td>\n",
       "      <td>1</td>\n",
       "      <td>0</td>\n",
       "      <td>0</td>\n",
       "      <td>0</td>\n",
       "      <td>0</td>\n",
       "    </tr>\n",
       "    <tr>\n",
       "      <th>3</th>\n",
       "      <td>E01000012</td>\n",
       "      <td>Barking and Dagenham 015D</td>\n",
       "      <td>E09000002</td>\n",
       "      <td>0</td>\n",
       "      <td>0</td>\n",
       "      <td>0</td>\n",
       "      <td>1</td>\n",
       "      <td>0</td>\n",
       "      <td>0</td>\n",
       "      <td>2</td>\n",
       "      <td>...</td>\n",
       "      <td>0</td>\n",
       "      <td>0</td>\n",
       "      <td>0</td>\n",
       "      <td>1</td>\n",
       "      <td>0</td>\n",
       "      <td>0</td>\n",
       "      <td>1</td>\n",
       "      <td>0</td>\n",
       "      <td>0</td>\n",
       "      <td>0</td>\n",
       "    </tr>\n",
       "    <tr>\n",
       "      <th>4</th>\n",
       "      <td>E01000013</td>\n",
       "      <td>Barking and Dagenham 013A</td>\n",
       "      <td>E09000002</td>\n",
       "      <td>0</td>\n",
       "      <td>1</td>\n",
       "      <td>1</td>\n",
       "      <td>0</td>\n",
       "      <td>0</td>\n",
       "      <td>0</td>\n",
       "      <td>0</td>\n",
       "      <td>...</td>\n",
       "      <td>0</td>\n",
       "      <td>0</td>\n",
       "      <td>0</td>\n",
       "      <td>0</td>\n",
       "      <td>0</td>\n",
       "      <td>0</td>\n",
       "      <td>0</td>\n",
       "      <td>0</td>\n",
       "      <td>0</td>\n",
       "      <td>0</td>\n",
       "    </tr>\n",
       "    <tr>\n",
       "      <th>...</th>\n",
       "      <td>...</td>\n",
       "      <td>...</td>\n",
       "      <td>...</td>\n",
       "      <td>...</td>\n",
       "      <td>...</td>\n",
       "      <td>...</td>\n",
       "      <td>...</td>\n",
       "      <td>...</td>\n",
       "      <td>...</td>\n",
       "      <td>...</td>\n",
       "      <td>...</td>\n",
       "      <td>...</td>\n",
       "      <td>...</td>\n",
       "      <td>...</td>\n",
       "      <td>...</td>\n",
       "      <td>...</td>\n",
       "      <td>...</td>\n",
       "      <td>...</td>\n",
       "      <td>...</td>\n",
       "      <td>...</td>\n",
       "      <td>...</td>\n",
       "    </tr>\n",
       "    <tr>\n",
       "      <th>3883</th>\n",
       "      <td>E01035718</td>\n",
       "      <td>Westminster 019G</td>\n",
       "      <td>E09000033</td>\n",
       "      <td>6</td>\n",
       "      <td>1</td>\n",
       "      <td>1</td>\n",
       "      <td>1</td>\n",
       "      <td>2</td>\n",
       "      <td>1</td>\n",
       "      <td>2</td>\n",
       "      <td>...</td>\n",
       "      <td>0</td>\n",
       "      <td>1</td>\n",
       "      <td>4</td>\n",
       "      <td>3</td>\n",
       "      <td>2</td>\n",
       "      <td>1</td>\n",
       "      <td>4</td>\n",
       "      <td>8</td>\n",
       "      <td>3</td>\n",
       "      <td>3</td>\n",
       "    </tr>\n",
       "    <tr>\n",
       "      <th>3884</th>\n",
       "      <td>E01035719</td>\n",
       "      <td>Westminster 021F</td>\n",
       "      <td>E09000033</td>\n",
       "      <td>0</td>\n",
       "      <td>0</td>\n",
       "      <td>1</td>\n",
       "      <td>1</td>\n",
       "      <td>0</td>\n",
       "      <td>1</td>\n",
       "      <td>0</td>\n",
       "      <td>...</td>\n",
       "      <td>0</td>\n",
       "      <td>0</td>\n",
       "      <td>0</td>\n",
       "      <td>0</td>\n",
       "      <td>0</td>\n",
       "      <td>1</td>\n",
       "      <td>0</td>\n",
       "      <td>0</td>\n",
       "      <td>0</td>\n",
       "      <td>0</td>\n",
       "    </tr>\n",
       "    <tr>\n",
       "      <th>3885</th>\n",
       "      <td>E01035720</td>\n",
       "      <td>Westminster 021G</td>\n",
       "      <td>E09000033</td>\n",
       "      <td>1</td>\n",
       "      <td>0</td>\n",
       "      <td>2</td>\n",
       "      <td>0</td>\n",
       "      <td>0</td>\n",
       "      <td>0</td>\n",
       "      <td>1</td>\n",
       "      <td>...</td>\n",
       "      <td>0</td>\n",
       "      <td>1</td>\n",
       "      <td>0</td>\n",
       "      <td>0</td>\n",
       "      <td>1</td>\n",
       "      <td>1</td>\n",
       "      <td>0</td>\n",
       "      <td>0</td>\n",
       "      <td>1</td>\n",
       "      <td>2</td>\n",
       "    </tr>\n",
       "    <tr>\n",
       "      <th>3886</th>\n",
       "      <td>E01035721</td>\n",
       "      <td>Westminster 023H</td>\n",
       "      <td>E09000033</td>\n",
       "      <td>1</td>\n",
       "      <td>1</td>\n",
       "      <td>0</td>\n",
       "      <td>0</td>\n",
       "      <td>1</td>\n",
       "      <td>1</td>\n",
       "      <td>0</td>\n",
       "      <td>...</td>\n",
       "      <td>0</td>\n",
       "      <td>0</td>\n",
       "      <td>1</td>\n",
       "      <td>2</td>\n",
       "      <td>1</td>\n",
       "      <td>0</td>\n",
       "      <td>0</td>\n",
       "      <td>1</td>\n",
       "      <td>0</td>\n",
       "      <td>1</td>\n",
       "    </tr>\n",
       "    <tr>\n",
       "      <th>3887</th>\n",
       "      <td>E01035722</td>\n",
       "      <td>Westminster 024G</td>\n",
       "      <td>E09000033</td>\n",
       "      <td>0</td>\n",
       "      <td>0</td>\n",
       "      <td>2</td>\n",
       "      <td>0</td>\n",
       "      <td>0</td>\n",
       "      <td>1</td>\n",
       "      <td>0</td>\n",
       "      <td>...</td>\n",
       "      <td>0</td>\n",
       "      <td>0</td>\n",
       "      <td>0</td>\n",
       "      <td>0</td>\n",
       "      <td>0</td>\n",
       "      <td>0</td>\n",
       "      <td>0</td>\n",
       "      <td>0</td>\n",
       "      <td>3</td>\n",
       "      <td>1</td>\n",
       "    </tr>\n",
       "  </tbody>\n",
       "</table>\n",
       "<p>3888 rows × 27 columns</p>\n",
       "</div>"
      ],
      "text/plain": [
       "      LSOA Code                  LSOA Name    Borough  202210  202211  202212  \\\n",
       "0     E01000007  Barking and Dagenham 015A  E09000002       0       2       0   \n",
       "1     E01000009  Barking and Dagenham 016B  E09000002       1       0       0   \n",
       "2     E01000011  Barking and Dagenham 016C  E09000002       0       0       0   \n",
       "3     E01000012  Barking and Dagenham 015D  E09000002       0       0       0   \n",
       "4     E01000013  Barking and Dagenham 013A  E09000002       0       1       1   \n",
       "...         ...                        ...        ...     ...     ...     ...   \n",
       "3883  E01035718           Westminster 019G  E09000033       6       1       1   \n",
       "3884  E01035719           Westminster 021F  E09000033       0       0       1   \n",
       "3885  E01035720           Westminster 021G  E09000033       1       0       2   \n",
       "3886  E01035721           Westminster 023H  E09000033       1       1       0   \n",
       "3887  E01035722           Westminster 024G  E09000033       0       0       2   \n",
       "\n",
       "      202301  202302  202303  202304  ...  202312  202401  202402  202403  \\\n",
       "0          0       2       0       0  ...       0       1       1       0   \n",
       "1          1       0       0       0  ...       1       1       0       0   \n",
       "2          0       0       0       0  ...       0       0       0       0   \n",
       "3          1       0       0       2  ...       0       0       0       1   \n",
       "4          0       0       0       0  ...       0       0       0       0   \n",
       "...      ...     ...     ...     ...  ...     ...     ...     ...     ...   \n",
       "3883       1       2       1       2  ...       0       1       4       3   \n",
       "3884       1       0       1       0  ...       0       0       0       0   \n",
       "3885       0       0       0       1  ...       0       1       0       0   \n",
       "3886       0       1       1       0  ...       0       0       1       2   \n",
       "3887       0       0       1       0  ...       0       0       0       0   \n",
       "\n",
       "      202404  202405  202406  202407  202408  202409  \n",
       "0          1       0       0       0       1       0  \n",
       "1          0       0       1       0       0       0  \n",
       "2          0       1       0       0       0       0  \n",
       "3          0       0       1       0       0       0  \n",
       "4          0       0       0       0       0       0  \n",
       "...      ...     ...     ...     ...     ...     ...  \n",
       "3883       2       1       4       8       3       3  \n",
       "3884       0       1       0       0       0       0  \n",
       "3885       1       1       0       0       1       2  \n",
       "3886       1       0       0       1       0       1  \n",
       "3887       0       0       0       0       3       1  \n",
       "\n",
       "[3888 rows x 27 columns]"
      ]
     },
     "execution_count": 3,
     "metadata": {},
     "output_type": "execute_result"
    }
   ],
   "source": [
    "bikeTheftData = pd.read_csv('bike_theft.csv')\n",
    "bikeTheftData"
   ]
  },
  {
   "cell_type": "code",
   "execution_count": 4,
   "metadata": {},
   "outputs": [
    {
     "data": {
      "text/html": [
       "<div>\n",
       "<style scoped>\n",
       "    .dataframe tbody tr th:only-of-type {\n",
       "        vertical-align: middle;\n",
       "    }\n",
       "\n",
       "    .dataframe tbody tr th {\n",
       "        vertical-align: top;\n",
       "    }\n",
       "\n",
       "    .dataframe thead th {\n",
       "        text-align: right;\n",
       "    }\n",
       "</style>\n",
       "<table border=\"1\" class=\"dataframe\">\n",
       "  <thead>\n",
       "    <tr style=\"text-align: right;\">\n",
       "      <th></th>\n",
       "      <th>LSOA Code</th>\n",
       "      <th>LSOA Name</th>\n",
       "      <th>Borough</th>\n",
       "      <th>Total</th>\n",
       "    </tr>\n",
       "  </thead>\n",
       "  <tbody>\n",
       "    <tr>\n",
       "      <th>0</th>\n",
       "      <td>E01000007</td>\n",
       "      <td>Barking and Dagenham 015A</td>\n",
       "      <td>E09000002</td>\n",
       "      <td>15</td>\n",
       "    </tr>\n",
       "    <tr>\n",
       "      <th>1</th>\n",
       "      <td>E01000009</td>\n",
       "      <td>Barking and Dagenham 016B</td>\n",
       "      <td>E09000002</td>\n",
       "      <td>5</td>\n",
       "    </tr>\n",
       "    <tr>\n",
       "      <th>2</th>\n",
       "      <td>E01000011</td>\n",
       "      <td>Barking and Dagenham 016C</td>\n",
       "      <td>E09000002</td>\n",
       "      <td>1</td>\n",
       "    </tr>\n",
       "    <tr>\n",
       "      <th>3</th>\n",
       "      <td>E01000012</td>\n",
       "      <td>Barking and Dagenham 015D</td>\n",
       "      <td>E09000002</td>\n",
       "      <td>5</td>\n",
       "    </tr>\n",
       "    <tr>\n",
       "      <th>4</th>\n",
       "      <td>E01000013</td>\n",
       "      <td>Barking and Dagenham 013A</td>\n",
       "      <td>E09000002</td>\n",
       "      <td>3</td>\n",
       "    </tr>\n",
       "    <tr>\n",
       "      <th>...</th>\n",
       "      <td>...</td>\n",
       "      <td>...</td>\n",
       "      <td>...</td>\n",
       "      <td>...</td>\n",
       "    </tr>\n",
       "    <tr>\n",
       "      <th>3883</th>\n",
       "      <td>E01035718</td>\n",
       "      <td>Westminster 019G</td>\n",
       "      <td>E09000033</td>\n",
       "      <td>69</td>\n",
       "    </tr>\n",
       "    <tr>\n",
       "      <th>3884</th>\n",
       "      <td>E01035719</td>\n",
       "      <td>Westminster 021F</td>\n",
       "      <td>E09000033</td>\n",
       "      <td>6</td>\n",
       "    </tr>\n",
       "    <tr>\n",
       "      <th>3885</th>\n",
       "      <td>E01035720</td>\n",
       "      <td>Westminster 021G</td>\n",
       "      <td>E09000033</td>\n",
       "      <td>14</td>\n",
       "    </tr>\n",
       "    <tr>\n",
       "      <th>3886</th>\n",
       "      <td>E01035721</td>\n",
       "      <td>Westminster 023H</td>\n",
       "      <td>E09000033</td>\n",
       "      <td>18</td>\n",
       "    </tr>\n",
       "    <tr>\n",
       "      <th>3887</th>\n",
       "      <td>E01035722</td>\n",
       "      <td>Westminster 024G</td>\n",
       "      <td>E09000033</td>\n",
       "      <td>10</td>\n",
       "    </tr>\n",
       "  </tbody>\n",
       "</table>\n",
       "<p>3888 rows × 4 columns</p>\n",
       "</div>"
      ],
      "text/plain": [
       "      LSOA Code                  LSOA Name    Borough  Total\n",
       "0     E01000007  Barking and Dagenham 015A  E09000002     15\n",
       "1     E01000009  Barking and Dagenham 016B  E09000002      5\n",
       "2     E01000011  Barking and Dagenham 016C  E09000002      1\n",
       "3     E01000012  Barking and Dagenham 015D  E09000002      5\n",
       "4     E01000013  Barking and Dagenham 013A  E09000002      3\n",
       "...         ...                        ...        ...    ...\n",
       "3883  E01035718           Westminster 019G  E09000033     69\n",
       "3884  E01035719           Westminster 021F  E09000033      6\n",
       "3885  E01035720           Westminster 021G  E09000033     14\n",
       "3886  E01035721           Westminster 023H  E09000033     18\n",
       "3887  E01035722           Westminster 024G  E09000033     10\n",
       "\n",
       "[3888 rows x 4 columns]"
      ]
     },
     "execution_count": 4,
     "metadata": {},
     "output_type": "execute_result"
    }
   ],
   "source": [
    "month_columns = bikeTheftData.columns[3:] \n",
    "bikeTheftData[month_columns] = bikeTheftData[month_columns].apply(pd.to_numeric, errors='coerce')\n",
    "bikeTheftData['Total'] = bikeTheftData[month_columns].sum(axis=1)\n",
    "NewBikeTheftData = bikeTheftData[['LSOA Code','LSOA Name','Borough','Total']]\n",
    "##NewBikeTheftData.to_csv('bikeTheftDataTotal.csv', index=False)\n",
    "NewBikeTheftData"
   ]
  },
  {
   "cell_type": "code",
   "execution_count": 5,
   "metadata": {},
   "outputs": [
    {
     "data": {
      "text/html": [
       "<div>\n",
       "<style scoped>\n",
       "    .dataframe tbody tr th:only-of-type {\n",
       "        vertical-align: middle;\n",
       "    }\n",
       "\n",
       "    .dataframe tbody tr th {\n",
       "        vertical-align: top;\n",
       "    }\n",
       "\n",
       "    .dataframe thead th {\n",
       "        text-align: right;\n",
       "    }\n",
       "</style>\n",
       "<table border=\"1\" class=\"dataframe\">\n",
       "  <thead>\n",
       "    <tr style=\"text-align: right;\">\n",
       "      <th></th>\n",
       "      <th>Total</th>\n",
       "      <th>Times</th>\n",
       "    </tr>\n",
       "  </thead>\n",
       "  <tbody>\n",
       "    <tr>\n",
       "      <th>0</th>\n",
       "      <td>1</td>\n",
       "      <td>835</td>\n",
       "    </tr>\n",
       "    <tr>\n",
       "      <th>1</th>\n",
       "      <td>2</td>\n",
       "      <td>524</td>\n",
       "    </tr>\n",
       "    <tr>\n",
       "      <th>2</th>\n",
       "      <td>3</td>\n",
       "      <td>427</td>\n",
       "    </tr>\n",
       "    <tr>\n",
       "      <th>3</th>\n",
       "      <td>4</td>\n",
       "      <td>339</td>\n",
       "    </tr>\n",
       "    <tr>\n",
       "      <th>4</th>\n",
       "      <td>5</td>\n",
       "      <td>244</td>\n",
       "    </tr>\n",
       "    <tr>\n",
       "      <th>...</th>\n",
       "      <td>...</td>\n",
       "      <td>...</td>\n",
       "    </tr>\n",
       "    <tr>\n",
       "      <th>90</th>\n",
       "      <td>148</td>\n",
       "      <td>1</td>\n",
       "    </tr>\n",
       "    <tr>\n",
       "      <th>91</th>\n",
       "      <td>163</td>\n",
       "      <td>1</td>\n",
       "    </tr>\n",
       "    <tr>\n",
       "      <th>92</th>\n",
       "      <td>192</td>\n",
       "      <td>1</td>\n",
       "    </tr>\n",
       "    <tr>\n",
       "      <th>93</th>\n",
       "      <td>196</td>\n",
       "      <td>1</td>\n",
       "    </tr>\n",
       "    <tr>\n",
       "      <th>94</th>\n",
       "      <td>371</td>\n",
       "      <td>1</td>\n",
       "    </tr>\n",
       "  </tbody>\n",
       "</table>\n",
       "<p>95 rows × 2 columns</p>\n",
       "</div>"
      ],
      "text/plain": [
       "    Total  Times\n",
       "0       1    835\n",
       "1       2    524\n",
       "2       3    427\n",
       "3       4    339\n",
       "4       5    244\n",
       "..    ...    ...\n",
       "90    148      1\n",
       "91    163      1\n",
       "92    192      1\n",
       "93    196      1\n",
       "94    371      1\n",
       "\n",
       "[95 rows x 2 columns]"
      ]
     },
     "execution_count": 5,
     "metadata": {},
     "output_type": "execute_result"
    }
   ],
   "source": [
    "NewBikeTheftData.loc[:, 'Total'] = pd.to_numeric(NewBikeTheftData['Total'], errors='coerce')\n",
    "totalCounts = NewBikeTheftData['Total'].value_counts().reset_index()\n",
    "totalCounts.columns = ['Total', 'Times']  \n",
    "totalCounts = totalCounts.sort_values(by='Total').reset_index(drop=True)\n",
    "totalCounts.to_csv('totalCounts.csv',index=False)\n",
    "totalCounts"
   ]
  },
  {
   "cell_type": "code",
   "execution_count": 6,
   "metadata": {},
   "outputs": [
    {
     "name": "stderr",
     "output_type": "stream",
     "text": [
      "Skipping field alternative_names: unsupported OGR type: 5\n"
     ]
    },
    {
     "name": "stdout",
     "output_type": "stream",
     "text": [
      "{\"features\":[{\"geometry\":{\"coordinates\":[[[[0.07776794800003,51.54279273600008],[0.079675463000058,51.541342532000044],[0.080280203000029,51.541699824000034],[0.080700684000021,51.54111682300004],[0.08212934900007,51.54082170000004],[0.083151964000024,51.54110930100006],[0.083208782000042,51.54109030600006],[0.083049039000059,51.54068504900005],[0.082095272000061,51.539905254000075],[0.081361417000039,51.53930711500004],[0.080664973000069,51.53875235400005],[0.079467296000075,51.539326233000054],[0.07871401400007,51.53961397000006],[0.078354613000045,51.53947034200007],[0.07805268900006,51.53933821800007],[0.077537551000034,51.539743024000074],[0.07735169800003,51.53967755000008],[0.076986119000026,51.53953282200007],[0.077734126000053,51.53915908400006],[0.076541118000023,51.53863876500003],[0.075529503000041,51.538403189000064],[0.075246027000048,51.53950226300003],[0.074758788000054,51.53939942300008],[0.073640867000051,51.53887116400006],[0.073069463000024,51.538789535000035],[0.072995824000031,51.53912681600008],[0.071935697000072,51.53896343700006],[0.07219567900006,51.54002724500003],[0.072978068000054,51.54018155400007],[0.072743704000061,51.54078235800006],[0.072650671000019,51.54143411300004],[0.073525633000031,51.54190032200006],[0.073878916000069,51.54155379100007],[0.075387853000052,51.54222167800003],[0.077624,51.541227097000046],[0.07785902300003,51.541418977000035],[0.077056890000051,51.54185585000005],[0.077144246000046,51.54256619900008],[0.07776794800003,51.54279273600008]]]],\"type\":\"MultiPolygon\"},\"properties\":{\"active\":true,\"alternative_names\":[\"Barking and Dagenham 015A\"],\"areachect\":20.0,\"areaehect\":20.0,\"areaihect\":0.0,\"arealhect\":20.0,\"child_count\":11,\"child_counts\":{\"oa21\":11},\"code\":\"E01000007\",\"date_end\":null,\"date_start\":\"Sun, 01 Feb 2004 00:00:00 GMT\",\"entity\":\"E01\",\"equivalents\":{},\"name\":\"Barking and Dagenham 015A\",\"name_welsh\":null,\"owner\":\"ONS\",\"parent\":\"E02000016\",\"predecessor\":[],\"sort_order\":\"E01000007\",\"stats\":{\"idaci2015\":{\"idaci_decile\":2,\"idaci_rank\":3493,\"idaci_score\":0.38},\"idaci2019\":{\"idaci_decile\":3,\"idaci_rank\":6750,\"idaci_score\":0.253},\"idaopi2015\":{\"idaopi_decile\":2,\"idaopi_rank\":3680,\"idaopi_score\":0.356},\"idaopi2019\":{\"idaopi_decile\":1,\"idaopi_rank\":2514,\"idaopi_score\":0.371},\"imd2015\":{\"imd_crime_decile\":1,\"imd_crime_rank\":2233,\"imd_crime_score\":1.156,\"imd_decile\":2,\"imd_education_adults_decile\":7,\"imd_education_adults_rank\":21531,\"imd_education_adults_score\":0.251,\"imd_education_children_decile\":7,\"imd_education_children_rank\":21697,\"imd_education_children_score\":-0.35,\"imd_education_decile\":7,\"imd_education_rank\":22384,\"imd_education_score\":9.471,\"imd_employment_decile\":2,\"imd_employment_rank\":4952,\"imd_employment_score\":0.202,\"imd_environment_decile\":3,\"imd_environment_indoors_decile\":4,\"imd_environment_indoors_rank\":11759,\"imd_environment_indoors_score\":0.322,\"imd_environment_outdoors_rank\":1,\"imd_environment_outdoors_score\":1.279,\"imd_environment_rank\":6783,\"imd_environment_score\":34.438,\"imd_health_decile\":4,\"imd_health_rank\":12549,\"imd_health_score\":0.251,\"imd_housing_decile\":1,\"imd_housing_geographical_decile\":7,\"imd_housing_geographical_rank\":20738,\"imd_housing_geographical_score\":-0.284,\"imd_housing_rank\":56,\"imd_housing_score\":54.628,\"imd_housing_wider_decile\":1,\"imd_housing_wider_rank\":23,\"imd_housing_wider_score\":6.752,\"imd_income_decile\":2,\"imd_income_rank\":3337,\"imd_income_score\":0.3,\"imd_rank\":3778,\"imd_score\":42.513},\"imd2019\":{\"imd_crime_decile\":2,\"imd_crime_rank\":4925,\"imd_crime_score\":0.846,\"imd_decile\":3,\"imd_education_adults_decile\":7,\"imd_education_adults_rank\":21531,\"imd_education_adults_score\":0.251,\"imd_education_children_decile\":6,\"imd_education_children_rank\":18304,\"imd_education_children_score\":-0.133,\"imd_education_decile\":7,\"imd_education_rank\":20536,\"imd_education_score\":11.385,\"imd_employment_decile\":4,\"imd_employment_rank\":11487,\"imd_employment_score\":0.107,\"imd_environment_decile\":4,\"imd_environment_indoors_decile\":7,\"imd_environment_indoors_rank\":20820,\"imd_environment_indoors_score\":-0.28,\"imd_environment_outdoors_rank\":1,\"imd_environment_outdoors_score\":1.324,\"imd_environment_rank\":11162,\"imd_environment_score\":25.995,\"imd_health_decile\":5,\"imd_health_rank\":16414,\"imd_health_score\":-0.027,\"imd_housing_decile\":1,\"imd_housing_geographical_decile\":9,\"imd_housing_geographical_rank\":29432,\"imd_housing_geographical_score\":-0.951,\"imd_housing_rank\":274,\"imd_housing_score\":50.42,\"imd_housing_wider_decile\":1,\"imd_housing_wider_rank\":33,\"imd_housing_wider_score\":6.897,\"imd_income_decile\":2,\"imd_income_rank\":6261,\"imd_income_score\":0.207,\"imd_rank\":7256,\"imd_score\":31.576},\"population2012\":{\"population_0_15\":372,\"population_16_59\":1003,\"population_60_plus\":103,\"population_total\":1478,\"population_workingage\":979},\"population2015\":{\"population_0_15\":572,\"population_16_59\":1424,\"population_60_plus\":105,\"population_total\":2101,\"population_workingage\":1404}},\"statutory_instrument_id\":null,\"statutory_instrument_title\":null,\"successor\":[]},\"type\":\"Feature\"}],\"type\":\"FeatureCollection\"}\n",
      "\n"
     ]
    },
    {
     "name": "stderr",
     "output_type": "stream",
     "text": [
      "Skipping field alternative_names: unsupported OGR type: 5\n"
     ]
    },
    {
     "name": "stdout",
     "output_type": "stream",
     "text": [
      "{\"features\":[{\"geometry\":{\"coordinates\":[[[[0.082373410000059,51.54274511700004],[0.084212875000048,51.54182709300005],[0.084773583000072,51.54249525800003],[0.086445629000025,51.54179862700005],[0.086482384000021,51.54177737100008],[0.086148346000073,51.54154002900003],[0.086525940000058,51.541252963000034],[0.085096458000066,51.540358422000054],[0.086809593000055,51.53944577100003],[0.086217349000037,51.53901528800003],[0.085800805000019,51.53917990700006],[0.084945093000044,51.53852164300008],[0.085341186000051,51.53836255700003],[0.085146480000049,51.53815551400004],[0.084998746000053,51.53789744900007],[0.081585275000066,51.53912812600004],[0.081361417000039,51.53930711500004],[0.082095272000061,51.539905254000075],[0.083049039000059,51.54068504900005],[0.083208782000042,51.54109030600006],[0.083151964000024,51.54110930100006],[0.08212934900007,51.54082170000004],[0.080700684000021,51.54111682300004],[0.080280203000029,51.541699824000034],[0.080537461000063,51.54189986700004],[0.081049068000027,51.54224424700004],[0.081387989000063,51.542077894000045],[0.082373410000059,51.54274511700004]]]],\"type\":\"MultiPolygon\"},\"properties\":{\"active\":true,\"alternative_names\":[\"Barking and Dagenham 016B\"],\"areachect\":12.79,\"areaehect\":12.79,\"areaihect\":0.0,\"arealhect\":12.79,\"child_count\":5,\"child_counts\":{\"oa21\":5},\"code\":\"E01000009\",\"date_end\":null,\"date_start\":\"Sun, 01 Feb 2004 00:00:00 GMT\",\"entity\":\"E01\",\"equivalents\":{},\"name\":\"Barking and Dagenham 016B\",\"name_welsh\":null,\"owner\":\"ONS\",\"parent\":\"E02000017\",\"predecessor\":[],\"sort_order\":\"E01000009\",\"stats\":{\"idaci2015\":{\"idaci_decile\":3,\"idaci_rank\":7497,\"idaci_score\":0.283},\"idaci2019\":{\"idaci_decile\":4,\"idaci_rank\":10487,\"idaci_score\":0.194},\"idaopi2015\":{\"idaopi_decile\":1,\"idaopi_rank\":2821,\"idaopi_score\":0.385},\"idaopi2019\":{\"idaopi_decile\":1,\"idaopi_rank\":2238,\"idaopi_score\":0.383},\"imd2015\":{\"imd_crime_decile\":1,\"imd_crime_rank\":2340,\"imd_crime_score\":1.139,\"imd_decile\":3,\"imd_education_adults_decile\":6,\"imd_education_adults_rank\":18554,\"imd_education_adults_score\":0.277,\"imd_education_children_decile\":6,\"imd_education_children_rank\":18431,\"imd_education_children_score\":-0.134,\"imd_education_decile\":6,\"imd_education_rank\":19103,\"imd_education_score\":12.983,\"imd_employment_decile\":4,\"imd_employment_rank\":10781,\"imd_employment_score\":0.134,\"imd_environment_decile\":3,\"imd_environment_indoors_decile\":3,\"imd_environment_indoors_rank\":9427,\"imd_environment_indoors_score\":0.494,\"imd_environment_outdoors_rank\":2,\"imd_environment_outdoors_score\":1.027,\"imd_environment_rank\":6758,\"imd_environment_score\":34.481,\"imd_health_decile\":3,\"imd_health_rank\":9107,\"imd_health_score\":0.526,\"imd_housing_decile\":1,\"imd_housing_geographical_decile\":9,\"imd_housing_geographical_rank\":26642,\"imd_housing_geographical_score\":-0.688,\"imd_housing_rank\":1597,\"imd_housing_score\":42.047,\"imd_housing_wider_decile\":1,\"imd_housing_wider_rank\":627,\"imd_housing_wider_score\":5.303,\"imd_income_decile\":3,\"imd_income_rank\":7136,\"imd_income_score\":0.219,\"imd_rank\":6750,\"imd_score\":33.412},\"imd2019\":{\"imd_crime_decile\":2,\"imd_crime_rank\":4431,\"imd_crime_score\":0.895,\"imd_decile\":3,\"imd_education_adults_decile\":6,\"imd_education_adults_rank\":18554,\"imd_education_adults_score\":0.277,\"imd_education_children_decile\":5,\"imd_education_children_rank\":14445,\"imd_education_children_score\":0.101,\"imd_education_decile\":6,\"imd_education_rank\":16819,\"imd_education_score\":15.713,\"imd_employment_decile\":4,\"imd_employment_rank\":11132,\"imd_employment_score\":0.109,\"imd_environment_decile\":3,\"imd_environment_indoors_decile\":6,\"imd_environment_indoors_rank\":18146,\"imd_environment_indoors_score\":-0.107,\"imd_environment_outdoors_rank\":1,\"imd_environment_outdoors_score\":1.37,\"imd_environment_rank\":9611,\"imd_environment_score\":28.601,\"imd_health_decile\":3,\"imd_health_rank\":9661,\"imd_health_score\":0.454,\"imd_housing_decile\":1,\"imd_housing_geographical_decile\":10,\"imd_housing_geographical_rank\":31919,\"imd_housing_geographical_score\":-1.424,\"imd_housing_rank\":554,\"imd_housing_score\":48.119,\"imd_housing_wider_decile\":1,\"imd_housing_wider_rank\":92,\"imd_housing_wider_score\":6.643,\"imd_income_decile\":3,\"imd_income_rank\":7506,\"imd_income_score\":0.187,\"imd_rank\":6736,\"imd_score\":32.844},\"population2012\":{\"population_0_15\":340,\"population_16_59\":1257,\"population_60_plus\":242,\"population_total\":1839,\"population_workingage\":1233},\"population2015\":{\"population_0_15\":356,\"population_16_59\":1190,\"population_60_plus\":229,\"population_total\":1775,\"population_workingage\":1217}},\"statutory_instrument_id\":null,\"statutory_instrument_title\":null,\"successor\":[]},\"type\":\"Feature\"}],\"type\":\"FeatureCollection\"}\n",
      "\n"
     ]
    },
    {
     "name": "stderr",
     "output_type": "stream",
     "text": [
      "Skipping field alternative_names: unsupported OGR type: 5\n"
     ]
    },
    {
     "name": "stdout",
     "output_type": "stream",
     "text": [
      "{\"features\":[{\"geometry\":{\"coordinates\":[[[[0.082747715000039,51.54349991700008],[0.084773583000072,51.54249525800003],[0.084212875000048,51.54182709300005],[0.082373410000059,51.54274511700004],[0.081387989000063,51.542077894000045],[0.081049068000027,51.54224424700004],[0.080537461000063,51.54189986700004],[0.080280203000029,51.541699824000034],[0.079675463000058,51.541342532000044],[0.07776794800003,51.54279273600008],[0.07866862000003,51.543277663000026],[0.078664697000022,51.54357334300005],[0.077974786000027,51.54408990100006],[0.079404737000061,51.544583243000034],[0.080136689000028,51.544795785000076],[0.082747715000039,51.54349991700008]]]],\"type\":\"MultiPolygon\"},\"properties\":{\"active\":true,\"alternative_names\":[\"Barking and Dagenham 016C\"],\"areachect\":9.17,\"areaehect\":9.17,\"areaihect\":0.0,\"arealhect\":9.17,\"child_count\":4,\"child_counts\":{\"oa21\":4},\"code\":\"E01000011\",\"date_end\":null,\"date_start\":\"Sun, 01 Feb 2004 00:00:00 GMT\",\"entity\":\"E01\",\"equivalents\":{},\"name\":\"Barking and Dagenham 016C\",\"name_welsh\":null,\"owner\":\"ONS\",\"parent\":\"E02000017\",\"predecessor\":[],\"sort_order\":\"E01000011\",\"stats\":{\"idaci2015\":{\"idaci_decile\":3,\"idaci_rank\":6907,\"idaci_score\":0.295},\"idaci2019\":{\"idaci_decile\":4,\"idaci_rank\":10815,\"idaci_score\":0.189},\"idaopi2015\":{\"idaopi_decile\":1,\"idaopi_rank\":2645,\"idaopi_score\":0.392},\"idaopi2019\":{\"idaopi_decile\":1,\"idaopi_rank\":2747,\"idaopi_score\":0.362},\"imd2015\":{\"imd_crime_decile\":2,\"imd_crime_rank\":4880,\"imd_crime_score\":0.838,\"imd_decile\":3,\"imd_education_adults_decile\":4,\"imd_education_adults_rank\":12319,\"imd_education_adults_score\":0.334,\"imd_education_children_decile\":5,\"imd_education_children_rank\":14659,\"imd_education_children_score\":0.099,\"imd_education_decile\":5,\"imd_education_rank\":13663,\"imd_education_score\":20.128,\"imd_employment_decile\":5,\"imd_employment_rank\":15348,\"imd_employment_score\":0.102,\"imd_environment_decile\":3,\"imd_environment_indoors_decile\":3,\"imd_environment_indoors_rank\":8810,\"imd_environment_indoors_score\":0.545,\"imd_environment_outdoors_rank\":2,\"imd_environment_outdoors_score\":0.705,\"imd_environment_rank\":7930,\"imd_environment_score\":31.691,\"imd_health_decile\":6,\"imd_health_rank\":16698,\"imd_health_score\":-0.04,\"imd_housing_decile\":1,\"imd_housing_geographical_decile\":6,\"imd_housing_geographical_rank\":19144,\"imd_housing_geographical_score\":-0.189,\"imd_housing_rank\":525,\"imd_housing_score\":48.123,\"imd_housing_wider_decile\":1,\"imd_housing_wider_rank\":432,\"imd_housing_wider_score\":5.527,\"imd_income_decile\":3,\"imd_income_rank\":8170,\"imd_income_score\":0.203,\"imd_rank\":8209,\"imd_score\":30.071},\"imd2019\":{\"imd_crime_decile\":3,\"imd_crime_rank\":8727,\"imd_crime_score\":0.526,\"imd_decile\":3,\"imd_education_adults_decile\":4,\"imd_education_adults_rank\":12319,\"imd_education_adults_score\":0.334,\"imd_education_children_decile\":4,\"imd_education_children_rank\":11826,\"imd_education_children_score\":0.273,\"imd_education_decile\":4,\"imd_education_rank\":12224,\"imd_education_score\":22.519,\"imd_employment_decile\":5,\"imd_employment_rank\":16108,\"imd_employment_score\":0.081,\"imd_environment_decile\":2,\"imd_environment_indoors_decile\":3,\"imd_environment_indoors_rank\":7302,\"imd_environment_indoors_score\":0.652,\"imd_environment_outdoors_rank\":1,\"imd_environment_outdoors_score\":1.195,\"imd_environment_rank\":4309,\"imd_environment_score\":39.857,\"imd_health_decile\":6,\"imd_health_rank\":18178,\"imd_health_score\":-0.137,\"imd_housing_decile\":1,\"imd_housing_geographical_decile\":7,\"imd_housing_geographical_rank\":21499,\"imd_housing_geographical_score\":-0.337,\"imd_housing_rank\":110,\"imd_housing_score\":52.948,\"imd_housing_wider_decile\":1,\"imd_housing_wider_rank\":76,\"imd_housing_wider_score\":6.689,\"imd_income_decile\":3,\"imd_income_rank\":9033,\"imd_income_score\":0.167,\"imd_rank\":7698,\"imd_score\":30.679},\"population2012\":{\"population_0_15\":369,\"population_16_59\":1162,\"population_60_plus\":148,\"population_total\":1679,\"population_workingage\":1128},\"population2015\":{\"population_0_15\":408,\"population_16_59\":1079,\"population_60_plus\":183,\"population_total\":1670,\"population_workingage\":1074}},\"statutory_instrument_id\":null,\"statutory_instrument_title\":null,\"successor\":[]},\"type\":\"Feature\"}],\"type\":\"FeatureCollection\"}\n",
      "\n"
     ]
    },
    {
     "name": "stderr",
     "output_type": "stream",
     "text": [
      "Skipping field alternative_names: unsupported OGR type: 5\n"
     ]
    },
    {
     "name": "stdout",
     "output_type": "stream",
     "text": [
      "{\"features\":[{\"geometry\":{\"coordinates\":[[[[0.078664697000022,51.54357334300005],[0.07866862000003,51.543277663000026],[0.07776794800003,51.54279273600008],[0.077144246000046,51.54256619900008],[0.077056890000051,51.54185585000005],[0.07785902300003,51.541418977000035],[0.077624,51.541227097000046],[0.075387853000052,51.54222167800003],[0.073878916000069,51.54155379100007],[0.073525633000031,51.54190032200006],[0.073225631000071,51.54221485900007],[0.072319942000036,51.541661075000036],[0.071381955000049,51.54169538000008],[0.071715335000022,51.541797633000044],[0.070611339000038,51.542371238000044],[0.069924799000034,51.54214951400007],[0.069243143000051,51.541678078000075],[0.068928163000066,51.54206196500007],[0.069337808000057,51.54252461400006],[0.069266699000025,51.54331379900003],[0.06942487200007,51.54371620400008],[0.069713462000038,51.54396152500004],[0.069711435000045,51.54406607900006],[0.069711369000061,51.54406953700004],[0.070909249000067,51.54382845500004],[0.07148442600004,51.54364115700008],[0.074378609000064,51.543895545000055],[0.07682776300004,51.54459052700008],[0.077552428000047,51.544533768000065],[0.077974786000027,51.54408990100006],[0.078664697000022,51.54357334300005]]]],\"type\":\"MultiPolygon\"},\"properties\":{\"active\":true,\"alternative_names\":[\"Barking and Dagenham 015D\"],\"areachect\":13.9,\"areaehect\":14.37,\"areaihect\":0.0,\"arealhect\":13.9,\"child_count\":7,\"child_counts\":{\"oa21\":7},\"code\":\"E01000012\",\"date_end\":null,\"date_start\":\"Sun, 01 Feb 2004 00:00:00 GMT\",\"entity\":\"E01\",\"equivalents\":{},\"name\":\"Barking and Dagenham 015D\",\"name_welsh\":null,\"owner\":\"ONS\",\"parent\":\"E02000016\",\"predecessor\":[],\"sort_order\":\"E01000012\",\"stats\":{\"idaci2015\":{\"idaci_decile\":2,\"idaci_rank\":4709,\"idaci_score\":0.346},\"idaci2019\":{\"idaci_decile\":2,\"idaci_rank\":4419,\"idaci_score\":0.299},\"idaopi2015\":{\"idaopi_decile\":1,\"idaopi_rank\":2532,\"idaopi_score\":0.395},\"idaopi2019\":{\"idaopi_decile\":2,\"idaopi_rank\":3554,\"idaopi_score\":0.331},\"imd2015\":{\"imd_crime_decile\":2,\"imd_crime_rank\":4153,\"imd_crime_score\":0.915,\"imd_decile\":2,\"imd_education_adults_decile\":6,\"imd_education_adults_rank\":17915,\"imd_education_adults_score\":0.283,\"imd_education_children_decile\":3,\"imd_education_children_rank\":9568,\"imd_education_children_score\":0.439,\"imd_education_decile\":5,\"imd_education_rank\":13286,\"imd_education_score\":20.676,\"imd_employment_decile\":4,\"imd_employment_rank\":12035,\"imd_employment_score\":0.124,\"imd_environment_decile\":2,\"imd_environment_indoors_decile\":2,\"imd_environment_indoors_rank\":4492,\"imd_environment_indoors_score\":0.958,\"imd_environment_outdoors_rank\":2,\"imd_environment_outdoors_score\":0.992,\"imd_environment_rank\":3395,\"imd_environment_score\":44.706,\"imd_health_decile\":6,\"imd_health_rank\":17852,\"imd_health_score\":-0.114,\"imd_housing_decile\":1,\"imd_housing_geographical_decile\":6,\"imd_housing_geographical_rank\":19397,\"imd_housing_geographical_score\":-0.205,\"imd_housing_rank\":100,\"imd_housing_score\":52.981,\"imd_housing_wider_decile\":1,\"imd_housing_wider_rank\":128,\"imd_housing_wider_score\":6.037,\"imd_income_decile\":2,\"imd_income_rank\":4886,\"imd_income_score\":0.263,\"imd_rank\":5475,\"imd_score\":36.91},\"imd2019\":{\"imd_crime_decile\":3,\"imd_crime_rank\":8515,\"imd_crime_score\":0.542,\"imd_decile\":2,\"imd_education_adults_decile\":6,\"imd_education_adults_rank\":17915,\"imd_education_adults_score\":0.283,\"imd_education_children_decile\":4,\"imd_education_children_rank\":10384,\"imd_education_children_score\":0.378,\"imd_education_decile\":5,\"imd_education_rank\":13896,\"imd_education_score\":19.774,\"imd_employment_decile\":5,\"imd_employment_rank\":13201,\"imd_employment_score\":0.096,\"imd_environment_decile\":2,\"imd_environment_indoors_decile\":4,\"imd_environment_indoors_rank\":10072,\"imd_environment_indoors_score\":0.433,\"imd_environment_outdoors_rank\":1,\"imd_environment_outdoors_score\":1.331,\"imd_environment_rank\":5437,\"imd_environment_score\":36.881,\"imd_health_decile\":6,\"imd_health_rank\":16887,\"imd_health_score\":-0.056,\"imd_housing_decile\":1,\"imd_housing_geographical_decile\":6,\"imd_housing_geographical_rank\":17789,\"imd_housing_geographical_score\":-0.12,\"imd_housing_rank\":39,\"imd_housing_score\":56.507,\"imd_housing_wider_decile\":1,\"imd_housing_wider_rank\":17,\"imd_housing_wider_score\":6.974,\"imd_income_decile\":2,\"imd_income_rank\":4570,\"imd_income_score\":0.239,\"imd_rank\":5990,\"imd_score\":34.714},\"population2012\":{\"population_0_15\":619,\"population_16_59\":1282,\"population_60_plus\":106,\"population_total\":2007,\"population_workingage\":1248},\"population2015\":{\"population_0_15\":670,\"population_16_59\":1233,\"population_60_plus\":120,\"population_total\":2023,\"population_workingage\":1249}},\"statutory_instrument_id\":null,\"statutory_instrument_title\":null,\"successor\":[]},\"type\":\"Feature\"}],\"type\":\"FeatureCollection\"}\n",
      "\n"
     ]
    },
    {
     "name": "stderr",
     "output_type": "stream",
     "text": [
      "Skipping field alternative_names: unsupported OGR type: 5\n"
     ]
    },
    {
     "name": "stdout",
     "output_type": "stream",
     "text": [
      "{\"features\":[{\"geometry\":{\"coordinates\":[[[[0.151445668000065,51.54398565100007],[0.151630935000071,51.54303172600004],[0.150319181000043,51.542911685000036],[0.149863063000055,51.541725317000044],[0.147931005000032,51.54159808900005],[0.147240928000031,51.54155377700005],[0.143686491000039,51.54132470800005],[0.143070218000048,51.54128500300004],[0.140597343000024,51.54113492300007],[0.140586331000065,51.54175892100005],[0.142601913000021,51.54230511000003],[0.142600818000062,51.54280584000003],[0.143880040000056,51.54325445500007],[0.144191119000027,51.543849100000045],[0.143200990000025,51.544295703000046],[0.143000115000063,51.54476896400007],[0.143793267000035,51.54490903800007],[0.144536338000023,51.54473088800006],[0.145667431000049,51.54569345800007],[0.14621737300007,51.54536266700006],[0.145804419000058,51.54418372400005],[0.146243371000025,51.543953421000026],[0.147373597000069,51.54363058400003],[0.147313285000052,51.54426959300008],[0.14795110700004,51.54424620800006],[0.149591476000069,51.54401060100008],[0.150169521000066,51.54417806500004],[0.150126120000039,51.54461727100005],[0.151158915000053,51.54470247200004],[0.150794998000038,51.54552565600005],[0.151371936000032,51.54631955200006],[0.152110951000054,51.54634169900004],[0.152785965000021,51.545883805000074],[0.152106710000055,51.545813836000036],[0.152354739000032,51.544652918000054],[0.151843541000062,51.54449975300008],[0.151949758000057,51.54406163400006],[0.151445668000065,51.54398565100007]]]],\"type\":\"MultiPolygon\"},\"properties\":{\"active\":true,\"alternative_names\":[\"Barking and Dagenham 013A\"],\"areachect\":20.78,\"areaehect\":20.78,\"areaihect\":0.0,\"arealhect\":20.78,\"child_count\":5,\"child_counts\":{\"oa21\":5},\"code\":\"E01000013\",\"date_end\":null,\"date_start\":\"Sun, 01 Feb 2004 00:00:00 GMT\",\"entity\":\"E01\",\"equivalents\":{},\"name\":\"Barking and Dagenham 013A\",\"name_welsh\":null,\"owner\":\"ONS\",\"parent\":\"E02000014\",\"predecessor\":[],\"sort_order\":\"E01000013\",\"stats\":{\"idaci2015\":{\"idaci_decile\":2,\"idaci_rank\":5567,\"idaci_score\":0.325},\"idaci2019\":{\"idaci_decile\":3,\"idaci_rank\":7335,\"idaci_score\":0.243},\"idaopi2015\":{\"idaopi_decile\":2,\"idaopi_rank\":6077,\"idaopi_score\":0.295},\"idaopi2019\":{\"idaopi_decile\":2,\"idaopi_rank\":6152,\"idaopi_score\":0.265},\"imd2015\":{\"imd_crime_decile\":1,\"imd_crime_rank\":749,\"imd_crime_score\":1.499,\"imd_decile\":2,\"imd_education_adults_decile\":2,\"imd_education_adults_rank\":6191,\"imd_education_adults_score\":0.41,\"imd_education_children_decile\":4,\"imd_education_children_rank\":11373,\"imd_education_children_score\":0.315,\"imd_education_decile\":3,\"imd_education_rank\":8403,\"imd_education_score\":30.488,\"imd_employment_decile\":2,\"imd_employment_rank\":5910,\"imd_employment_score\":0.187,\"imd_environment_decile\":3,\"imd_environment_indoors_decile\":4,\"imd_environment_indoors_rank\":10706,\"imd_environment_indoors_score\":0.398,\"imd_environment_outdoors_rank\":2,\"imd_environment_outdoors_score\":0.816,\"imd_environment_rank\":8629,\"imd_environment_score\":30.067,\"imd_health_decile\":3,\"imd_health_rank\":7200,\"imd_health_score\":0.694,\"imd_housing_decile\":2,\"imd_housing_geographical_decile\":10,\"imd_housing_geographical_rank\":31009,\"imd_housing_geographical_score\":-1.205,\"imd_housing_rank\":4276,\"imd_housing_score\":34.389,\"imd_housing_wider_decile\":1,\"imd_housing_wider_rank\":1341,\"imd_housing_wider_score\":4.647,\"imd_income_decile\":2,\"imd_income_rank\":5479,\"imd_income_score\":0.25,\"imd_rank\":4416,\"imd_score\":40.329},\"imd2019\":{\"imd_crime_decile\":1,\"imd_crime_rank\":2236,\"imd_crime_score\":1.199,\"imd_decile\":2,\"imd_education_adults_decile\":2,\"imd_education_adults_rank\":6191,\"imd_education_adults_score\":0.41,\"imd_education_children_decile\":7,\"imd_education_children_rank\":20313,\"imd_education_children_score\":-0.257,\"imd_education_decile\":4,\"imd_education_rank\":11346,\"imd_education_score\":24.003,\"imd_employment_decile\":3,\"imd_employment_rank\":7013,\"imd_employment_score\":0.145,\"imd_environment_decile\":3,\"imd_environment_indoors_decile\":4,\"imd_environment_indoors_rank\":11278,\"imd_environment_indoors_score\":0.345,\"imd_environment_outdoors_rank\":2,\"imd_environment_outdoors_score\":0.931,\"imd_environment_rank\":8569,\"imd_environment_score\":30.424,\"imd_health_decile\":3,\"imd_health_rank\":7172,\"imd_health_score\":0.67,\"imd_housing_decile\":1,\"imd_housing_geographical_decile\":9,\"imd_housing_geographical_rank\":27232,\"imd_housing_geographical_score\":-0.733,\"imd_housing_rank\":1018,\"imd_housing_score\":45.252,\"imd_housing_wider_decile\":1,\"imd_housing_wider_rank\":353,\"imd_housing_wider_score\":5.916,\"imd_income_decile\":2,\"imd_income_rank\":5966,\"imd_income_score\":0.213,\"imd_rank\":4573,\"imd_score\":38.997},\"population2012\":{\"population_0_15\":446,\"population_16_59\":995,\"population_60_plus\":284,\"population_total\":1725,\"population_workingage\":979},\"population2015\":{\"population_0_15\":433,\"population_16_59\":1038,\"population_60_plus\":276,\"population_total\":1747,\"population_workingage\":1035}},\"statutory_instrument_id\":null,\"statutory_instrument_title\":null,\"successor\":[]},\"type\":\"Feature\"}],\"type\":\"FeatureCollection\"}\n",
      "\n"
     ]
    },
    {
     "name": "stderr",
     "output_type": "stream",
     "text": [
      "Skipping field alternative_names: unsupported OGR type: 5\n"
     ]
    },
    {
     "name": "stdout",
     "output_type": "stream",
     "text": [
      "{\"features\":[{\"geometry\":{\"coordinates\":[[[[0.150346194000065,51.55090870600003],[0.150286137000023,51.54962007200004],[0.149263479000069,51.549672877000035],[0.14897178800004,51.55002035200005],[0.147554480000053,51.549605307000036],[0.147057666000023,51.54928103300006],[0.147089298000026,51.54897145600006],[0.147042873000032,51.54820954500008],[0.147714472000075,51.54780494500005],[0.147855622000066,51.545926232000056],[0.147080064000022,51.545877019000045],[0.14647383700003,51.54645858300006],[0.145533643000022,51.54726894700008],[0.14578259600006,51.54758384300004],[0.143315640000026,51.548404024000035],[0.143134343000042,51.54863764700008],[0.142915082000059,51.54945728600006],[0.142799523000065,51.550963066000065],[0.14513,51.551087308000035],[0.147442424000076,51.55115224300005],[0.149709676000043,51.551280027000075],[0.150346194000065,51.55090870600003]]]],\"type\":\"MultiPolygon\"},\"properties\":{\"active\":true,\"alternative_names\":[\"Barking and Dagenham 009C\"],\"areachect\":15.84,\"areaehect\":15.84,\"areaihect\":0.0,\"arealhect\":15.84,\"child_count\":5,\"child_counts\":{\"oa21\":5},\"code\":\"E01000017\",\"date_end\":null,\"date_start\":\"Sun, 01 Feb 2004 00:00:00 GMT\",\"entity\":\"E01\",\"equivalents\":{},\"name\":\"Barking and Dagenham 009C\",\"name_welsh\":null,\"owner\":\"ONS\",\"parent\":\"E02000010\",\"predecessor\":[],\"sort_order\":\"E01000017\",\"stats\":{\"idaci2015\":{\"idaci_decile\":1,\"idaci_rank\":1891,\"idaci_score\":0.437},\"idaci2019\":{\"idaci_decile\":2,\"idaci_rank\":3696,\"idaci_score\":0.318},\"idaopi2015\":{\"idaopi_decile\":2,\"idaopi_rank\":5283,\"idaopi_score\":0.313},\"idaopi2019\":{\"idaopi_decile\":2,\"idaopi_rank\":4966,\"idaopi_score\":0.293},\"imd2015\":{\"imd_crime_decile\":2,\"imd_crime_rank\":4943,\"imd_crime_score\":0.831,\"imd_decile\":2,\"imd_education_adults_decile\":3,\"imd_education_adults_rank\":6637,\"imd_education_adults_score\":0.403,\"imd_education_children_decile\":4,\"imd_education_children_rank\":11189,\"imd_education_children_score\":0.328,\"imd_education_decile\":3,\"imd_education_rank\":8614,\"imd_education_score\":29.919,\"imd_employment_decile\":2,\"imd_employment_rank\":4436,\"imd_employment_score\":0.21,\"imd_environment_decile\":4,\"imd_environment_indoors_decile\":4,\"imd_environment_indoors_rank\":11830,\"imd_environment_indoors_score\":0.317,\"imd_environment_outdoors_rank\":3,\"imd_environment_outdoors_score\":0.525,\"imd_environment_rank\":11145,\"imd_environment_score\":25.397,\"imd_health_decile\":2,\"imd_health_rank\":5315,\"imd_health_score\":0.888,\"imd_housing_decile\":2,\"imd_housing_geographical_decile\":9,\"imd_housing_geographical_rank\":29259,\"imd_housing_geographical_score\":-0.944,\"imd_housing_rank\":4502,\"imd_housing_score\":33.91,\"imd_housing_wider_decile\":1,\"imd_housing_wider_rank\":1525,\"imd_housing_wider_score\":4.495,\"imd_income_decile\":2,\"imd_income_rank\":3642,\"imd_income_score\":0.292,\"imd_rank\":4357,\"imd_score\":40.563},\"imd2019\":{\"imd_crime_decile\":4,\"imd_crime_rank\":11685,\"imd_crime_score\":0.317,\"imd_decile\":2,\"imd_education_adults_decile\":3,\"imd_education_adults_rank\":6637,\"imd_education_adults_score\":0.403,\"imd_education_children_decile\":7,\"imd_education_children_rank\":20963,\"imd_education_children_score\":-0.3,\"imd_education_decile\":4,\"imd_education_rank\":11972,\"imd_education_score\":22.899,\"imd_employment_decile\":2,\"imd_employment_rank\":5016,\"imd_employment_score\":0.169,\"imd_environment_decile\":4,\"imd_environment_indoors_decile\":4,\"imd_environment_indoors_rank\":12152,\"imd_environment_indoors_score\":0.28,\"imd_environment_outdoors_rank\":2,\"imd_environment_outdoors_score\":0.773,\"imd_environment_rank\":10141,\"imd_environment_score\":27.688,\"imd_health_decile\":3,\"imd_health_rank\":6950,\"imd_health_score\":0.694,\"imd_housing_decile\":1,\"imd_housing_geographical_decile\":9,\"imd_housing_geographical_rank\":27545,\"imd_housing_geographical_score\":-0.761,\"imd_housing_rank\":902,\"imd_housing_score\":45.929,\"imd_housing_wider_decile\":1,\"imd_housing_wider_rank\":300,\"imd_housing_wider_score\":6.045,\"imd_income_decile\":2,\"imd_income_rank\":4033,\"imd_income_score\":0.25,\"imd_rank\":4570,\"imd_score\":39.004},\"population2012\":{\"population_0_15\":409,\"population_16_59\":991,\"population_60_plus\":222,\"population_total\":1622,\"population_workingage\":957},\"population2015\":{\"population_0_15\":395,\"population_16_59\":901,\"population_60_plus\":220,\"population_total\":1516,\"population_workingage\":885}},\"statutory_instrument_id\":null,\"statutory_instrument_title\":null,\"successor\":[]},\"type\":\"Feature\"}],\"type\":\"FeatureCollection\"}\n",
      "\n"
     ]
    },
    {
     "name": "stderr",
     "output_type": "stream",
     "text": [
      "Skipping field alternative_names: unsupported OGR type: 5\n",
      "Skipping field predecessor: unsupported OGR type: 5\n",
      "Skipping field successor: unsupported OGR type: 5\n"
     ]
    },
    {
     "name": "stdout",
     "output_type": "stream",
     "text": [
      "{\"features\":[{\"geometry\":{\"coordinates\":[[[[0.125166568000054,51.56015998400005],[0.126413920000061,51.55843967200008],[0.126533493000068,51.55830883700003],[0.126991206000071,51.55787393000003],[0.127706792000026,51.556749618000026],[0.127156485000057,51.55560791400006],[0.127054359000056,51.55545452700005],[0.125169687000039,51.55324180400004],[0.124330833000045,51.55143958300005],[0.124111724000045,51.55170551600003],[0.123944830000028,51.55151008300004],[0.123089185000026,51.55162086000007],[0.123323863000053,51.55188829600007],[0.122699051000041,51.55222518200003],[0.123162511000032,51.55253583700005],[0.12237551100003,51.55221354100007],[0.122217895000063,51.552813324000056],[0.123017469000047,51.55332623000004],[0.123930345000019,51.552985781000075],[0.124075915000049,51.55365236200004],[0.125211550000074,51.55401961100006],[0.125181375000068,51.55463582300007],[0.124710924000055,51.55487466300008],[0.123557465000033,51.55523302200004],[0.123300353000047,51.55561262200007],[0.122721068000033,51.555414160000055],[0.12212785600002,51.555771684000035],[0.12271535900004,51.55621502200006],[0.121978262000027,51.55669859100004],[0.122819381000056,51.55755791000007],[0.122478272000023,51.55791192400005],[0.122788268000022,51.558463525000036],[0.124539061000064,51.55866272600008],[0.124388185000043,51.559238847000074],[0.122684285000048,51.559284613000045],[0.122908106000068,51.559937716000036],[0.124830901000053,51.55974204900008],[0.12513453400004,51.56015275000004],[0.125166568000054,51.56015998400005]]]],\"type\":\"MultiPolygon\"},\"properties\":{\"active\":true,\"alternative_names\":[\"Barking and Dagenham 005B\",\"Barking and Dagenham 023B\"],\"areachect\":18.72,\"areaehect\":18.72,\"areaihect\":0.0,\"arealhect\":18.72,\"child_count\":5,\"child_counts\":{\"oa21\":5},\"code\":\"E01000020\",\"date_end\":null,\"date_start\":\"Sun, 01 Feb 2004 00:00:00 GMT\",\"entity\":\"E01\",\"equivalents\":{},\"name\":\"Barking and Dagenham 023B\",\"name_welsh\":null,\"owner\":\"ONS\",\"parent\":\"E02006799\",\"predecessor\":[\"E01000020\"],\"sort_order\":\"E01000020\",\"stats\":{\"idaci2015\":{\"idaci_decile\":3,\"idaci_rank\":8340,\"idaci_score\":0.267},\"idaci2019\":{\"idaci_decile\":3,\"idaci_rank\":8053,\"idaci_score\":0.231},\"idaopi2015\":{\"idaopi_decile\":2,\"idaopi_rank\":5271,\"idaopi_score\":0.313},\"idaopi2019\":{\"idaopi_decile\":2,\"idaopi_rank\":3361,\"idaopi_score\":0.338},\"imd2015\":{\"imd_crime_decile\":3,\"imd_crime_rank\":7846,\"imd_crime_score\":0.586,\"imd_decile\":3,\"imd_education_adults_decile\":3,\"imd_education_adults_rank\":7404,\"imd_education_adults_score\":0.391,\"imd_education_children_decile\":4,\"imd_education_children_rank\":12553,\"imd_education_children_score\":0.233,\"imd_education_decile\":3,\"imd_education_rank\":9672,\"imd_education_score\":27.457,\"imd_employment_decile\":3,\"imd_employment_rank\":7761,\"imd_employment_score\":0.163,\"imd_environment_decile\":4,\"imd_environment_indoors_decile\":4,\"imd_environment_indoors_rank\":11352,\"imd_environment_indoors_score\":0.352,\"imd_environment_outdoors_rank\":4,\"imd_environment_outdoors_score\":0.22,\"imd_environment_rank\":12573,\"imd_environment_score\":23.084,\"imd_health_decile\":3,\"imd_health_rank\":6940,\"imd_health_score\":0.716,\"imd_housing_decile\":2,\"imd_housing_geographical_decile\":9,\"imd_housing_geographical_rank\":29176,\"imd_housing_geographical_score\":-0.933,\"imd_housing_rank\":5351,\"imd_housing_score\":32.362,\"imd_housing_wider_decile\":1,\"imd_housing_wider_rank\":1813,\"imd_housing_wider_score\":4.266,\"imd_income_decile\":2,\"imd_income_rank\":5974,\"imd_income_score\":0.24,\"imd_rank\":6960,\"imd_score\":32.895},\"imd2019\":{\"imd_crime_decile\":3,\"imd_crime_rank\":7066,\"imd_crime_score\":0.651,\"imd_decile\":2,\"imd_education_adults_decile\":3,\"imd_education_adults_rank\":7404,\"imd_education_adults_score\":0.391,\"imd_education_children_decile\":6,\"imd_education_children_rank\":16828,\"imd_education_children_score\":-0.046,\"imd_education_decile\":4,\"imd_education_rank\":11245,\"imd_education_score\":24.184,\"imd_employment_decile\":3,\"imd_employment_rank\":8401,\"imd_employment_score\":0.131,\"imd_environment_decile\":3,\"imd_environment_indoors_decile\":4,\"imd_environment_indoors_rank\":11307,\"imd_environment_indoors_score\":0.343,\"imd_environment_outdoors_rank\":2,\"imd_environment_outdoors_score\":0.899,\"imd_environment_rank\":8756,\"imd_environment_score\":30.078,\"imd_health_decile\":2,\"imd_health_rank\":6282,\"imd_health_score\":0.76,\"imd_housing_decile\":1,\"imd_housing_geographical_decile\":9,\"imd_housing_geographical_rank\":29057,\"imd_housing_geographical_score\":-0.91,\"imd_housing_rank\":1319,\"imd_housing_score\":43.518,\"imd_housing_wider_decile\":1,\"imd_housing_wider_rank\":424,\"imd_housing_wider_score\":5.783,\"imd_income_decile\":2,\"imd_income_rank\":5760,\"imd_income_score\":0.216,\"imd_rank\":5520,\"imd_score\":36.035},\"population2012\":{\"population_0_15\":493,\"population_16_59\":1117,\"population_60_plus\":260,\"population_total\":1870,\"population_workingage\":1094},\"population2015\":{\"population_0_15\":479,\"population_16_59\":1185,\"population_60_plus\":283,\"population_total\":1947,\"population_workingage\":1153}},\"statutory_instrument_id\":\"2011/1001\",\"statutory_instrument_title\":\"2011 Census Maintenance\",\"successor\":[\"E01000020\"]},\"type\":\"Feature\"}],\"type\":\"FeatureCollection\"}\n",
      "\n"
     ]
    },
    {
     "name": "stderr",
     "output_type": "stream",
     "text": [
      "Skipping field alternative_names: unsupported OGR type: 5\n"
     ]
    },
    {
     "name": "stdout",
     "output_type": "stream",
     "text": [
      "{\"features\":[{\"geometry\":{\"coordinates\":[[[[0.117177887000025,51.55689244400003],[0.11623405000006,51.55588794700003],[0.117247547000034,51.55590036400008],[0.117538780000075,51.555261148000056],[0.119311174000075,51.55642630700004],[0.12043985300005,51.55585927700008],[0.119906933000038,51.55516454700006],[0.11859180600004,51.55445615200006],[0.118355830000041,51.55425519500005],[0.116421677000062,51.55279360500003],[0.116909071000066,51.552510968000036],[0.117028137000034,51.551936287000046],[0.116183662000026,51.55151598600003],[0.117316645000074,51.55141887500008],[0.116479386000037,51.55092950900007],[0.114501541000038,51.55120221400006],[0.11388136100004,51.55154039900003],[0.11443872600006,51.55275809800003],[0.114977909000061,51.55316897200004],[0.114793804000044,51.55359235900005],[0.114060126000027,51.55354870800005],[0.11404471100002,51.553985831000034],[0.113427149000074,51.55429593500003],[0.114767950000044,51.555304611000054],[0.112751642000035,51.55652046200004],[0.113189745000057,51.55688978200004],[0.113355592000062,51.55731857500007],[0.117177887000025,51.55689244400003]]]],\"type\":\"MultiPolygon\"},\"properties\":{\"active\":true,\"alternative_names\":[\"Barking and Dagenham 008A\"],\"areachect\":16.93,\"areaehect\":16.93,\"areaihect\":0.0,\"arealhect\":16.93,\"child_count\":5,\"child_counts\":{\"oa21\":5},\"code\":\"E01000021\",\"date_end\":null,\"date_start\":\"Sun, 01 Feb 2004 00:00:00 GMT\",\"entity\":\"E01\",\"equivalents\":{},\"name\":\"Barking and Dagenham 008A\",\"name_welsh\":null,\"owner\":\"ONS\",\"parent\":\"E02000009\",\"predecessor\":[],\"sort_order\":\"E01000021\",\"stats\":{\"idaci2015\":{\"idaci_decile\":2,\"idaci_rank\":3910,\"idaci_score\":0.368},\"idaci2019\":{\"idaci_decile\":2,\"idaci_rank\":4790,\"idaci_score\":0.291},\"idaopi2015\":{\"idaopi_decile\":1,\"idaopi_rank\":3057,\"idaopi_score\":0.376},\"idaopi2019\":{\"idaopi_decile\":1,\"idaopi_rank\":2973,\"idaopi_score\":0.352},\"imd2015\":{\"imd_crime_decile\":2,\"imd_crime_rank\":3482,\"imd_crime_score\":0.987,\"imd_decile\":2,\"imd_education_adults_decile\":3,\"imd_education_adults_rank\":6756,\"imd_education_adults_score\":0.401,\"imd_education_children_decile\":3,\"imd_education_children_rank\":8905,\"imd_education_children_score\":0.491,\"imd_education_decile\":3,\"imd_education_rank\":7746,\"imd_education_score\":32.244,\"imd_employment_decile\":2,\"imd_employment_rank\":6346,\"imd_employment_score\":0.181,\"imd_environment_decile\":2,\"imd_environment_indoors_decile\":1,\"imd_environment_indoors_rank\":3282,\"imd_environment_indoors_score\":1.119,\"imd_environment_outdoors_rank\":3,\"imd_environment_outdoors_score\":0.511,\"imd_environment_rank\":3692,\"imd_environment_score\":43.572,\"imd_health_decile\":3,\"imd_health_rank\":7623,\"imd_health_score\":0.656,\"imd_housing_decile\":2,\"imd_housing_geographical_decile\":10,\"imd_housing_geographical_rank\":30858,\"imd_housing_geographical_score\":-1.179,\"imd_housing_rank\":4001,\"imd_housing_score\":35.051,\"imd_housing_wider_decile\":1,\"imd_housing_wider_rank\":1250,\"imd_housing_wider_score\":4.728,\"imd_income_decile\":2,\"imd_income_rank\":3978,\"imd_income_score\":0.284,\"imd_rank\":4273,\"imd_score\":40.821},\"imd2019\":{\"imd_crime_decile\":3,\"imd_crime_rank\":8283,\"imd_crime_score\":0.559,\"imd_decile\":2,\"imd_education_adults_decile\":3,\"imd_education_adults_rank\":6756,\"imd_education_adults_score\":0.401,\"imd_education_children_decile\":3,\"imd_education_children_rank\":9411,\"imd_education_children_score\":0.451,\"imd_education_decile\":3,\"imd_education_rank\":7939,\"imd_education_score\":31.637,\"imd_employment_decile\":3,\"imd_employment_rank\":7865,\"imd_employment_score\":0.136,\"imd_environment_decile\":1,\"imd_environment_indoors_decile\":2,\"imd_environment_indoors_rank\":4754,\"imd_environment_indoors_score\":0.895,\"imd_environment_outdoors_rank\":2,\"imd_environment_outdoors_score\":1.042,\"imd_environment_rank\":3095,\"imd_environment_score\":44.214,\"imd_health_decile\":4,\"imd_health_rank\":10085,\"imd_health_score\":0.418,\"imd_housing_decile\":1,\"imd_housing_geographical_decile\":10,\"imd_housing_geographical_rank\":31715,\"imd_housing_geographical_score\":-1.36,\"imd_housing_rank\":961,\"imd_housing_score\":45.544,\"imd_housing_wider_decile\":1,\"imd_housing_wider_rank\":227,\"imd_housing_wider_score\":6.238,\"imd_income_decile\":2,\"imd_income_rank\":5007,\"imd_income_score\":0.23,\"imd_rank\":4611,\"imd_score\":38.888},\"population2012\":{\"population_0_15\":401,\"population_16_59\":1021,\"population_60_plus\":179,\"population_total\":1601,\"population_workingage\":1004},\"population2015\":{\"population_0_15\":441,\"population_16_59\":1047,\"population_60_plus\":194,\"population_total\":1682,\"population_workingage\":1034}},\"statutory_instrument_id\":null,\"statutory_instrument_title\":null,\"successor\":[]},\"type\":\"Feature\"}],\"type\":\"FeatureCollection\"}\n",
      "\n"
     ]
    },
    {
     "name": "stderr",
     "output_type": "stream",
     "text": [
      "Skipping field alternative_names: unsupported OGR type: 5\n"
     ]
    },
    {
     "name": "stdout",
     "output_type": "stream",
     "text": [
      "{\"features\":[{\"geometry\":{\"coordinates\":[[[[0.134145548000049,51.58648739000006],[0.134805697000047,51.58574613700006],[0.135232758000029,51.58574387300007],[0.135670729000026,51.58476047600004],[0.13629971000006,51.58487366900005],[0.136871065000037,51.584448429000076],[0.136600889000022,51.583664396000074],[0.137080483000034,51.58288097500008],[0.138275094000051,51.58248836900003],[0.138910311000075,51.582575116000044],[0.138927395000053,51.58279471900005],[0.139653405000047,51.582733989000076],[0.139647429000036,51.582270513000026],[0.140220013000032,51.58227861200004],[0.14022841000002,51.58283110500008],[0.140744873000074,51.58316243300004],[0.140340431000027,51.58384234000005],[0.137808914000061,51.583735656000044],[0.137665237000022,51.58587637200003],[0.13849667900007,51.58604625900006],[0.139391852000074,51.584829943000045],[0.139990155000021,51.585210294000035],[0.141801999000052,51.58531258600004],[0.141447944000049,51.58267687000006],[0.141334908000033,51.581500848000076],[0.141145368000025,51.58053950600004],[0.140210005000029,51.580296100000055],[0.139988412000037,51.58052827900008],[0.136851161000038,51.58063244900006],[0.136079791000043,51.58064758900008],[0.13552704500006,51.58072964200005],[0.13556073500007,51.58137921300005],[0.134302896000065,51.58141751100004],[0.134006422000027,51.58218273300008],[0.133962058000066,51.58218353900003],[0.133988187000057,51.58244821300008],[0.133452061000071,51.582558669000036],[0.133464124000056,51.582894149000026],[0.132064949000039,51.58288563000008],[0.131316304000052,51.58433355400007],[0.130125743000065,51.58445287700005],[0.130120852000061,51.58445910800003],[0.129736653000066,51.58527251400005],[0.130178702000023,51.58537592400006],[0.130354898000064,51.58499187000007],[0.131175606000056,51.58472942100008],[0.132442916000059,51.58485235000006],[0.132785507000051,51.58331410900007],[0.13378560700005,51.58334682700007],[0.133551385000032,51.58392852000003],[0.133387182000035,51.58427328300007],[0.132778730000041,51.58527164800006],[0.13220446400004,51.58524075500003],[0.13173222000006,51.586351827000044],[0.131716449000066,51.586513171000036],[0.13377805600004,51.58679444300003],[0.134145548000049,51.58648739000006]]]],\"type\":\"MultiPolygon\"},\"properties\":{\"active\":true,\"alternative_names\":[\"Barking and Dagenham 001D\"],\"areachect\":28.63,\"areaehect\":28.63,\"areaihect\":0.0,\"arealhect\":28.63,\"child_count\":6,\"child_counts\":{\"oa21\":6},\"code\":\"E01000030\",\"date_end\":null,\"date_start\":\"Sun, 01 Feb 2004 00:00:00 GMT\",\"entity\":\"E01\",\"equivalents\":{},\"name\":\"Barking and Dagenham 001D\",\"name_welsh\":null,\"owner\":\"ONS\",\"parent\":\"E02000002\",\"predecessor\":[],\"sort_order\":\"E01000030\",\"stats\":{\"idaci2015\":{\"idaci_decile\":1,\"idaci_rank\":2121,\"idaci_score\":0.426},\"idaci2019\":{\"idaci_decile\":1,\"idaci_rank\":2800,\"idaci_score\":0.344},\"idaopi2015\":{\"idaopi_decile\":3,\"idaopi_rank\":6730,\"idaopi_score\":0.282},\"idaopi2019\":{\"idaopi_decile\":3,\"idaopi_rank\":6752,\"idaopi_score\":0.253},\"imd2015\":{\"imd_crime_decile\":2,\"imd_crime_rank\":4184,\"imd_crime_score\":0.911,\"imd_decile\":2,\"imd_education_adults_decile\":2,\"imd_education_adults_rank\":5053,\"imd_education_adults_score\":0.429,\"imd_education_children_decile\":3,\"imd_education_children_rank\":6611,\"imd_education_children_score\":0.687,\"imd_education_decile\":2,\"imd_education_rank\":5743,\"imd_education_score\":38.598,\"imd_employment_decile\":2,\"imd_employment_rank\":6305,\"imd_employment_score\":0.181,\"imd_environment_decile\":5,\"imd_environment_indoors_decile\":5,\"imd_environment_indoors_rank\":14053,\"imd_environment_indoors_score\":0.167,\"imd_environment_outdoors_rank\":3,\"imd_environment_outdoors_score\":0.434,\"imd_environment_rank\":13365,\"imd_environment_score\":21.883,\"imd_health_decile\":4,\"imd_health_rank\":10294,\"imd_health_score\":0.424,\"imd_housing_decile\":1,\"imd_housing_geographical_decile\":9,\"imd_housing_geographical_rank\":27539,\"imd_housing_geographical_score\":-0.765,\"imd_housing_rank\":1427,\"imd_housing_score\":42.815,\"imd_housing_wider_decile\":1,\"imd_housing_wider_rank\":527,\"imd_housing_wider_score\":5.424,\"imd_income_decile\":1,\"imd_income_rank\":2853,\"imd_income_score\":0.314,\"imd_rank\":4130,\"imd_score\":41.284},\"imd2019\":{\"imd_crime_decile\":3,\"imd_crime_rank\":9086,\"imd_crime_score\":0.499,\"imd_decile\":2,\"imd_education_adults_decile\":2,\"imd_education_adults_rank\":5053,\"imd_education_adults_score\":0.429,\"imd_education_children_decile\":2,\"imd_education_children_rank\":6517,\"imd_education_children_score\":0.698,\"imd_education_decile\":2,\"imd_education_rank\":5699,\"imd_education_score\":38.753,\"imd_employment_decile\":2,\"imd_employment_rank\":5569,\"imd_employment_score\":0.162,\"imd_environment_decile\":5,\"imd_environment_indoors_decile\":6,\"imd_environment_indoors_rank\":17259,\"imd_environment_indoors_score\":-0.05,\"imd_environment_outdoors_rank\":3,\"imd_environment_outdoors_score\":0.624,\"imd_environment_rank\":14570,\"imd_environment_score\":20.993,\"imd_health_decile\":5,\"imd_health_rank\":15751,\"imd_health_score\":0.016,\"imd_housing_decile\":1,\"imd_housing_geographical_decile\":10,\"imd_housing_geographical_rank\":31835,\"imd_housing_geographical_score\":-1.396,\"imd_housing_rank\":1127,\"imd_housing_score\":44.592,\"imd_housing_wider_decile\":1,\"imd_housing_wider_rank\":281,\"imd_housing_wider_score\":6.084,\"imd_income_decile\":2,\"imd_income_rank\":3448,\"imd_income_score\":0.264,\"imd_rank\":4760,\"imd_score\":38.415},\"population2012\":{\"population_0_15\":610,\"population_16_59\":1085,\"population_60_plus\":281,\"population_total\":1976,\"population_workingage\":1080},\"population2015\":{\"population_0_15\":660,\"population_16_59\":1225,\"population_60_plus\":270,\"population_total\":2155,\"population_workingage\":1223}},\"statutory_instrument_id\":null,\"statutory_instrument_title\":null,\"successor\":[]},\"type\":\"Feature\"}],\"type\":\"FeatureCollection\"}\n",
      "\n"
     ]
    },
    {
     "name": "stderr",
     "output_type": "stream",
     "text": [
      "Skipping field alternative_names: unsupported OGR type: 5\n"
     ]
    },
    {
     "name": "stdout",
     "output_type": "stream",
     "text": [
      "{\"features\":[{\"geometry\":{\"coordinates\":[[[[0.150653008000063,51.58306294800008],[0.148408828000072,51.58075337900004],[0.147475020000059,51.580793011000026],[0.147010155000032,51.57567941700006],[0.146237665000058,51.575631559000044],[0.144024375000072,51.57550171100007],[0.143572040000038,51.57565030000006],[0.141993895000041,51.57531332100007],[0.141835588000049,51.57476637700006],[0.14142094400006,51.57473431200003],[0.141533982000055,51.57425984100007],[0.141167328000051,51.57419332200004],[0.14182893100002,51.57263911900003],[0.142002288000072,51.57224858400008],[0.139544697000019,51.57205813600007],[0.139228242000058,51.572868639000035],[0.13830469100003,51.573113841000065],[0.138253727000063,51.57374378000003],[0.138988958000027,51.574126928000055],[0.136196718000065,51.57381546800008],[0.135664573000042,51.574318524000034],[0.13674975400005,51.574696061000054],[0.137300985000024,51.57533762800006],[0.137045742000055,51.57625653100007],[0.137604546000034,51.57654225300007],[0.137500215000046,51.577010150000035],[0.137265808000052,51.57724512000004],[0.137905848000059,51.57812201000007],[0.140203769000038,51.57832588000008],[0.140280129000075,51.57897216100008],[0.139712598000074,51.57895081400005],[0.139542150000068,51.57959228500005],[0.140998606000039,51.579904586000055],[0.141145368000025,51.58053950600004],[0.141334908000033,51.581500848000076],[0.141447944000049,51.58267687000006],[0.141801999000052,51.58531258600004],[0.141597679000029,51.58635848400007],[0.151110299000038,51.58708048700004],[0.151051658000029,51.58589385400006],[0.150653008000063,51.58306294800008]]]],\"type\":\"MultiPolygon\"},\"properties\":{\"active\":true,\"alternative_names\":[\"Barking and Dagenham 002A\"],\"areachect\":84.35,\"areaehect\":84.35,\"areaihect\":0.0,\"arealhect\":84.35,\"child_count\":5,\"child_counts\":{\"oa21\":5},\"code\":\"E01000031\",\"date_end\":null,\"date_start\":\"Sun, 01 Feb 2004 00:00:00 GMT\",\"entity\":\"E01\",\"equivalents\":{},\"name\":\"Barking and Dagenham 002A\",\"name_welsh\":null,\"owner\":\"ONS\",\"parent\":\"E02000003\",\"predecessor\":[],\"sort_order\":\"E01000031\",\"stats\":{\"idaci2015\":{\"idaci_decile\":5,\"idaci_rank\":13293,\"idaci_score\":0.186},\"idaci2019\":{\"idaci_decile\":4,\"idaci_rank\":12475,\"idaci_score\":0.168},\"idaopi2015\":{\"idaopi_decile\":4,\"idaopi_rank\":11453,\"idaopi_score\":0.205},\"idaopi2019\":{\"idaopi_decile\":4,\"idaopi_rank\":10229,\"idaopi_score\":0.197},\"imd2015\":{\"imd_crime_decile\":1,\"imd_crime_rank\":889,\"imd_crime_score\":1.444,\"imd_decile\":4,\"imd_education_adults_decile\":5,\"imd_education_adults_rank\":14798,\"imd_education_adults_score\":0.311,\"imd_education_children_decile\":8,\"imd_education_children_rank\":23088,\"imd_education_children_score\":-0.443,\"imd_education_decile\":6,\"imd_education_rank\":19106,\"imd_education_score\":12.981,\"imd_employment_decile\":4,\"imd_employment_rank\":12500,\"imd_employment_score\":0.121,\"imd_environment_decile\":4,\"imd_environment_indoors_decile\":5,\"imd_environment_indoors_rank\":13998,\"imd_environment_indoors_score\":0.17,\"imd_environment_outdoors_rank\":2,\"imd_environment_outdoors_score\":0.814,\"imd_environment_rank\":10770,\"imd_environment_score\":26.07,\"imd_health_decile\":6,\"imd_health_rank\":16658,\"imd_health_score\":-0.038,\"imd_housing_decile\":3,\"imd_housing_geographical_decile\":10,\"imd_housing_geographical_rank\":30061,\"imd_housing_geographical_score\":-1.051,\"imd_housing_rank\":9476,\"imd_housing_score\":26.629,\"imd_housing_wider_decile\":1,\"imd_housing_wider_rank\":3155,\"imd_housing_wider_score\":3.377,\"imd_income_decile\":5,\"imd_income_rank\":13154,\"imd_income_score\":0.143,\"imd_rank\":10820,\"imd_score\":25.078},\"imd2019\":{\"imd_crime_decile\":2,\"imd_crime_rank\":4231,\"imd_crime_score\":0.919,\"imd_decile\":4,\"imd_education_adults_decile\":5,\"imd_education_adults_rank\":14798,\"imd_education_adults_score\":0.311,\"imd_education_children_decile\":8,\"imd_education_children_rank\":23145,\"imd_education_children_score\":-0.446,\"imd_education_decile\":6,\"imd_education_rank\":19087,\"imd_education_score\":12.953,\"imd_employment_decile\":6,\"imd_employment_rank\":17380,\"imd_employment_score\":0.075,\"imd_environment_decile\":4,\"imd_environment_indoors_decile\":5,\"imd_environment_indoors_rank\":14325,\"imd_environment_indoors_score\":0.137,\"imd_environment_outdoors_rank\":2,\"imd_environment_outdoors_score\":1.0,\"imd_environment_rank\":10136,\"imd_environment_score\":27.703,\"imd_health_decile\":5,\"imd_health_rank\":15303,\"imd_health_score\":0.046,\"imd_housing_decile\":2,\"imd_housing_geographical_decile\":10,\"imd_housing_geographical_rank\":30815,\"imd_housing_geographical_score\":-1.156,\"imd_housing_rank\":4505,\"imd_housing_score\":34.14,\"imd_housing_wider_decile\":1,\"imd_housing_wider_rank\":1391,\"imd_housing_wider_score\":4.694,\"imd_income_decile\":4,\"imd_income_rank\":12951,\"imd_income_score\":0.126,\"imd_rank\":12267,\"imd_score\":22.672},\"population2012\":{\"population_0_15\":343,\"population_16_59\":965,\"population_60_plus\":317,\"population_total\":1625,\"population_workingage\":972},\"population2015\":{\"population_0_15\":359,\"population_16_59\":1022,\"population_60_plus\":335,\"population_total\":1716,\"population_workingage\":1012}},\"statutory_instrument_id\":null,\"statutory_instrument_title\":null,\"successor\":[]},\"type\":\"Feature\"}],\"type\":\"FeatureCollection\"}\n",
      "\n"
     ]
    },
    {
     "name": "stderr",
     "output_type": "stream",
     "text": [
      "Skipping field alternative_names: unsupported OGR type: 5\n"
     ]
    },
    {
     "name": "stdout",
     "output_type": "stream",
     "text": [
      "{\"features\":[{\"geometry\":{\"coordinates\":[[[[0.135726143000056,51.579786338000076],[0.136147806000054,51.577962083000045],[0.137891328000023,51.57812589500003],[0.137905848000059,51.57812201000007],[0.137265808000052,51.57724512000004],[0.137500215000046,51.577010150000035],[0.137604546000034,51.57654225300007],[0.137045742000055,51.57625653100007],[0.137300985000024,51.57533762800006],[0.13674975400005,51.574696061000054],[0.135664573000042,51.574318524000034],[0.136196718000065,51.57381546800008],[0.138988958000027,51.574126928000055],[0.138253727000063,51.57374378000003],[0.13830469100003,51.573113841000065],[0.139228242000058,51.572868639000035],[0.139544697000019,51.57205813600007],[0.139092725000069,51.57204068200008],[0.138735497000027,51.572026969000035],[0.136548145000063,51.57183776200003],[0.135754428000041,51.57172325300007],[0.135523253000031,51.57169090000008],[0.130052536000051,51.57075745900005],[0.129876940000031,51.57159832100007],[0.130814563000058,51.57172891400006],[0.131586079000044,51.57183619800003],[0.130935019000049,51.57344100100005],[0.129967257000033,51.57305716400003],[0.129445342000054,51.57398138100007],[0.129401671000039,51.57492098200004],[0.129403693000029,51.57541684600005],[0.129260991000024,51.57629447800008],[0.130060104000052,51.57653421400005],[0.131637922000039,51.57713417400004],[0.133935687000076,51.578139348000036],[0.135354905000042,51.578189673000054],[0.135163292000072,51.57856756000007],[0.135226290000048,51.57974334900007],[0.135726143000056,51.579786338000076]]]],\"type\":\"MultiPolygon\"},\"properties\":{\"active\":true,\"alternative_names\":[\"Barking and Dagenham 002B\"],\"areachect\":37.55,\"areaehect\":37.55,\"areaihect\":0.0,\"arealhect\":37.55,\"child_count\":5,\"child_counts\":{\"oa21\":5},\"code\":\"E01000032\",\"date_end\":null,\"date_start\":\"Sun, 01 Feb 2004 00:00:00 GMT\",\"entity\":\"E01\",\"equivalents\":{},\"name\":\"Barking and Dagenham 002B\",\"name_welsh\":null,\"owner\":\"ONS\",\"parent\":\"E02000003\",\"predecessor\":[],\"sort_order\":\"E01000032\",\"stats\":{\"idaci2015\":{\"idaci_decile\":4,\"idaci_rank\":10543,\"idaci_score\":0.228},\"idaci2019\":{\"idaci_decile\":4,\"idaci_rank\":12340,\"idaci_score\":0.169},\"idaopi2015\":{\"idaopi_decile\":4,\"idaopi_rank\":12465,\"idaopi_score\":0.193},\"idaopi2019\":{\"idaopi_decile\":4,\"idaopi_rank\":10623,\"idaopi_score\":0.191},\"imd2015\":{\"imd_crime_decile\":1,\"imd_crime_rank\":1874,\"imd_crime_score\":1.214,\"imd_decile\":3,\"imd_education_adults_decile\":3,\"imd_education_adults_rank\":7254,\"imd_education_adults_score\":0.393,\"imd_education_children_decile\":6,\"imd_education_children_rank\":18197,\"imd_education_children_score\":-0.12,\"imd_education_decile\":4,\"imd_education_rank\":11620,\"imd_education_score\":23.528,\"imd_employment_decile\":4,\"imd_employment_rank\":10361,\"imd_employment_score\":0.137,\"imd_environment_decile\":3,\"imd_environment_indoors_decile\":3,\"imd_environment_indoors_rank\":8462,\"imd_environment_indoors_score\":0.574,\"imd_environment_outdoors_rank\":2,\"imd_environment_outdoors_score\":0.849,\"imd_environment_rank\":6988,\"imd_environment_score\":33.927,\"imd_health_decile\":4,\"imd_health_rank\":10571,\"imd_health_score\":0.404,\"imd_housing_decile\":3,\"imd_housing_geographical_decile\":9,\"imd_housing_geographical_rank\":26784,\"imd_housing_geographical_score\":-0.701,\"imd_housing_rank\":7289,\"imd_housing_score\":29.341,\"imd_housing_wider_decile\":1,\"imd_housing_wider_rank\":2743,\"imd_housing_wider_score\":3.62,\"imd_income_decile\":4,\"imd_income_rank\":10212,\"imd_income_score\":0.175,\"imd_rank\":8063,\"imd_score\":30.366},\"imd2019\":{\"imd_crime_decile\":2,\"imd_crime_rank\":4275,\"imd_crime_score\":0.913,\"imd_decile\":3,\"imd_education_adults_decile\":3,\"imd_education_adults_rank\":7254,\"imd_education_adults_score\":0.393,\"imd_education_children_decile\":6,\"imd_education_children_rank\":19013,\"imd_education_children_score\":-0.176,\"imd_education_decile\":4,\"imd_education_rank\":11882,\"imd_education_score\":23.035,\"imd_employment_decile\":4,\"imd_employment_rank\":11603,\"imd_employment_score\":0.106,\"imd_environment_decile\":2,\"imd_environment_indoors_decile\":2,\"imd_environment_indoors_rank\":5798,\"imd_environment_indoors_score\":0.789,\"imd_environment_outdoors_rank\":2,\"imd_environment_outdoors_score\":0.763,\"imd_environment_rank\":4853,\"imd_environment_score\":38.369,\"imd_health_decile\":5,\"imd_health_rank\":14597,\"imd_health_score\":0.095,\"imd_housing_decile\":1,\"imd_housing_geographical_decile\":8,\"imd_housing_geographical_rank\":26230,\"imd_housing_geographical_score\":-0.649,\"imd_housing_rank\":2210,\"imd_housing_score\":39.922,\"imd_housing_wider_decile\":1,\"imd_housing_wider_rank\":861,\"imd_housing_wider_score\":5.126,\"imd_income_decile\":4,\"imd_income_rank\":10854,\"imd_income_score\":0.146,\"imd_rank\":8037,\"imd_score\":29.958},\"population2012\":{\"population_0_15\":373,\"population_16_59\":952,\"population_60_plus\":318,\"population_total\":1643,\"population_workingage\":955},\"population2015\":{\"population_0_15\":414,\"population_16_59\":1022,\"population_60_plus\":319,\"population_total\":1755,\"population_workingage\":1015}},\"statutory_instrument_id\":null,\"statutory_instrument_title\":null,\"successor\":[]},\"type\":\"Feature\"}],\"type\":\"FeatureCollection\"}\n",
      "\n"
     ]
    },
    {
     "name": "stderr",
     "output_type": "stream",
     "text": [
      "Skipping field alternative_names: unsupported OGR type: 5\n"
     ]
    },
    {
     "name": "stdout",
     "output_type": "stream",
     "text": [
      "{\"features\":[{\"geometry\":{\"coordinates\":[[[[0.157944302000033,51.54884627600006],[0.160817321000025,51.54720489400006],[0.163176538000073,51.54733816100003],[0.163600777000056,51.54699247000008],[0.164350974000058,51.54693890500005],[0.164151599000036,51.5463],[0.164914743000054,51.54609791400003],[0.165230067000039,51.545299114000045],[0.165696448000062,51.54538693000006],[0.165475170000036,51.54566958400005],[0.165810695000062,51.54578659600003],[0.166719546000024,51.54556707800003],[0.166262794000033,51.54614644500003],[0.168046005000065,51.547314122000046],[0.168933074000051,51.547802114000035],[0.179232833000071,51.54816517100005],[0.179241383000033,51.54635658700005],[0.173853899000051,51.54543130300004],[0.172644706000028,51.54522439700003],[0.167223725000042,51.54429985100006],[0.166216346000056,51.544131864000065],[0.161539952000055,51.54331231100008],[0.161527497000066,51.54388146000008],[0.160400242000037,51.54448606700004],[0.15973469100004,51.54531399900003],[0.15879301800004,51.54641093300006],[0.158553744000073,51.54777468800006],[0.157317761000058,51.54775045700006],[0.157253801000024,51.54830866800006],[0.156726797000033,51.54834843700007],[0.156482019000066,51.54871491400007],[0.157944302000033,51.54884627600006]]]],\"type\":\"MultiPolygon\"},\"properties\":{\"active\":true,\"alternative_names\":[\"Barking and Dagenham 010B\"],\"areachect\":41.87,\"areaehect\":41.87,\"areaihect\":0.0,\"arealhect\":41.87,\"child_count\":4,\"child_counts\":{\"oa21\":4},\"code\":\"E01000036\",\"date_end\":null,\"date_start\":\"Sun, 01 Feb 2004 00:00:00 GMT\",\"entity\":\"E01\",\"equivalents\":{},\"name\":\"Barking and Dagenham 010B\",\"name_welsh\":null,\"owner\":\"ONS\",\"parent\":\"E02000011\",\"predecessor\":[],\"sort_order\":\"E01000036\",\"stats\":{\"idaci2015\":{\"idaci_decile\":4,\"idaci_rank\":11142,\"idaci_score\":0.219},\"idaci2019\":{\"idaci_decile\":4,\"idaci_rank\":12404,\"idaci_score\":0.169},\"idaopi2015\":{\"idaopi_decile\":6,\"idaopi_rank\":16954,\"idaopi_score\":0.145},\"idaopi2019\":{\"idaopi_decile\":6,\"idaopi_rank\":17831,\"idaopi_score\":0.116},\"imd2015\":{\"imd_crime_decile\":3,\"imd_crime_rank\":6610,\"imd_crime_score\":0.683,\"imd_decile\":5,\"imd_education_adults_decile\":3,\"imd_education_adults_rank\":9491,\"imd_education_adults_score\":0.364,\"imd_education_children_decile\":7,\"imd_education_children_rank\":21408,\"imd_education_children_score\":-0.33,\"imd_education_decile\":5,\"imd_education_rank\":14656,\"imd_education_score\":18.761,\"imd_employment_decile\":5,\"imd_employment_rank\":15950,\"imd_employment_score\":0.099,\"imd_environment_decile\":3,\"imd_environment_indoors_decile\":4,\"imd_environment_indoors_rank\":10503,\"imd_environment_indoors_score\":0.411,\"imd_environment_outdoors_rank\":2,\"imd_environment_outdoors_score\":0.859,\"imd_environment_rank\":8277,\"imd_environment_score\":30.868,\"imd_health_decile\":6,\"imd_health_rank\":18302,\"imd_health_score\":-0.146,\"imd_housing_decile\":4,\"imd_housing_geographical_decile\":10,\"imd_housing_geographical_rank\":31804,\"imd_housing_geographical_score\":-1.387,\"imd_housing_rank\":11250,\"imd_housing_score\":24.822,\"imd_housing_wider_decile\":2,\"imd_housing_wider_rank\":3538,\"imd_housing_wider_score\":3.173,\"imd_income_decile\":5,\"imd_income_rank\":13220,\"imd_income_score\":0.142,\"imd_rank\":13503,\"imd_score\":20.949},\"imd2019\":{\"imd_crime_decile\":4,\"imd_crime_rank\":10655,\"imd_crime_score\":0.386,\"imd_decile\":5,\"imd_education_adults_decile\":3,\"imd_education_adults_rank\":9491,\"imd_education_adults_score\":0.364,\"imd_education_children_decile\":9,\"imd_education_children_rank\":27407,\"imd_education_children_score\":-0.78,\"imd_education_decile\":6,\"imd_education_rank\":16612,\"imd_education_score\":15.969,\"imd_employment_decile\":6,\"imd_employment_rank\":17997,\"imd_employment_score\":0.073,\"imd_environment_decile\":4,\"imd_environment_indoors_decile\":4,\"imd_environment_indoors_rank\":11074,\"imd_environment_indoors_score\":0.359,\"imd_environment_outdoors_rank\":3,\"imd_environment_outdoors_score\":0.626,\"imd_environment_rank\":10188,\"imd_environment_score\":27.612,\"imd_health_decile\":6,\"imd_health_rank\":18923,\"imd_health_score\":-0.185,\"imd_housing_decile\":2,\"imd_housing_geographical_decile\":10,\"imd_housing_geographical_rank\":30739,\"imd_housing_geographical_score\":-1.142,\"imd_housing_rank\":5829,\"imd_housing_score\":31.724,\"imd_housing_wider_decile\":1,\"imd_housing_wider_rank\":1822,\"imd_housing_wider_score\":4.387,\"imd_income_decile\":5,\"imd_income_rank\":14690,\"imd_income_score\":0.112,\"imd_rank\":15028,\"imd_score\":19.27},\"population2012\":{\"population_0_15\":322,\"population_16_59\":856,\"population_60_plus\":214,\"population_total\":1392,\"population_workingage\":832},\"population2015\":{\"population_0_15\":327,\"population_16_59\":927,\"population_60_plus\":239,\"population_total\":1493,\"population_workingage\":912}},\"statutory_instrument_id\":null,\"statutory_instrument_title\":null,\"successor\":[]},\"type\":\"Feature\"}],\"type\":\"FeatureCollection\"}\n",
      "\n"
     ]
    },
    {
     "name": "stderr",
     "output_type": "stream",
     "text": [
      "Skipping field alternative_names: unsupported OGR type: 5\n"
     ]
    },
    {
     "name": "stdout",
     "output_type": "stream",
     "text": [
      "{\"features\":[{\"geometry\":{\"coordinates\":[[[[0.185108228000047,51.56480128800007],[0.184026,51.563912850000065],[0.183449220000057,51.562784273000034],[0.182733079000059,51.561267402000055],[0.181722411000067,51.56117384200007],[0.179345711000053,51.56088936100008],[0.17932178600006,51.560927648000074],[0.17804303500003,51.56093845600003],[0.178004993000059,51.560335476000034],[0.177053597000054,51.55999992800008],[0.176479001000075,51.55936165700007],[0.17557929000003,51.559252438000044],[0.175464576000024,51.56068907500003],[0.173818457000039,51.56012065800007],[0.174633940000035,51.561048045000064],[0.174942791000035,51.56245423000007],[0.175513499000033,51.562410216000046],[0.175834045000045,51.561861417000046],[0.176600887000063,51.562494696000044],[0.177172653000071,51.563289517000044],[0.176706480000064,51.563921985000036],[0.178075617000047,51.56378505100008],[0.178104746000031,51.564394941000046],[0.178940340000054,51.56444858700007],[0.179047298000057,51.56490143900004],[0.183377809000035,51.56465908600006],[0.185164583000073,51.56552373800008],[0.185108228000047,51.56480128800007]]]],\"type\":\"MultiPolygon\"},\"properties\":{\"active\":true,\"alternative_names\":[\"Barking and Dagenham 003B\"],\"areachect\":23.34,\"areaehect\":23.34,\"areaihect\":0.0,\"arealhect\":23.34,\"child_count\":5,\"child_counts\":{\"oa21\":5},\"code\":\"E01000037\",\"date_end\":null,\"date_start\":\"Sun, 01 Feb 2004 00:00:00 GMT\",\"entity\":\"E01\",\"equivalents\":{},\"name\":\"Barking and Dagenham 003B\",\"name_welsh\":null,\"owner\":\"ONS\",\"parent\":\"E02000004\",\"predecessor\":[],\"sort_order\":\"E01000037\",\"stats\":{\"idaci2015\":{\"idaci_decile\":4,\"idaci_rank\":12732,\"idaci_score\":0.195},\"idaci2019\":{\"idaci_decile\":5,\"idaci_rank\":16218,\"idaci_score\":0.128},\"idaopi2015\":{\"idaopi_decile\":7,\"idaopi_rank\":21511,\"idaopi_score\":0.108},\"idaopi2019\":{\"idaopi_decile\":6,\"idaopi_rank\":19150,\"idaopi_score\":0.107},\"imd2015\":{\"imd_crime_decile\":7,\"imd_crime_rank\":21353,\"imd_crime_score\":-0.319,\"imd_decile\":5,\"imd_education_adults_decile\":4,\"imd_education_adults_rank\":10773,\"imd_education_adults_score\":0.35,\"imd_education_children_decile\":6,\"imd_education_children_rank\":17713,\"imd_education_children_score\":-0.091,\"imd_education_decile\":5,\"imd_education_rank\":14137,\"imd_education_score\":19.495,\"imd_employment_decile\":3,\"imd_employment_rank\":8692,\"imd_employment_score\":0.153,\"imd_environment_decile\":5,\"imd_environment_indoors_decile\":6,\"imd_environment_indoors_rank\":17048,\"imd_environment_indoors_score\":-0.039,\"imd_environment_outdoors_rank\":4,\"imd_environment_outdoors_score\":0.346,\"imd_environment_rank\":15997,\"imd_environment_score\":18.161,\"imd_health_decile\":7,\"imd_health_rank\":21205,\"imd_health_score\":-0.347,\"imd_housing_decile\":4,\"imd_housing_geographical_decile\":7,\"imd_housing_geographical_rank\":21641,\"imd_housing_geographical_score\":-0.336,\"imd_housing_rank\":11027,\"imd_housing_score\":25.012,\"imd_housing_wider_decile\":2,\"imd_housing_wider_rank\":5270,\"imd_housing_wider_score\":2.5,\"imd_income_decile\":4,\"imd_income_rank\":12774,\"imd_income_score\":0.147,\"imd_rank\":14189,\"imd_score\":20.079},\"imd2019\":{\"imd_crime_decile\":6,\"imd_crime_rank\":17649,\"imd_crime_score\":-0.067,\"imd_decile\":5,\"imd_education_adults_decile\":4,\"imd_education_adults_rank\":10773,\"imd_education_adults_score\":0.35,\"imd_education_children_decile\":6,\"imd_education_children_rank\":16504,\"imd_education_children_score\":-0.025,\"imd_education_decile\":5,\"imd_education_rank\":13611,\"imd_education_score\":20.288,\"imd_employment_decile\":4,\"imd_employment_rank\":12386,\"imd_employment_score\":0.101,\"imd_environment_decile\":5,\"imd_environment_indoors_decile\":6,\"imd_environment_indoors_rank\":19566,\"imd_environment_indoors_score\":-0.195,\"imd_environment_outdoors_rank\":3,\"imd_environment_outdoors_score\":0.62,\"imd_environment_rank\":15997,\"imd_environment_score\":19.057,\"imd_health_decile\":8,\"imd_health_rank\":23465,\"imd_health_score\":-0.504,\"imd_housing_decile\":3,\"imd_housing_geographical_decile\":7,\"imd_housing_geographical_rank\":21566,\"imd_housing_geographical_score\":-0.341,\"imd_housing_rank\":7168,\"imd_housing_score\":29.715,\"imd_housing_wider_decile\":2,\"imd_housing_wider_rank\":3370,\"imd_housing_wider_score\":3.504,\"imd_income_decile\":6,\"imd_income_rank\":16924,\"imd_income_score\":0.096,\"imd_rank\":16128,\"imd_score\":17.988},\"population2012\":{\"population_0_15\":285,\"population_16_59\":1144,\"population_60_plus\":301,\"population_total\":1730,\"population_workingage\":1138},\"population2015\":{\"population_0_15\":309,\"population_16_59\":1292,\"population_60_plus\":330,\"population_total\":1931,\"population_workingage\":1275}},\"statutory_instrument_id\":null,\"statutory_instrument_title\":null,\"successor\":[]},\"type\":\"Feature\"}],\"type\":\"FeatureCollection\"}\n",
      "\n"
     ]
    },
    {
     "name": "stderr",
     "output_type": "stream",
     "text": [
      "Skipping field alternative_names: unsupported OGR type: 5\n"
     ]
    },
    {
     "name": "stdout",
     "output_type": "stream",
     "text": [
      "{\"features\":[{\"geometry\":{\"coordinates\":[[[[0.173424300000022,51.56509983500007],[0.176864747000025,51.56479759700005],[0.179047298000057,51.56490143900004],[0.178940340000054,51.56444858700007],[0.178104746000031,51.564394941000046],[0.178075617000047,51.56378505100008],[0.176706480000064,51.563921985000036],[0.177172653000071,51.563289517000044],[0.176600887000063,51.562494696000044],[0.175834045000045,51.561861417000046],[0.175513499000033,51.562410216000046],[0.174942791000035,51.56245423000007],[0.174633940000035,51.561048045000064],[0.173584966000021,51.561131043000046],[0.169277923000038,51.56149506400004],[0.168548423000061,51.561546547000034],[0.168347836000066,51.56353264900008],[0.169931445000032,51.56412653800004],[0.170204245000036,51.56422610000004],[0.173424300000022,51.56509983500007]]]],\"type\":\"MultiPolygon\"},\"properties\":{\"active\":true,\"alternative_names\":[\"Barking and Dagenham 003C\"],\"areachect\":21.4,\"areaehect\":21.4,\"areaihect\":0.0,\"arealhect\":21.4,\"child_count\":5,\"child_counts\":{\"oa21\":5},\"code\":\"E01000038\",\"date_end\":null,\"date_start\":\"Sun, 01 Feb 2004 00:00:00 GMT\",\"entity\":\"E01\",\"equivalents\":{},\"name\":\"Barking and Dagenham 003C\",\"name_welsh\":null,\"owner\":\"ONS\",\"parent\":\"E02000004\",\"predecessor\":[],\"sort_order\":\"E01000038\",\"stats\":{\"idaci2015\":{\"idaci_decile\":4,\"idaci_rank\":10923,\"idaci_score\":0.222},\"idaci2019\":{\"idaci_decile\":3,\"idaci_rank\":9850,\"idaci_score\":0.204},\"idaopi2015\":{\"idaopi_decile\":5,\"idaopi_rank\":14553,\"idaopi_score\":0.169},\"idaopi2019\":{\"idaopi_decile\":4,\"idaopi_rank\":12816,\"idaopi_score\":0.164},\"imd2015\":{\"imd_crime_decile\":5,\"imd_crime_rank\":14919,\"imd_crime_score\":0.105,\"imd_decile\":5,\"imd_education_adults_decile\":3,\"imd_education_adults_rank\":8726,\"imd_education_adults_score\":0.374,\"imd_education_children_decile\":8,\"imd_education_children_rank\":23525,\"imd_education_children_score\":-0.474,\"imd_education_decile\":5,\"imd_education_rank\":14731,\"imd_education_score\":18.619,\"imd_employment_decile\":4,\"imd_employment_rank\":12448,\"imd_employment_score\":0.121,\"imd_environment_decile\":6,\"imd_environment_indoors_decile\":6,\"imd_environment_indoors_rank\":18277,\"imd_environment_indoors_score\":-0.122,\"imd_environment_outdoors_rank\":4,\"imd_environment_outdoors_score\":0.246,\"imd_environment_rank\":17494,\"imd_environment_score\":16.214,\"imd_health_decile\":6,\"imd_health_rank\":16747,\"imd_health_score\":-0.043,\"imd_housing_decile\":4,\"imd_housing_geographical_decile\":10,\"imd_housing_geographical_rank\":31082,\"imd_housing_geographical_score\":-1.22,\"imd_housing_rank\":12008,\"imd_housing_score\":24.049,\"imd_housing_wider_decile\":2,\"imd_housing_wider_rank\":3911,\"imd_housing_wider_score\":3.01,\"imd_income_decile\":5,\"imd_income_rank\":13158,\"imd_income_score\":0.143,\"imd_rank\":14938,\"imd_score\":19.125},\"imd2019\":{\"imd_crime_decile\":5,\"imd_crime_rank\":13426,\"imd_crime_score\":0.204,\"imd_decile\":5,\"imd_education_adults_decile\":3,\"imd_education_adults_rank\":8726,\"imd_education_adults_score\":0.374,\"imd_education_children_decile\":8,\"imd_education_children_rank\":23353,\"imd_education_children_score\":-0.46,\"imd_education_decile\":5,\"imd_education_rank\":14630,\"imd_education_score\":18.702,\"imd_employment_decile\":6,\"imd_employment_rank\":16560,\"imd_employment_score\":0.079,\"imd_environment_decile\":4,\"imd_environment_indoors_decile\":5,\"imd_environment_indoors_rank\":15635,\"imd_environment_indoors_score\":0.051,\"imd_environment_outdoors_rank\":2,\"imd_environment_outdoors_score\":1.051,\"imd_environment_rank\":10547,\"imd_environment_score\":27.001,\"imd_health_decile\":6,\"imd_health_rank\":17616,\"imd_health_score\":-0.103,\"imd_housing_decile\":3,\"imd_housing_geographical_decile\":10,\"imd_housing_geographical_rank\":30849,\"imd_housing_geographical_score\":-1.163,\"imd_housing_rank\":8490,\"imd_housing_score\":27.945,\"imd_housing_wider_decile\":1,\"imd_housing_wider_rank\":2687,\"imd_housing_wider_score\":3.881,\"imd_income_decile\":4,\"imd_income_rank\":12877,\"imd_income_score\":0.127,\"imd_rank\":14671,\"imd_score\":19.646},\"population2012\":{\"population_0_15\":285,\"population_16_59\":816,\"population_60_plus\":349,\"population_total\":1450,\"population_workingage\":805},\"population2015\":{\"population_0_15\":278,\"population_16_59\":827,\"population_60_plus\":341,\"population_total\":1446,\"population_workingage\":826}},\"statutory_instrument_id\":null,\"statutory_instrument_title\":null,\"successor\":[]},\"type\":\"Feature\"}],\"type\":\"FeatureCollection\"}\n",
      "\n"
     ]
    },
    {
     "name": "stderr",
     "output_type": "stream",
     "text": [
      "Skipping field alternative_names: unsupported OGR type: 5\n"
     ]
    },
    {
     "name": "stdout",
     "output_type": "stream",
     "text": [
      "{\"features\":[{\"geometry\":{\"coordinates\":[[[[0.112472959000058,51.537741905000075],[0.111402232000046,51.53724787900006],[0.111241221000057,51.53660867100007],[0.110845754000024,51.53663518900004],[0.110202884000046,51.537144227000056],[0.108878724000022,51.53725002700003],[0.10833973900003,51.53501272200003],[0.10533214700007,51.53474274200005],[0.10423372200006,51.53616892000008],[0.103168095000058,51.535508063000066],[0.102588049000076,51.535700390000045],[0.102994230000036,51.53642634800008],[0.102405635000025,51.536433654000064],[0.101587859000063,51.537532776000035],[0.100980076000042,51.53749837300006],[0.10091757400005,51.53775098500006],[0.100968859000034,51.53827338900004],[0.101787114000047,51.538339102000066],[0.104919121000023,51.53862054000007],[0.105711989000042,51.53867889300005],[0.106623442000057,51.538753091000046],[0.112688716000036,51.539230512000074],[0.112521886000025,51.53789920500003],[0.112472959000058,51.537741905000075]]]],\"type\":\"MultiPolygon\"},\"properties\":{\"active\":true,\"alternative_names\":[\"Barking and Dagenham 017B\"],\"areachect\":23.12,\"areaehect\":23.12,\"areaihect\":0.0,\"arealhect\":23.12,\"child_count\":5,\"child_counts\":{\"oa21\":5},\"code\":\"E01000042\",\"date_end\":null,\"date_start\":\"Sun, 01 Feb 2004 00:00:00 GMT\",\"entity\":\"E01\",\"equivalents\":{},\"name\":\"Barking and Dagenham 017B\",\"name_welsh\":null,\"owner\":\"ONS\",\"parent\":\"E02000018\",\"predecessor\":[],\"sort_order\":\"E01000042\",\"stats\":{\"idaci2015\":{\"idaci_decile\":1,\"idaci_rank\":2587,\"idaci_score\":0.409},\"idaci2019\":{\"idaci_decile\":2,\"idaci_rank\":5029,\"idaci_score\":0.286},\"idaopi2015\":{\"idaopi_decile\":1,\"idaopi_rank\":2336,\"idaopi_score\":0.405},\"idaopi2019\":{\"idaopi_decile\":1,\"idaopi_rank\":2664,\"idaopi_score\":0.365},\"imd2015\":{\"imd_crime_decile\":3,\"imd_crime_rank\":8606,\"imd_crime_score\":0.531,\"imd_decile\":2,\"imd_education_adults_decile\":2,\"imd_education_adults_rank\":5889,\"imd_education_adults_score\":0.414,\"imd_education_children_decile\":3,\"imd_education_children_rank\":9153,\"imd_education_children_score\":0.472,\"imd_education_decile\":3,\"imd_education_rank\":7357,\"imd_education_score\":33.421,\"imd_employment_decile\":1,\"imd_employment_rank\":3127,\"imd_employment_score\":0.234,\"imd_environment_decile\":4,\"imd_environment_indoors_decile\":4,\"imd_environment_indoors_rank\":12695,\"imd_environment_indoors_score\":0.261,\"imd_environment_outdoors_rank\":3,\"imd_environment_outdoors_score\":0.538,\"imd_environment_rank\":11713,\"imd_environment_score\":24.491,\"imd_health_decile\":4,\"imd_health_rank\":10700,\"imd_health_score\":0.393,\"imd_housing_decile\":1,\"imd_housing_geographical_decile\":7,\"imd_housing_geographical_rank\":21244,\"imd_housing_geographical_score\":-0.314,\"imd_housing_rank\":1515,\"imd_housing_score\":42.456,\"imd_housing_wider_decile\":1,\"imd_housing_wider_rank\":844,\"imd_housing_wider_score\":5.095,\"imd_income_decile\":1,\"imd_income_rank\":2070,\"imd_income_score\":0.338,\"imd_rank\":3446,\"imd_score\":43.898},\"imd2019\":{\"imd_crime_decile\":4,\"imd_crime_rank\":12499,\"imd_crime_score\":0.263,\"imd_decile\":2,\"imd_education_adults_decile\":2,\"imd_education_adults_rank\":5889,\"imd_education_adults_score\":0.414,\"imd_education_children_decile\":4,\"imd_education_children_rank\":10945,\"imd_education_children_score\":0.335,\"imd_education_decile\":3,\"imd_education_rank\":8009,\"imd_education_score\":31.45,\"imd_employment_decile\":2,\"imd_employment_rank\":5445,\"imd_employment_score\":0.164,\"imd_environment_decile\":4,\"imd_environment_indoors_decile\":6,\"imd_environment_indoors_rank\":17989,\"imd_environment_indoors_score\":-0.097,\"imd_environment_outdoors_rank\":2,\"imd_environment_outdoors_score\":1.039,\"imd_environment_rank\":11945,\"imd_environment_score\":24.75,\"imd_health_decile\":3,\"imd_health_rank\":8795,\"imd_health_score\":0.526,\"imd_housing_decile\":1,\"imd_housing_geographical_decile\":4,\"imd_housing_geographical_rank\":12073,\"imd_housing_geographical_score\":0.213,\"imd_housing_rank\":32,\"imd_housing_score\":57.015,\"imd_housing_wider_decile\":1,\"imd_housing_wider_rank\":193,\"imd_housing_wider_score\":6.32,\"imd_income_decile\":2,\"imd_income_rank\":3492,\"imd_income_score\":0.263,\"imd_rank\":3842,\"imd_score\":41.573},\"population2012\":{\"population_0_15\":535,\"population_16_59\":1099,\"population_60_plus\":192,\"population_total\":1826,\"population_workingage\":1082},\"population2015\":{\"population_0_15\":592,\"population_16_59\":1213,\"population_60_plus\":181,\"population_total\":1986,\"population_workingage\":1205}},\"statutory_instrument_id\":null,\"statutory_instrument_title\":null,\"successor\":[]},\"type\":\"Feature\"}],\"type\":\"FeatureCollection\"}\n",
      "\n"
     ]
    },
    {
     "name": "stderr",
     "output_type": "stream",
     "text": [
      "Skipping field alternative_names: unsupported OGR type: 5\n"
     ]
    },
    {
     "name": "stdout",
     "output_type": "stream",
     "text": [
      "{\"features\":[{\"geometry\":{\"coordinates\":[[[[0.10423372200006,51.53616892000008],[0.10533214700007,51.53474274200005],[0.104445509000072,51.534158484000045],[0.10368199200002,51.53204870600007],[0.100649910000072,51.53148442100007],[0.09900624200003,51.53182852700007],[0.094617501000073,51.533078869000065],[0.094183483000052,51.533220319000066],[0.094845157000066,51.53348499900005],[0.094909396000048,51.53410956400006],[0.095396716000039,51.534149530000036],[0.09580586900006,51.53509474600003],[0.094983357000046,51.53558387800007],[0.095732134000059,51.53556151200007],[0.099457561000065,51.53583666800006],[0.102588049000076,51.535700390000045],[0.103168095000058,51.535508063000066],[0.10423372200006,51.53616892000008]]]],\"type\":\"MultiPolygon\"},\"properties\":{\"active\":true,\"alternative_names\":[\"Barking and Dagenham 019B\"],\"areachect\":26.64,\"areaehect\":26.64,\"areaihect\":0.0,\"arealhect\":26.64,\"child_count\":4,\"child_counts\":{\"oa21\":4},\"code\":\"E01000043\",\"date_end\":null,\"date_start\":\"Sun, 01 Feb 2004 00:00:00 GMT\",\"entity\":\"E01\",\"equivalents\":{},\"name\":\"Barking and Dagenham 019B\",\"name_welsh\":null,\"owner\":\"ONS\",\"parent\":\"E02000020\",\"predecessor\":[],\"sort_order\":\"E01000043\",\"stats\":{\"idaci2015\":{\"idaci_decile\":2,\"idaci_rank\":6117,\"idaci_score\":0.312},\"idaci2019\":{\"idaci_decile\":4,\"idaci_rank\":12693,\"idaci_score\":0.165},\"idaopi2015\":{\"idaopi_decile\":2,\"idaopi_rank\":6066,\"idaopi_score\":0.296},\"idaopi2019\":{\"idaopi_decile\":3,\"idaopi_rank\":7080,\"idaopi_score\":0.247},\"imd2015\":{\"imd_crime_decile\":1,\"imd_crime_rank\":3228,\"imd_crime_score\":1.016,\"imd_decile\":3,\"imd_education_adults_decile\":2,\"imd_education_adults_rank\":5395,\"imd_education_adults_score\":0.423,\"imd_education_children_decile\":4,\"imd_education_children_rank\":11185,\"imd_education_children_score\":0.328,\"imd_education_decile\":3,\"imd_education_rank\":7784,\"imd_education_score\":32.146,\"imd_employment_decile\":3,\"imd_employment_rank\":8667,\"imd_employment_score\":0.153,\"imd_environment_decile\":4,\"imd_environment_indoors_decile\":5,\"imd_environment_indoors_rank\":13408,\"imd_environment_indoors_score\":0.209,\"imd_environment_outdoors_rank\":2,\"imd_environment_outdoors_score\":0.88,\"imd_environment_rank\":9949,\"imd_environment_score\":27.521,\"imd_health_decile\":4,\"imd_health_rank\":11250,\"imd_health_score\":0.35,\"imd_housing_decile\":2,\"imd_housing_geographical_decile\":9,\"imd_housing_geographical_rank\":28677,\"imd_housing_geographical_score\":-0.876,\"imd_housing_rank\":5146,\"imd_housing_score\":32.707,\"imd_housing_wider_decile\":1,\"imd_housing_wider_rank\":1784,\"imd_housing_wider_score\":4.288,\"imd_income_decile\":2,\"imd_income_rank\":6127,\"imd_income_score\":0.237,\"imd_rank\":6612,\"imd_score\":33.748},\"imd2019\":{\"imd_crime_decile\":3,\"imd_crime_rank\":8080,\"imd_crime_score\":0.574,\"imd_decile\":3,\"imd_education_adults_decile\":2,\"imd_education_adults_rank\":5395,\"imd_education_adults_score\":0.423,\"imd_education_children_decile\":5,\"imd_education_children_rank\":14911,\"imd_education_children_score\":0.071,\"imd_education_decile\":3,\"imd_education_rank\":8996,\"imd_education_score\":28.946,\"imd_employment_decile\":5,\"imd_employment_rank\":15314,\"imd_employment_score\":0.085,\"imd_environment_decile\":3,\"imd_environment_indoors_decile\":5,\"imd_environment_indoors_rank\":14886,\"imd_environment_indoors_score\":0.101,\"imd_environment_outdoors_rank\":1,\"imd_environment_outdoors_score\":1.548,\"imd_environment_rank\":6764,\"imd_environment_score\":33.853,\"imd_health_decile\":5,\"imd_health_rank\":15334,\"imd_health_score\":0.044,\"imd_housing_decile\":1,\"imd_housing_geographical_decile\":10,\"imd_housing_geographical_rank\":29917,\"imd_housing_geographical_score\":-1.015,\"imd_housing_rank\":1445,\"imd_housing_score\":42.921,\"imd_housing_wider_decile\":1,\"imd_housing_wider_rank\":444,\"imd_housing_wider_score\":5.735,\"imd_income_decile\":4,\"imd_income_rank\":10803,\"imd_income_score\":0.147,\"imd_rank\":8992,\"imd_score\":28.075},\"population2012\":{\"population_0_15\":328,\"population_16_59\":781,\"population_60_plus\":233,\"population_total\":1342,\"population_workingage\":770},\"population2015\":{\"population_0_15\":359,\"population_16_59\":924,\"population_60_plus\":233,\"population_total\":1516,\"population_workingage\":914}},\"statutory_instrument_id\":null,\"statutory_instrument_title\":null,\"successor\":[]},\"type\":\"Feature\"}],\"type\":\"FeatureCollection\"}\n",
      "\n"
     ]
    },
    {
     "name": "stderr",
     "output_type": "stream",
     "text": [
      "Skipping field alternative_names: unsupported OGR type: 5\n"
     ]
    },
    {
     "name": "stdout",
     "output_type": "stream",
     "text": [
      "{\"features\":[{\"geometry\":{\"coordinates\":[[[[0.086550874000068,51.53758577000008],[0.08964856800003,51.537393387000066],[0.09210138800006,51.53755218600003],[0.092609458000027,51.53759179800005],[0.093626209000035,51.53767172400006],[0.093722499000023,51.53767918600005],[0.093767766000042,51.53768239900006],[0.092790699000034,51.53667409700006],[0.093143640000051,51.53656025600003],[0.092976019000048,51.53585270000008],[0.093390735000071,51.53584874500007],[0.093568939000022,51.535165809000034],[0.09441931300006,51.53500087400005],[0.094909396000048,51.53410956400006],[0.094845157000066,51.53348499900005],[0.094183483000052,51.533220319000066],[0.092358911000019,51.53386515700004],[0.09010657500005,51.53474736800007],[0.089224520000073,51.53505439500003],[0.085521056000061,51.53703548400006],[0.082944355000052,51.538296657000046],[0.081585275000066,51.53912812600004],[0.084998746000053,51.53789744900007],[0.086550874000068,51.53758577000008]]]],\"type\":\"MultiPolygon\"},\"properties\":{\"active\":true,\"alternative_names\":[\"Barking and Dagenham 016D\"],\"areachect\":17.06,\"areaehect\":17.06,\"areaihect\":0.0,\"arealhect\":17.06,\"child_count\":5,\"child_counts\":{\"oa21\":5},\"code\":\"E01000044\",\"date_end\":null,\"date_start\":\"Sun, 01 Feb 2004 00:00:00 GMT\",\"entity\":\"E01\",\"equivalents\":{},\"name\":\"Barking and Dagenham 016D\",\"name_welsh\":null,\"owner\":\"ONS\",\"parent\":\"E02000017\",\"predecessor\":[],\"sort_order\":\"E01000044\",\"stats\":{\"idaci2015\":{\"idaci_decile\":3,\"idaci_rank\":7688,\"idaci_score\":0.28},\"idaci2019\":{\"idaci_decile\":4,\"idaci_rank\":12212,\"idaci_score\":0.171},\"idaopi2015\":{\"idaopi_decile\":4,\"idaopi_rank\":11964,\"idaopi_score\":0.199},\"idaopi2019\":{\"idaopi_decile\":4,\"idaopi_rank\":11619,\"idaopi_score\":0.178},\"imd2015\":{\"imd_crime_decile\":1,\"imd_crime_rank\":506,\"imd_crime_score\":1.615,\"imd_decile\":3,\"imd_education_adults_decile\":4,\"imd_education_adults_rank\":11293,\"imd_education_adults_score\":0.344,\"imd_education_children_decile\":4,\"imd_education_children_rank\":12750,\"imd_education_children_score\":0.221,\"imd_education_decile\":4,\"imd_education_rank\":12107,\"imd_education_score\":22.648,\"imd_employment_decile\":5,\"imd_employment_rank\":13483,\"imd_employment_score\":0.114,\"imd_environment_decile\":2,\"imd_environment_indoors_decile\":3,\"imd_environment_indoors_rank\":7072,\"imd_environment_indoors_score\":0.693,\"imd_environment_outdoors_rank\":2,\"imd_environment_outdoors_score\":0.872,\"imd_environment_rank\":5817,\"imd_environment_score\":36.819,\"imd_health_decile\":6,\"imd_health_rank\":17765,\"imd_health_score\":-0.108,\"imd_housing_decile\":2,\"imd_housing_geographical_decile\":10,\"imd_housing_geographical_rank\":31585,\"imd_housing_geographical_score\":-1.33,\"imd_housing_rank\":5376,\"imd_housing_score\":32.313,\"imd_housing_wider_decile\":1,\"imd_housing_wider_rank\":1653,\"imd_housing_wider_score\":4.388,\"imd_income_decile\":3,\"imd_income_rank\":8688,\"imd_income_score\":0.195,\"imd_rank\":7728,\"imd_score\":31.07},\"imd2019\":{\"imd_crime_decile\":1,\"imd_crime_rank\":2950,\"imd_crime_score\":1.077,\"imd_decile\":3,\"imd_education_adults_decile\":4,\"imd_education_adults_rank\":11293,\"imd_education_adults_score\":0.344,\"imd_education_children_decile\":5,\"imd_education_children_rank\":13199,\"imd_education_children_score\":0.18,\"imd_education_decile\":4,\"imd_education_rank\":12369,\"imd_education_score\":22.263,\"imd_employment_decile\":6,\"imd_employment_rank\":16632,\"imd_employment_score\":0.079,\"imd_environment_decile\":1,\"imd_environment_indoors_decile\":2,\"imd_environment_indoors_rank\":6093,\"imd_environment_indoors_score\":0.762,\"imd_environment_outdoors_rank\":1,\"imd_environment_outdoors_score\":1.326,\"imd_environment_rank\":3119,\"imd_environment_score\":44.13,\"imd_health_decile\":7,\"imd_health_rank\":22250,\"imd_health_score\":-0.41,\"imd_housing_decile\":1,\"imd_housing_geographical_decile\":10,\"imd_housing_geographical_rank\":32363,\"imd_housing_geographical_score\":-1.632,\"imd_housing_rank\":1507,\"imd_housing_score\":42.638,\"imd_housing_wider_decile\":1,\"imd_housing_wider_rank\":399,\"imd_housing_wider_score\":5.838,\"imd_income_decile\":4,\"imd_income_rank\":12202,\"imd_income_score\":0.133,\"imd_rank\":8825,\"imd_score\":28.389},\"population2012\":{\"population_0_15\":491,\"population_16_59\":1119,\"population_60_plus\":212,\"population_total\":1822,\"population_workingage\":1113},\"population2015\":{\"population_0_15\":497,\"population_16_59\":1166,\"population_60_plus\":232,\"population_total\":1895,\"population_workingage\":1151}},\"statutory_instrument_id\":null,\"statutory_instrument_title\":null,\"successor\":[]},\"type\":\"Feature\"}],\"type\":\"FeatureCollection\"}\n",
      "\n"
     ]
    },
    {
     "name": "stderr",
     "output_type": "stream",
     "text": [
      "Skipping field alternative_names: unsupported OGR type: 5\n"
     ]
    },
    {
     "name": "stdout",
     "output_type": "stream",
     "text": [
      "{\"features\":[{\"geometry\":{\"coordinates\":[[[[0.112472908000029,51.537707296000065],[0.112120511000057,51.53660432600003],[0.113187918000051,51.53684681500005],[0.113223573000027,51.53648856800004],[0.114488994000055,51.536054937000074],[0.114880104000065,51.53637577500007],[0.114588343000037,51.53669315700006],[0.115305301000035,51.53696800100005],[0.115694079000036,51.53650158700003],[0.117155062000052,51.536579963000065],[0.117647083000065,51.53629974800003],[0.117628129000025,51.53628612800003],[0.116509370000074,51.53545851400003],[0.117325583000024,51.53470402000005],[0.117783023000072,51.53465076100008],[0.117766987000039,51.53440354700007],[0.117714017000026,51.534402413000066],[0.115706190000026,51.53427464300006],[0.115682356000036,51.534505170000045],[0.11364793000007,51.534430576000034],[0.113041408000072,51.53270474100003],[0.108587967000062,51.532769966000046],[0.10368199200002,51.53204870600007],[0.104445509000072,51.534158484000045],[0.10533214700007,51.53474274200005],[0.10833973900003,51.53501272200003],[0.108878724000022,51.53725002700003],[0.110202884000046,51.537144227000056],[0.110845754000024,51.53663518900004],[0.111241221000057,51.53660867100007],[0.111402232000046,51.53724787900006],[0.112472959000058,51.537741905000075],[0.112472908000029,51.537707296000065]]]],\"type\":\"MultiPolygon\"},\"properties\":{\"active\":true,\"alternative_names\":[\"Barking and Dagenham 017C\"],\"areachect\":29.83,\"areaehect\":29.83,\"areaihect\":0.0,\"arealhect\":29.83,\"child_count\":5,\"child_counts\":{\"oa21\":5},\"code\":\"E01000045\",\"date_end\":null,\"date_start\":\"Sun, 01 Feb 2004 00:00:00 GMT\",\"entity\":\"E01\",\"equivalents\":{},\"name\":\"Barking and Dagenham 017C\",\"name_welsh\":null,\"owner\":\"ONS\",\"parent\":\"E02000018\",\"predecessor\":[],\"sort_order\":\"E01000045\",\"stats\":{\"idaci2015\":{\"idaci_decile\":2,\"idaci_rank\":4426,\"idaci_score\":0.354},\"idaci2019\":{\"idaci_decile\":3,\"idaci_rank\":8928,\"idaci_score\":0.217},\"idaopi2015\":{\"idaopi_decile\":2,\"idaopi_rank\":4878,\"idaopi_score\":0.324},\"idaopi2019\":{\"idaopi_decile\":2,\"idaopi_rank\":6039,\"idaopi_score\":0.267},\"imd2015\":{\"imd_crime_decile\":1,\"imd_crime_rank\":1165,\"imd_crime_score\":1.372,\"imd_decile\":2,\"imd_education_adults_decile\":3,\"imd_education_adults_rank\":8353,\"imd_education_adults_score\":0.378,\"imd_education_children_decile\":4,\"imd_education_children_rank\":11636,\"imd_education_children_score\":0.295,\"imd_education_decile\":4,\"imd_education_rank\":9897,\"imd_education_score\":26.985,\"imd_employment_decile\":3,\"imd_employment_rank\":8662,\"imd_employment_score\":0.154,\"imd_environment_decile\":2,\"imd_environment_indoors_decile\":3,\"imd_environment_indoors_rank\":8364,\"imd_environment_indoors_score\":0.582,\"imd_environment_outdoors_rank\":1,\"imd_environment_outdoors_score\":1.435,\"imd_environment_rank\":4302,\"imd_environment_score\":41.391,\"imd_health_decile\":4,\"imd_health_rank\":12082,\"imd_health_score\":0.286,\"imd_housing_decile\":2,\"imd_housing_geographical_decile\":10,\"imd_housing_geographical_rank\":30553,\"imd_housing_geographical_score\":-1.124,\"imd_housing_rank\":4381,\"imd_housing_score\":34.174,\"imd_housing_wider_decile\":1,\"imd_housing_wider_rank\":1401,\"imd_housing_wider_score\":4.59,\"imd_income_decile\":2,\"imd_income_rank\":4673,\"imd_income_score\":0.267,\"imd_rank\":5172,\"imd_score\":37.896},\"imd2019\":{\"imd_crime_decile\":1,\"imd_crime_rank\":2160,\"imd_crime_score\":1.214,\"imd_decile\":2,\"imd_education_adults_decile\":3,\"imd_education_adults_rank\":8353,\"imd_education_adults_score\":0.378,\"imd_education_children_decile\":5,\"imd_education_children_rank\":15194,\"imd_education_children_score\":0.053,\"imd_education_decile\":4,\"imd_education_rank\":11338,\"imd_education_score\":24.013,\"imd_employment_decile\":3,\"imd_employment_rank\":9056,\"imd_employment_score\":0.125,\"imd_environment_decile\":2,\"imd_environment_indoors_decile\":5,\"imd_environment_indoors_rank\":13893,\"imd_environment_indoors_score\":0.165,\"imd_environment_outdoors_rank\":1,\"imd_environment_outdoors_score\":1.577,\"imd_environment_rank\":6123,\"imd_environment_score\":35.245,\"imd_health_decile\":4,\"imd_health_rank\":11924,\"imd_health_score\":0.279,\"imd_housing_decile\":1,\"imd_housing_geographical_decile\":10,\"imd_housing_geographical_rank\":30779,\"imd_housing_geographical_score\":-1.148,\"imd_housing_rank\":1145,\"imd_housing_score\":44.514,\"imd_housing_wider_decile\":1,\"imd_housing_wider_rank\":310,\"imd_housing_wider_score\":6.012,\"imd_income_decile\":3,\"imd_income_rank\":7494,\"imd_income_score\":0.188,\"imd_rank\":5639,\"imd_score\":35.688},\"population2012\":{\"population_0_15\":458,\"population_16_59\":988,\"population_60_plus\":211,\"population_total\":1657,\"population_workingage\":971},\"population2015\":{\"population_0_15\":483,\"population_16_59\":1006,\"population_60_plus\":221,\"population_total\":1710,\"population_workingage\":994}},\"statutory_instrument_id\":null,\"statutory_instrument_title\":null,\"successor\":[]},\"type\":\"Feature\"}],\"type\":\"FeatureCollection\"}\n",
      "\n"
     ]
    },
    {
     "name": "stderr",
     "output_type": "stream",
     "text": [
      "Skipping field alternative_names: unsupported OGR type: 5\n"
     ]
    },
    {
     "name": "stdout",
     "output_type": "stream",
     "text": [
      "{\"features\":[{\"geometry\":{\"coordinates\":[[[[0.122267560000068,51.53438321600004],[0.117766987000039,51.53440354700007],[0.117783023000072,51.53465076100008],[0.117325583000024,51.53470402000005],[0.116509370000074,51.53545851400003],[0.117628129000025,51.53628612800003],[0.117647083000065,51.53629974800003],[0.118555946000072,51.53669870500005],[0.118422778000024,51.53766305600004],[0.117596965000075,51.53785149200007],[0.117501418000074,51.538147441000035],[0.117859144000022,51.53840986600005],[0.119542783000043,51.53893257500005],[0.121967864000055,51.539224604000026],[0.122135492000041,51.538507914000036],[0.12214622700003,51.537918467000054],[0.122167694000041,51.53682859300005],[0.122231044000046,51.535288266000066],[0.12225875200005,51.534651634000056],[0.122267560000068,51.53438321600004]]]],\"type\":\"MultiPolygon\"},\"properties\":{\"active\":true,\"alternative_names\":[\"Barking and Dagenham 017D\"],\"areachect\":15.55,\"areaehect\":15.55,\"areaihect\":0.0,\"arealhect\":15.55,\"child_count\":5,\"child_counts\":{\"oa21\":5},\"code\":\"E01000046\",\"date_end\":null,\"date_start\":\"Sun, 01 Feb 2004 00:00:00 GMT\",\"entity\":\"E01\",\"equivalents\":{},\"name\":\"Barking and Dagenham 017D\",\"name_welsh\":null,\"owner\":\"ONS\",\"parent\":\"E02000018\",\"predecessor\":[],\"sort_order\":\"E01000046\",\"stats\":{\"idaci2015\":{\"idaci_decile\":3,\"idaci_rank\":6863,\"idaci_score\":0.296},\"idaci2019\":{\"idaci_decile\":3,\"idaci_rank\":9558,\"idaci_score\":0.208},\"idaopi2015\":{\"idaopi_decile\":3,\"idaopi_rank\":6652,\"idaopi_score\":0.283},\"idaopi2019\":{\"idaopi_decile\":3,\"idaopi_rank\":6970,\"idaopi_score\":0.249},\"imd2015\":{\"imd_crime_decile\":4,\"imd_crime_rank\":11698,\"imd_crime_score\":0.314,\"imd_decile\":3,\"imd_education_adults_decile\":2,\"imd_education_adults_rank\":4804,\"imd_education_adults_score\":0.434,\"imd_education_children_decile\":5,\"imd_education_children_rank\":13515,\"imd_education_children_score\":0.172,\"imd_education_decile\":3,\"imd_education_rank\":8085,\"imd_education_score\":31.274,\"imd_employment_decile\":3,\"imd_employment_rank\":8972,\"imd_employment_score\":0.151,\"imd_environment_decile\":4,\"imd_environment_indoors_decile\":4,\"imd_environment_indoors_rank\":11336,\"imd_environment_indoors_score\":0.353,\"imd_environment_outdoors_rank\":3,\"imd_environment_outdoors_score\":0.53,\"imd_environment_rank\":10760,\"imd_environment_score\":26.087,\"imd_health_decile\":4,\"imd_health_rank\":13098,\"imd_health_score\":0.209,\"imd_housing_decile\":1,\"imd_housing_geographical_decile\":7,\"imd_housing_geographical_rank\":20442,\"imd_housing_geographical_score\":-0.268,\"imd_housing_rank\":3050,\"imd_housing_score\":37.217,\"imd_housing_wider_decile\":1,\"imd_housing_wider_rank\":1656,\"imd_housing_wider_score\":4.386,\"imd_income_decile\":2,\"imd_income_rank\":6405,\"imd_income_score\":0.232,\"imd_rank\":7720,\"imd_score\":31.079},\"imd2019\":{\"imd_crime_decile\":6,\"imd_crime_rank\":17088,\"imd_crime_score\":-0.026,\"imd_decile\":3,\"imd_education_adults_decile\":2,\"imd_education_adults_rank\":4804,\"imd_education_adults_score\":0.434,\"imd_education_children_decile\":6,\"imd_education_children_rank\":17811,\"imd_education_children_score\":-0.104,\"imd_education_decile\":3,\"imd_education_rank\":9321,\"imd_education_score\":28.185,\"imd_employment_decile\":4,\"imd_employment_rank\":10956,\"imd_employment_score\":0.111,\"imd_environment_decile\":3,\"imd_environment_indoors_decile\":4,\"imd_environment_indoors_rank\":10463,\"imd_environment_indoors_score\":0.405,\"imd_environment_outdoors_rank\":2,\"imd_environment_outdoors_score\":0.81,\"imd_environment_rank\":8655,\"imd_environment_score\":30.26,\"imd_health_decile\":4,\"imd_health_rank\":12756,\"imd_health_score\":0.222,\"imd_housing_decile\":1,\"imd_housing_geographical_decile\":8,\"imd_housing_geographical_rank\":23113,\"imd_housing_geographical_score\":-0.439,\"imd_housing_rank\":996,\"imd_housing_score\":45.338,\"imd_housing_wider_decile\":1,\"imd_housing_wider_rank\":483,\"imd_housing_wider_score\":5.667,\"imd_income_decile\":3,\"imd_income_rank\":8795,\"imd_income_score\":0.17,\"imd_rank\":8138,\"imd_score\":29.763},\"population2012\":{\"population_0_15\":503,\"population_16_59\":1067,\"population_60_plus\":230,\"population_total\":1800,\"population_workingage\":1031},\"population2015\":{\"population_0_15\":560,\"population_16_59\":1148,\"population_60_plus\":255,\"population_total\":1963,\"population_workingage\":1125}},\"statutory_instrument_id\":null,\"statutory_instrument_title\":null,\"successor\":[]},\"type\":\"Feature\"}],\"type\":\"FeatureCollection\"}\n",
      "\n"
     ]
    },
    {
     "name": "stderr",
     "output_type": "stream",
     "text": [
      "Skipping field alternative_names: unsupported OGR type: 5\n"
     ]
    },
    {
     "name": "stdout",
     "output_type": "stream",
     "text": [
      "{\"features\":[{\"geometry\":{\"coordinates\":[[[[0.148244238000075,51.53281900500008],[0.14826942600007,51.53221958100005],[0.147822500000075,51.53170584900005],[0.143715440000051,51.53127181900004],[0.140957631000049,51.531172868000056],[0.139635102000057,51.53060388200004],[0.139478226000051,51.53080043400007],[0.139642086000038,51.53126431600003],[0.140305814000044,51.53126735300003],[0.140205525000056,51.53171536000008],[0.139812430000063,51.53203198800003],[0.13741897400007,51.53218861400006],[0.138428968000028,51.53283229900006],[0.139872755000056,51.532674916000076],[0.140187243000071,51.533191901000066],[0.140173920000052,51.53344585500008],[0.139257364000059,51.53333466200007],[0.139424469000062,51.53365963400006],[0.13838432700004,51.53378483900008],[0.139588636000042,51.53401412900007],[0.140736097000058,51.53352253200006],[0.14218353800004,51.533985449000056],[0.14226796600002,51.533579555000074],[0.143200292000074,51.53358913800008],[0.143603005000045,51.53303932400007],[0.144462519000058,51.53327133800008],[0.144851797000058,51.53273808600005],[0.145595125000057,51.53299424900007],[0.145643810000024,51.533441406000065],[0.145301803000052,51.53375173300003],[0.14675148300006,51.535202765000065],[0.14816806400006,51.535292705000074],[0.148192965000021,51.533673125000064],[0.148244238000075,51.53281900500008]]]],\"type\":\"MultiPolygon\"},\"properties\":{\"active\":true,\"alternative_names\":[\"Barking and Dagenham 020A\"],\"areachect\":18.09,\"areaehect\":18.09,\"areaihect\":0.0,\"arealhect\":18.09,\"child_count\":5,\"child_counts\":{\"oa21\":5},\"code\":\"E01000053\",\"date_end\":null,\"date_start\":\"Sun, 01 Feb 2004 00:00:00 GMT\",\"entity\":\"E01\",\"equivalents\":{},\"name\":\"Barking and Dagenham 020A\",\"name_welsh\":null,\"owner\":\"ONS\",\"parent\":\"E02000021\",\"predecessor\":[],\"sort_order\":\"E01000053\",\"stats\":{\"idaci2015\":{\"idaci_decile\":2,\"idaci_rank\":3609,\"idaci_score\":0.376},\"idaci2019\":{\"idaci_decile\":2,\"idaci_rank\":5363,\"idaci_score\":0.279},\"idaopi2015\":{\"idaopi_decile\":2,\"idaopi_rank\":5533,\"idaopi_score\":0.307},\"idaopi2019\":{\"idaopi_decile\":2,\"idaopi_rank\":3562,\"idaopi_score\":0.331},\"imd2015\":{\"imd_crime_decile\":1,\"imd_crime_rank\":1153,\"imd_crime_score\":1.374,\"imd_decile\":2,\"imd_education_adults_decile\":3,\"imd_education_adults_rank\":7220,\"imd_education_adults_score\":0.394,\"imd_education_children_decile\":4,\"imd_education_children_rank\":11124,\"imd_education_children_score\":0.332,\"imd_education_decile\":3,\"imd_education_rank\":8961,\"imd_education_score\":29.072,\"imd_employment_decile\":3,\"imd_employment_rank\":6632,\"imd_employment_score\":0.177,\"imd_environment_decile\":3,\"imd_environment_indoors_decile\":4,\"imd_environment_indoors_rank\":9923,\"imd_environment_indoors_score\":0.456,\"imd_environment_outdoors_rank\":2,\"imd_environment_outdoors_score\":0.716,\"imd_environment_rank\":8637,\"imd_environment_score\":30.049,\"imd_health_decile\":2,\"imd_health_rank\":5222,\"imd_health_score\":0.897,\"imd_housing_decile\":1,\"imd_housing_geographical_decile\":7,\"imd_housing_geographical_rank\":21161,\"imd_housing_geographical_score\":-0.308,\"imd_housing_rank\":2887,\"imd_housing_score\":37.662,\"imd_housing_wider_decile\":1,\"imd_housing_wider_rank\":1510,\"imd_housing_wider_score\":4.506,\"imd_income_decile\":2,\"imd_income_rank\":4018,\"imd_income_score\":0.283,\"imd_rank\":3891,\"imd_score\":42.098},\"imd2019\":{\"imd_crime_decile\":1,\"imd_crime_rank\":2144,\"imd_crime_score\":1.217,\"imd_decile\":2,\"imd_education_adults_decile\":3,\"imd_education_adults_rank\":7220,\"imd_education_adults_score\":0.394,\"imd_education_children_decile\":4,\"imd_education_children_rank\":12584,\"imd_education_children_score\":0.221,\"imd_education_decile\":3,\"imd_education_rank\":9519,\"imd_education_score\":27.703,\"imd_employment_decile\":3,\"imd_employment_rank\":8972,\"imd_employment_score\":0.126,\"imd_environment_decile\":4,\"imd_environment_indoors_decile\":6,\"imd_environment_indoors_rank\":16964,\"imd_environment_indoors_score\":-0.032,\"imd_environment_outdoors_rank\":2,\"imd_environment_outdoors_score\":1.114,\"imd_environment_rank\":10870,\"imd_environment_score\":26.503,\"imd_health_decile\":3,\"imd_health_rank\":6865,\"imd_health_score\":0.701,\"imd_housing_decile\":1,\"imd_housing_geographical_decile\":7,\"imd_housing_geographical_rank\":22261,\"imd_housing_geographical_score\":-0.382,\"imd_housing_rank\":395,\"imd_housing_score\":49.479,\"imd_housing_wider_decile\":1,\"imd_housing_wider_rank\":231,\"imd_housing_wider_score\":6.228,\"imd_income_decile\":2,\"imd_income_rank\":5037,\"imd_income_score\":0.229,\"imd_rank\":4249,\"imd_score\":40.044},\"population2012\":{\"population_0_15\":392,\"population_16_59\":920,\"population_60_plus\":256,\"population_total\":1568,\"population_workingage\":911},\"population2015\":{\"population_0_15\":447,\"population_16_59\":970,\"population_60_plus\":253,\"population_total\":1670,\"population_workingage\":954}},\"statutory_instrument_id\":null,\"statutory_instrument_title\":null,\"successor\":[]},\"type\":\"Feature\"}],\"type\":\"FeatureCollection\"}\n",
      "\n"
     ]
    },
    {
     "name": "stderr",
     "output_type": "stream",
     "text": [
      "Skipping field alternative_names: unsupported OGR type: 5\n"
     ]
    },
    {
     "name": "stdout",
     "output_type": "stream",
     "text": [
      "{\"features\":[{\"geometry\":{\"coordinates\":[[[[0.137915660000033,51.53710012000005],[0.139278430000047,51.536116856000035],[0.138719955000056,51.53577986200003],[0.139263330000063,51.535605125000075],[0.141926965000039,51.534792605000064],[0.14218353800004,51.533985449000056],[0.140736097000058,51.53352253200006],[0.139588636000042,51.53401412900007],[0.13838432700004,51.53378483900008],[0.139424469000062,51.53365963400006],[0.139257364000059,51.53333466200007],[0.140173920000052,51.53344585500008],[0.140187243000071,51.533191901000066],[0.139872755000056,51.532674916000076],[0.138428968000028,51.53283229900006],[0.13741897400007,51.53218861400006],[0.139812430000063,51.53203198800003],[0.140205525000056,51.53171536000008],[0.140305814000044,51.53126735300003],[0.139642086000038,51.53126431600003],[0.139478226000051,51.53080043400007],[0.137127455000041,51.53157164800007],[0.133295459000067,51.53183656300007],[0.134770463000052,51.53325844500006],[0.134751771000026,51.534111290000055],[0.134672617000035,51.534117955000056],[0.134222277000049,51.53443579200007],[0.132229338000059,51.534500335000075],[0.132619530000056,51.535085183000035],[0.132192498000052,51.53541010500004],[0.132705516000044,51.53571061800005],[0.133280554000066,51.53546393500005],[0.134636322000063,51.53579842000005],[0.135114069000053,51.536558299000035],[0.135031310000045,51.537135370000044],[0.136033001000044,51.53677870200005],[0.136796834000052,51.53679851900006],[0.137048415000038,51.53716328200005],[0.137915660000033,51.53710012000005]]]],\"type\":\"MultiPolygon\"},\"properties\":{\"active\":true,\"alternative_names\":[\"Barking and Dagenham 018C\"],\"areachect\":24.36,\"areaehect\":24.36,\"areaihect\":0.0,\"arealhect\":24.36,\"child_count\":4,\"child_counts\":{\"oa21\":4},\"code\":\"E01000056\",\"date_end\":null,\"date_start\":\"Sun, 01 Feb 2004 00:00:00 GMT\",\"entity\":\"E01\",\"equivalents\":{},\"name\":\"Barking and Dagenham 018C\",\"name_welsh\":null,\"owner\":\"ONS\",\"parent\":\"E02000019\",\"predecessor\":[],\"sort_order\":\"E01000056\",\"stats\":{\"idaci2015\":{\"idaci_decile\":2,\"idaci_rank\":3429,\"idaci_score\":0.382},\"idaci2019\":{\"idaci_decile\":3,\"idaci_rank\":8437,\"idaci_score\":0.225},\"idaopi2015\":{\"idaopi_decile\":3,\"idaopi_rank\":9145,\"idaopi_score\":0.238},\"idaopi2019\":{\"idaopi_decile\":3,\"idaopi_rank\":7170,\"idaopi_score\":0.245},\"imd2015\":{\"imd_crime_decile\":1,\"imd_crime_rank\":1634,\"imd_crime_score\":1.261,\"imd_decile\":2,\"imd_education_adults_decile\":2,\"imd_education_adults_rank\":5223,\"imd_education_adults_score\":0.426,\"imd_education_children_decile\":6,\"imd_education_children_rank\":19192,\"imd_education_children_score\":-0.182,\"imd_education_decile\":4,\"imd_education_rank\":10164,\"imd_education_score\":26.46,\"imd_employment_decile\":2,\"imd_employment_rank\":5648,\"imd_employment_score\":0.191,\"imd_environment_decile\":4,\"imd_environment_indoors_decile\":5,\"imd_environment_indoors_rank\":14776,\"imd_environment_indoors_score\":0.118,\"imd_environment_outdoors_rank\":2,\"imd_environment_outdoors_score\":0.741,\"imd_environment_rank\":11738,\"imd_environment_score\":24.446,\"imd_health_decile\":2,\"imd_health_rank\":5609,\"imd_health_score\":0.856,\"imd_housing_decile\":1,\"imd_housing_geographical_decile\":6,\"imd_housing_geographical_rank\":17366,\"imd_housing_geographical_score\":-0.09,\"imd_housing_rank\":1404,\"imd_housing_score\":42.929,\"imd_housing_wider_decile\":1,\"imd_housing_wider_rank\":1059,\"imd_housing_wider_score\":4.894,\"imd_income_decile\":2,\"imd_income_rank\":3992,\"imd_income_score\":0.283,\"imd_rank\":3808,\"imd_score\":42.396},\"imd2019\":{\"imd_crime_decile\":3,\"imd_crime_rank\":9269,\"imd_crime_score\":0.485,\"imd_decile\":2,\"imd_education_adults_decile\":2,\"imd_education_adults_rank\":5223,\"imd_education_adults_score\":0.426,\"imd_education_children_decile\":7,\"imd_education_children_rank\":21267,\"imd_education_children_score\":-0.32,\"imd_education_decile\":4,\"imd_education_rank\":10670,\"imd_education_score\":25.304,\"imd_employment_decile\":3,\"imd_employment_rank\":7099,\"imd_employment_score\":0.144,\"imd_environment_decile\":4,\"imd_environment_indoors_decile\":6,\"imd_environment_indoors_rank\":17777,\"imd_environment_indoors_score\":-0.084,\"imd_environment_outdoors_rank\":2,\"imd_environment_outdoors_score\":0.912,\"imd_environment_rank\":12777,\"imd_environment_score\":23.506,\"imd_health_decile\":3,\"imd_health_rank\":9652,\"imd_health_score\":0.455,\"imd_housing_decile\":1,\"imd_housing_geographical_decile\":6,\"imd_housing_geographical_rank\":16431,\"imd_housing_geographical_score\":-0.044,\"imd_housing_rank\":165,\"imd_housing_score\":51.736,\"imd_housing_wider_decile\":1,\"imd_housing_wider_rank\":301,\"imd_housing_wider_score\":6.043,\"imd_income_decile\":3,\"imd_income_rank\":6839,\"imd_income_score\":0.197,\"imd_rank\":5571,\"imd_score\":35.903},\"population2012\":{\"population_0_15\":430,\"population_16_59\":934,\"population_60_plus\":236,\"population_total\":1600,\"population_workingage\":912},\"population2015\":{\"population_0_15\":475,\"population_16_59\":940,\"population_60_plus\":251,\"population_total\":1666,\"population_workingage\":942}},\"statutory_instrument_id\":null,\"statutory_instrument_title\":null,\"successor\":[]},\"type\":\"Feature\"}],\"type\":\"FeatureCollection\"}\n",
      "\n"
     ]
    },
    {
     "name": "stderr",
     "output_type": "stream",
     "text": [
      "Skipping field alternative_names: unsupported OGR type: 5\n"
     ]
    },
    {
     "name": "stdout",
     "output_type": "stream",
     "text": [
      "{\"features\":[{\"geometry\":{\"coordinates\":[[[[0.130495947000043,51.53874401300004],[0.129960484000037,51.537768146000076],[0.130237512000065,51.53750464900003],[0.130006697000056,51.53733791600007],[0.129703712000037,51.537182517000076],[0.129317197000034,51.53737309600007],[0.127859655000066,51.53712473400003],[0.127581375000034,51.53676241100004],[0.126708570000062,51.536860826000066],[0.126672383000027,51.53775291000005],[0.125240718000043,51.53746383300006],[0.124497177000023,51.537493303000076],[0.124599776000025,51.53798980400006],[0.123413658000061,51.53827551200004],[0.123101663000057,51.53819561100005],[0.123467751000021,51.537256323000065],[0.123900759000037,51.53671947200007],[0.123656046000065,51.536257662000025],[0.124606673000073,51.53590767600008],[0.123627698000064,51.53531275300003],[0.122753149000062,51.53560749700006],[0.122731713000064,51.53468741800003],[0.12225875200005,51.534651634000056],[0.122231044000046,51.535288266000066],[0.122167694000041,51.53682859300005],[0.12214622700003,51.537918467000054],[0.122135492000041,51.538507914000036],[0.125796908000041,51.53873841700005],[0.126515819000019,51.53877950800006],[0.127494668000054,51.538821056000074],[0.127723327000069,51.53883102100008],[0.127664667000033,51.54028094200004],[0.130660638000052,51.54049185200006],[0.130993128000057,51.538846413000044],[0.130495947000043,51.53874401300004]]]],\"type\":\"MultiPolygon\"},\"properties\":{\"active\":true,\"alternative_names\":[\"Barking and Dagenham 012A\"],\"areachect\":14.77,\"areaehect\":14.77,\"areaihect\":0.0,\"arealhect\":14.77,\"child_count\":4,\"child_counts\":{\"oa21\":4},\"code\":\"E01000057\",\"date_end\":null,\"date_start\":\"Sun, 01 Feb 2004 00:00:00 GMT\",\"entity\":\"E01\",\"equivalents\":{},\"name\":\"Barking and Dagenham 012A\",\"name_welsh\":null,\"owner\":\"ONS\",\"parent\":\"E02000013\",\"predecessor\":[],\"sort_order\":\"E01000057\",\"stats\":{\"idaci2015\":{\"idaci_decile\":2,\"idaci_rank\":5248,\"idaci_score\":0.333},\"idaci2019\":{\"idaci_decile\":3,\"idaci_rank\":6686,\"idaci_score\":0.254},\"idaopi2015\":{\"idaopi_decile\":3,\"idaopi_rank\":8297,\"idaopi_score\":0.252},\"idaopi2019\":{\"idaopi_decile\":3,\"idaopi_rank\":9204,\"idaopi_score\":0.212},\"imd2015\":{\"imd_crime_decile\":1,\"imd_crime_rank\":782,\"imd_crime_score\":1.486,\"imd_decile\":2,\"imd_education_adults_decile\":3,\"imd_education_adults_rank\":8590,\"imd_education_adults_score\":0.375,\"imd_education_children_decile\":2,\"imd_education_children_rank\":6213,\"imd_education_children_score\":0.726,\"imd_education_decile\":3,\"imd_education_rank\":7312,\"imd_education_score\":33.542,\"imd_employment_decile\":2,\"imd_employment_rank\":5843,\"imd_employment_score\":0.188,\"imd_environment_decile\":3,\"imd_environment_indoors_decile\":4,\"imd_environment_indoors_rank\":13072,\"imd_environment_indoors_score\":0.233,\"imd_environment_outdoors_rank\":2,\"imd_environment_outdoors_score\":0.882,\"imd_environment_rank\":9730,\"imd_environment_score\":27.935,\"imd_health_decile\":4,\"imd_health_rank\":10510,\"imd_health_score\":0.408,\"imd_housing_decile\":2,\"imd_housing_geographical_decile\":10,\"imd_housing_geographical_rank\":31131,\"imd_housing_geographical_score\":-1.227,\"imd_housing_rank\":4230,\"imd_housing_score\":34.508,\"imd_housing_wider_decile\":1,\"imd_housing_wider_rank\":1316,\"imd_housing_wider_score\":4.671,\"imd_income_decile\":2,\"imd_income_rank\":4634,\"imd_income_score\":0.268,\"imd_rank\":4455,\"imd_score\":40.189},\"imd2019\":{\"imd_crime_decile\":3,\"imd_crime_rank\":7156,\"imd_crime_score\":0.644,\"imd_decile\":3,\"imd_education_adults_decile\":3,\"imd_education_adults_rank\":8590,\"imd_education_adults_score\":0.375,\"imd_education_children_decile\":3,\"imd_education_children_rank\":7530,\"imd_education_children_score\":0.61,\"imd_education_decile\":3,\"imd_education_rank\":8006,\"imd_education_score\":31.462,\"imd_employment_decile\":4,\"imd_employment_rank\":9877,\"imd_employment_score\":0.118,\"imd_environment_decile\":3,\"imd_environment_indoors_decile\":5,\"imd_environment_indoors_rank\":15268,\"imd_environment_indoors_score\":0.076,\"imd_environment_outdoors_rank\":1,\"imd_environment_outdoors_score\":1.281,\"imd_environment_rank\":8781,\"imd_environment_score\":30.046,\"imd_health_decile\":5,\"imd_health_rank\":14559,\"imd_health_score\":0.097,\"imd_housing_decile\":1,\"imd_housing_geographical_decile\":10,\"imd_housing_geographical_rank\":32549,\"imd_housing_geographical_score\":-1.757,\"imd_housing_rank\":1279,\"imd_housing_score\":43.725,\"imd_housing_wider_decile\":1,\"imd_housing_wider_rank\":320,\"imd_housing_wider_score\":5.983,\"imd_income_decile\":3,\"imd_income_rank\":6909,\"imd_income_score\":0.196,\"imd_rank\":6712,\"imd_score\":32.887},\"population2012\":{\"population_0_15\":411,\"population_16_59\":851,\"population_60_plus\":218,\"population_total\":1480,\"population_workingage\":843},\"population2015\":{\"population_0_15\":451,\"population_16_59\":896,\"population_60_plus\":210,\"population_total\":1557,\"population_workingage\":898}},\"statutory_instrument_id\":null,\"statutory_instrument_title\":null,\"successor\":[]},\"type\":\"Feature\"}],\"type\":\"FeatureCollection\"}\n",
      "\n"
     ]
    },
    {
     "name": "stderr",
     "output_type": "stream",
     "text": [
      "Skipping field alternative_names: unsupported OGR type: 5\n"
     ]
    },
    {
     "name": "stdout",
     "output_type": "stream",
     "text": [
      "{\"features\":[{\"geometry\":{\"coordinates\":[[[[0.150017037000055,51.56023597600006],[0.151551966000056,51.55969004500008],[0.153183168000055,51.55971075800005],[0.155356598000026,51.55995823500007],[0.155677938000053,51.55973650700008],[0.158237701000076,51.55802181400003],[0.158170410000025,51.55952425600003],[0.158695507000061,51.55993686800008],[0.168680696000024,51.559434656000064],[0.168354371000021,51.55716449100004],[0.167848597000045,51.556715171000064],[0.16363794800003,51.556569438000054],[0.16319998900002,51.55653998100007],[0.163174180000055,51.556029987000045],[0.163162942000042,51.55581380900003],[0.161397776000058,51.555752158000075],[0.16104772500006,51.556597046000036],[0.15974626000002,51.55661228100007],[0.159577623000075,51.55708386500004],[0.158134178000068,51.557376419000036],[0.158013065000034,51.556690322000065],[0.15894789400005,51.55648746500003],[0.158881329000053,51.55605171000008],[0.156045971000026,51.55616265700007],[0.155953274000069,51.55652998700003],[0.155036822000056,51.55652222600003],[0.155002091000028,51.555627584000035],[0.154063683000061,51.55567182400006],[0.153980944000068,51.55704920900007],[0.153429319000054,51.55727704700007],[0.15319213500004,51.55538457000006],[0.152717276000033,51.55539327900004],[0.152326224000035,51.55631289000007],[0.151581212000053,51.556371744000046],[0.151550612000051,51.555432652000036],[0.150093172000027,51.55546944200006],[0.150134206000075,51.55659743800004],[0.150197998000067,51.55703530300008],[0.149026827000057,51.55712016400008],[0.148326841000028,51.55673482200007],[0.147849939000025,51.55734773000006],[0.147347738000065,51.55706383200004],[0.146997235000072,51.55718564400007],[0.147608809000076,51.55858699600003],[0.147899197000072,51.56108506500004],[0.150008477000029,51.56138316400006],[0.150232397000025,51.56137238300005],[0.150287718000072,51.560835170000075],[0.150017037000055,51.56023597600006]]]],\"type\":\"MultiPolygon\"},\"properties\":{\"active\":true,\"alternative_names\":[\"Barking and Dagenham 006B\"],\"areachect\":54.99,\"areaehect\":54.99,\"areaihect\":0.0,\"arealhect\":54.99,\"child_count\":6,\"child_counts\":{\"oa21\":6},\"code\":\"E01000060\",\"date_end\":null,\"date_start\":\"Sun, 01 Feb 2004 00:00:00 GMT\",\"entity\":\"E01\",\"equivalents\":{},\"name\":\"Barking and Dagenham 006B\",\"name_welsh\":null,\"owner\":\"ONS\",\"parent\":\"E02000007\",\"predecessor\":[],\"sort_order\":\"E01000060\",\"stats\":{\"idaci2015\":{\"idaci_decile\":2,\"idaci_rank\":4258,\"idaci_score\":0.359},\"idaci2019\":{\"idaci_decile\":3,\"idaci_rank\":7232,\"idaci_score\":0.244},\"idaopi2015\":{\"idaopi_decile\":3,\"idaopi_rank\":7202,\"idaopi_score\":0.272},\"idaopi2019\":{\"idaopi_decile\":2,\"idaopi_rank\":6146,\"idaopi_score\":0.265},\"imd2015\":{\"imd_crime_decile\":1,\"imd_crime_rank\":660,\"imd_crime_score\":1.539,\"imd_decile\":2,\"imd_education_adults_decile\":3,\"imd_education_adults_rank\":7218,\"imd_education_adults_score\":0.394,\"imd_education_children_decile\":6,\"imd_education_children_rank\":18712,\"imd_education_children_score\":-0.151,\"imd_education_decile\":4,\"imd_education_rank\":11765,\"imd_education_score\":23.269,\"imd_employment_decile\":2,\"imd_employment_rank\":5900,\"imd_employment_score\":0.187,\"imd_environment_decile\":5,\"imd_environment_indoors_decile\":7,\"imd_environment_indoors_rank\":20268,\"imd_environment_indoors_score\":-0.26,\"imd_environment_outdoors_rank\":2,\"imd_environment_outdoors_score\":0.822,\"imd_environment_rank\":14202,\"imd_environment_score\":20.634,\"imd_health_decile\":3,\"imd_health_rank\":7511,\"imd_health_score\":0.665,\"imd_housing_decile\":1,\"imd_housing_geographical_decile\":7,\"imd_housing_geographical_rank\":19826,\"imd_housing_geographical_score\":-0.229,\"imd_housing_rank\":2253,\"imd_housing_score\":39.523,\"imd_housing_wider_decile\":1,\"imd_housing_wider_rank\":1329,\"imd_housing_wider_score\":4.658,\"imd_income_decile\":2,\"imd_income_rank\":4136,\"imd_income_score\":0.28,\"imd_rank\":4259,\"imd_score\":40.89},\"imd2019\":{\"imd_crime_decile\":1,\"imd_crime_rank\":2737,\"imd_crime_score\":1.109,\"imd_decile\":2,\"imd_education_adults_decile\":3,\"imd_education_adults_rank\":7218,\"imd_education_adults_score\":0.394,\"imd_education_children_decile\":5,\"imd_education_children_rank\":15281,\"imd_education_children_score\":0.047,\"imd_education_decile\":4,\"imd_education_rank\":10548,\"imd_education_score\":25.54,\"imd_employment_decile\":3,\"imd_employment_rank\":8627,\"imd_employment_score\":0.129,\"imd_environment_decile\":4,\"imd_environment_indoors_decile\":7,\"imd_environment_indoors_rank\":22458,\"imd_environment_indoors_score\":-0.393,\"imd_environment_outdoors_rank\":1,\"imd_environment_outdoors_score\":1.316,\"imd_environment_rank\":11955,\"imd_environment_score\":24.729,\"imd_health_decile\":4,\"imd_health_rank\":11879,\"imd_health_score\":0.282,\"imd_housing_decile\":1,\"imd_housing_geographical_decile\":7,\"imd_housing_geographical_rank\":20889,\"imd_housing_geographical_score\":-0.3,\"imd_housing_rank\":509,\"imd_housing_score\":48.53,\"imd_housing_wider_decile\":1,\"imd_housing_wider_rank\":334,\"imd_housing_wider_score\":5.959,\"imd_income_decile\":2,\"imd_income_rank\":6512,\"imd_income_score\":0.202,\"imd_rank\":5475,\"imd_score\":36.154},\"population2012\":{\"population_0_15\":524,\"population_16_59\":1020,\"population_60_plus\":292,\"population_total\":1836,\"population_workingage\":1021},\"population2015\":{\"population_0_15\":528,\"population_16_59\":1136,\"population_60_plus\":291,\"population_total\":1955,\"population_workingage\":1110}},\"statutory_instrument_id\":null,\"statutory_instrument_title\":null,\"successor\":[]},\"type\":\"Feature\"}],\"type\":\"FeatureCollection\"}\n",
      "\n"
     ]
    },
    {
     "name": "stderr",
     "output_type": "stream",
     "text": [
      "Skipping field alternative_names: unsupported OGR type: 5\n"
     ]
    },
    {
     "name": "stdout",
     "output_type": "stream",
     "text": [
      "{\"features\":[{\"geometry\":{\"coordinates\":[[[[0.160044995000021,51.56271115000004],[0.161880017000044,51.56160149700003],[0.166286678000063,51.563206896000054],[0.168347836000066,51.56353264900008],[0.168548423000061,51.561546547000034],[0.168680696000024,51.559434656000064],[0.158695507000061,51.55993686800008],[0.158170410000025,51.55952425600003],[0.158237701000076,51.55802181400003],[0.155677938000053,51.55973650700008],[0.155356598000026,51.55995823500007],[0.153183168000055,51.55971075800005],[0.151551966000056,51.55969004500008],[0.150017037000055,51.56023597600006],[0.150287718000072,51.560835170000075],[0.150232397000025,51.56137238300005],[0.150008477000029,51.56138316400006],[0.150126261000025,51.561952199000075],[0.150272354000037,51.563920077000034],[0.150455325000053,51.56560486800004],[0.154414231000032,51.56606743000003],[0.156424172000072,51.56497878400006],[0.160044995000021,51.56271115000004]]]],\"type\":\"MultiPolygon\"},\"properties\":{\"active\":true,\"alternative_names\":[\"Barking and Dagenham 006C\"],\"areachect\":61.05,\"areaehect\":61.05,\"areaihect\":0.0,\"arealhect\":61.05,\"child_count\":5,\"child_counts\":{\"oa21\":5},\"code\":\"E01000061\",\"date_end\":null,\"date_start\":\"Sun, 01 Feb 2004 00:00:00 GMT\",\"entity\":\"E01\",\"equivalents\":{},\"name\":\"Barking and Dagenham 006C\",\"name_welsh\":null,\"owner\":\"ONS\",\"parent\":\"E02000007\",\"predecessor\":[],\"sort_order\":\"E01000061\",\"stats\":{\"idaci2015\":{\"idaci_decile\":1,\"idaci_rank\":1231,\"idaci_score\":0.47},\"idaci2019\":{\"idaci_decile\":1,\"idaci_rank\":2377,\"idaci_score\":0.359},\"idaopi2015\":{\"idaopi_decile\":1,\"idaopi_rank\":370,\"idaopi_score\":0.568},\"idaopi2019\":{\"idaopi_decile\":1,\"idaopi_rank\":876,\"idaopi_score\":0.47},\"imd2015\":{\"imd_crime_decile\":2,\"imd_crime_rank\":5663,\"imd_crime_score\":0.762,\"imd_decile\":1,\"imd_education_adults_decile\":1,\"imd_education_adults_rank\":2397,\"imd_education_adults_score\":0.49,\"imd_education_children_decile\":3,\"imd_education_children_rank\":8536,\"imd_education_children_score\":0.519,\"imd_education_decile\":2,\"imd_education_rank\":4485,\"imd_education_score\":43.438,\"imd_employment_decile\":1,\"imd_employment_rank\":2356,\"imd_employment_score\":0.253,\"imd_environment_decile\":6,\"imd_environment_indoors_decile\":5,\"imd_environment_indoors_rank\":15601,\"imd_environment_indoors_score\":0.064,\"imd_environment_outdoors_rank\":5,\"imd_environment_outdoors_score\":0.014,\"imd_environment_rank\":17086,\"imd_environment_score\":16.687,\"imd_health_decile\":2,\"imd_health_rank\":4569,\"imd_health_score\":0.978,\"imd_housing_decile\":1,\"imd_housing_geographical_decile\":5,\"imd_housing_geographical_rank\":13671,\"imd_housing_geographical_score\":0.125,\"imd_housing_rank\":65,\"imd_housing_score\":54.225,\"imd_housing_wider_decile\":1,\"imd_housing_wider_rank\":274,\"imd_housing_wider_score\":5.736,\"imd_income_decile\":1,\"imd_income_rank\":617,\"imd_income_score\":0.414,\"imd_rank\":1277,\"imd_score\":56.571},\"imd2019\":{\"imd_crime_decile\":5,\"imd_crime_rank\":14393,\"imd_crime_score\":0.145,\"imd_decile\":1,\"imd_education_adults_decile\":1,\"imd_education_adults_rank\":2397,\"imd_education_adults_score\":0.49,\"imd_education_children_decile\":4,\"imd_education_children_rank\":11898,\"imd_education_children_score\":0.267,\"imd_education_decile\":2,\"imd_education_rank\":5414,\"imd_education_score\":39.776,\"imd_employment_decile\":2,\"imd_employment_rank\":3923,\"imd_employment_score\":0.186,\"imd_environment_decile\":6,\"imd_environment_indoors_decile\":8,\"imd_environment_indoors_rank\":24546,\"imd_environment_indoors_score\":-0.551,\"imd_environment_outdoors_rank\":3,\"imd_environment_outdoors_score\":0.651,\"imd_environment_rank\":18454,\"imd_environment_score\":15.967,\"imd_health_decile\":2,\"imd_health_rank\":4136,\"imd_health_score\":1.013,\"imd_housing_decile\":1,\"imd_housing_geographical_decile\":5,\"imd_housing_geographical_rank\":15540,\"imd_housing_geographical_score\":0.008,\"imd_housing_rank\":375,\"imd_housing_score\":49.627,\"imd_housing_wider_decile\":1,\"imd_housing_wider_rank\":497,\"imd_housing_wider_score\":5.64,\"imd_income_decile\":1,\"imd_income_rank\":2125,\"imd_income_score\":0.303,\"imd_rank\":2802,\"imd_score\":46.283},\"population2012\":{\"population_0_15\":610,\"population_16_59\":1107,\"population_60_plus\":98,\"population_total\":1815,\"population_workingage\":1086},\"population2015\":{\"population_0_15\":589,\"population_16_59\":1139,\"population_60_plus\":126,\"population_total\":1854,\"population_workingage\":1107}},\"statutory_instrument_id\":null,\"statutory_instrument_title\":null,\"successor\":[]},\"type\":\"Feature\"}],\"type\":\"FeatureCollection\"}\n",
      "\n"
     ]
    },
    {
     "name": "stderr",
     "output_type": "stream",
     "text": [
      "Skipping field alternative_names: unsupported OGR type: 5\n"
     ]
    },
    {
     "name": "stdout",
     "output_type": "stream",
     "text": [
      "{\"features\":[{\"geometry\":{\"coordinates\":[[[[0.145838444000049,51.557603924000034],[0.146980843000051,51.55717870500007],[0.146997235000072,51.55718564400007],[0.147347738000065,51.55706383200004],[0.147849939000025,51.55734773000006],[0.148326841000028,51.55673482200007],[0.149026827000057,51.55712016400008],[0.150197998000067,51.55703530300008],[0.150134206000075,51.55659743800004],[0.150093172000027,51.55546944200006],[0.148989433000054,51.55555766700007],[0.148221486000068,51.554646459000026],[0.14712058200007,51.55479431300006],[0.146882395000034,51.554673224000055],[0.145312809000075,51.55328115900005],[0.144707862000075,51.55343759300007],[0.14402698400005,51.553032564000034],[0.143345995000061,51.55311006100004],[0.143100524000033,51.55348102100004],[0.143819852000036,51.553660603000026],[0.143614288000038,51.55441697800006],[0.143469959000072,51.554541923000045],[0.145248007000021,51.55581254400005],[0.142651228000034,51.55575741600006],[0.14240412700002,51.55575216700004],[0.142367274000037,51.55675193800005],[0.142305019000048,51.55844116000003],[0.143933615000037,51.558484468000074],[0.144132369000033,51.55848946100008],[0.145335712000076,51.55852143900006],[0.145838444000049,51.557603924000034]]]],\"type\":\"MultiPolygon\"},\"properties\":{\"active\":true,\"alternative_names\":[\"Barking and Dagenham 004A\"],\"areachect\":18.12,\"areaehect\":18.12,\"areaihect\":0.0,\"arealhect\":18.12,\"child_count\":5,\"child_counts\":{\"oa21\":5},\"code\":\"E01000063\",\"date_end\":null,\"date_start\":\"Sun, 01 Feb 2004 00:00:00 GMT\",\"entity\":\"E01\",\"equivalents\":{},\"name\":\"Barking and Dagenham 004A\",\"name_welsh\":null,\"owner\":\"ONS\",\"parent\":\"E02000005\",\"predecessor\":[],\"sort_order\":\"E01000063\",\"stats\":{\"idaci2015\":{\"idaci_decile\":2,\"idaci_rank\":5393,\"idaci_score\":0.329},\"idaci2019\":{\"idaci_decile\":3,\"idaci_rank\":8950,\"idaci_score\":0.217},\"idaopi2015\":{\"idaopi_decile\":3,\"idaopi_rank\":8911,\"idaopi_score\":0.242},\"idaopi2019\":{\"idaopi_decile\":4,\"idaopi_rank\":9933,\"idaopi_score\":0.2},\"imd2015\":{\"imd_crime_decile\":2,\"imd_crime_rank\":3305,\"imd_crime_score\":1.007,\"imd_decile\":2,\"imd_education_adults_decile\":2,\"imd_education_adults_rank\":5289,\"imd_education_adults_score\":0.424,\"imd_education_children_decile\":3,\"imd_education_children_rank\":8046,\"imd_education_children_score\":0.559,\"imd_education_decile\":2,\"imd_education_rank\":6523,\"imd_education_score\":35.98,\"imd_employment_decile\":3,\"imd_employment_rank\":7224,\"imd_employment_score\":0.17,\"imd_environment_decile\":4,\"imd_environment_indoors_decile\":4,\"imd_environment_indoors_rank\":11416,\"imd_environment_indoors_score\":0.347,\"imd_environment_outdoors_rank\":4,\"imd_environment_outdoors_score\":0.394,\"imd_environment_rank\":11656,\"imd_environment_score\":24.595,\"imd_health_decile\":4,\"imd_health_rank\":12060,\"imd_health_score\":0.287,\"imd_housing_decile\":2,\"imd_housing_geographical_decile\":9,\"imd_housing_geographical_rank\":29087,\"imd_housing_geographical_score\":-0.923,\"imd_housing_rank\":5032,\"imd_housing_score\":32.889,\"imd_housing_wider_decile\":1,\"imd_housing_wider_rank\":1719,\"imd_housing_wider_score\":4.336,\"imd_income_decile\":2,\"imd_income_rank\":5926,\"imd_income_score\":0.241,\"imd_rank\":6231,\"imd_score\":34.787},\"imd2019\":{\"imd_crime_decile\":4,\"imd_crime_rank\":11295,\"imd_crime_score\":0.342,\"imd_decile\":2,\"imd_education_adults_decile\":2,\"imd_education_adults_rank\":5289,\"imd_education_adults_score\":0.424,\"imd_education_children_decile\":3,\"imd_education_children_rank\":6917,\"imd_education_children_score\":0.661,\"imd_education_decile\":2,\"imd_education_rank\":6017,\"imd_education_score\":37.624,\"imd_employment_decile\":3,\"imd_employment_rank\":9225,\"imd_employment_score\":0.124,\"imd_environment_decile\":2,\"imd_environment_indoors_decile\":3,\"imd_environment_indoors_rank\":8854,\"imd_environment_indoors_score\":0.525,\"imd_environment_outdoors_rank\":2,\"imd_environment_outdoors_score\":1.056,\"imd_environment_rank\":6036,\"imd_environment_score\":35.452,\"imd_health_decile\":4,\"imd_health_rank\":11816,\"imd_health_score\":0.286,\"imd_housing_decile\":1,\"imd_housing_geographical_decile\":10,\"imd_housing_geographical_rank\":29831,\"imd_housing_geographical_score\":-1.005,\"imd_housing_rank\":1689,\"imd_housing_score\":41.886,\"imd_housing_wider_decile\":1,\"imd_housing_wider_rank\":529,\"imd_housing_wider_score\":5.579,\"imd_income_decile\":3,\"imd_income_rank\":7943,\"imd_income_score\":0.181,\"imd_rank\":6520,\"imd_score\":33.371},\"population2012\":{\"population_0_15\":425,\"population_16_59\":953,\"population_60_plus\":261,\"population_total\":1639,\"population_workingage\":938},\"population2015\":{\"population_0_15\":484,\"population_16_59\":1036,\"population_60_plus\":273,\"population_total\":1793,\"population_workingage\":1031}},\"statutory_instrument_id\":null,\"statutory_instrument_title\":null,\"successor\":[]},\"type\":\"Feature\"}],\"type\":\"FeatureCollection\"}\n",
      "\n"
     ]
    },
    {
     "name": "stderr",
     "output_type": "stream",
     "text": [
      "Skipping field alternative_names: unsupported OGR type: 5\n"
     ]
    },
    {
     "name": "stdout",
     "output_type": "stream",
     "text": [
      "{\"features\":[{\"geometry\":{\"coordinates\":[[[[0.107234056000038,51.54447241100007],[0.106031665000046,51.54298268500003],[0.105258926000033,51.543162247000055],[0.103542972000071,51.543642985000076],[0.10299175900002,51.54313114400003],[0.101374214000032,51.54326616600008],[0.103224587000057,51.54517917700008],[0.103372874000058,51.54554098600005],[0.103483647000076,51.545861761000026],[0.104062482000074,51.545852065000076],[0.104097387000024,51.546352486000046],[0.103313232000062,51.54818071200003],[0.104827729000021,51.54863775000007],[0.105356194000024,51.54873476900008],[0.105108373000064,51.54905911700007],[0.105579203000048,51.54927887800005],[0.104723228000069,51.54999591600006],[0.10620883200005,51.55095835900005],[0.106942088000039,51.54954820000006],[0.108821093000074,51.54753178100003],[0.109653386000048,51.545854330000054],[0.109653828000035,51.54516184000005],[0.108982906000051,51.544792492000056],[0.107234056000038,51.54447241100007]]]],\"type\":\"MultiPolygon\"},\"properties\":{\"active\":true,\"alternative_names\":[\"Barking and Dagenham 011A\"],\"areachect\":24.49,\"areaehect\":24.49,\"areaihect\":0.0,\"arealhect\":24.49,\"child_count\":5,\"child_counts\":{\"oa21\":5},\"code\":\"E01000066\",\"date_end\":null,\"date_start\":\"Sun, 01 Feb 2004 00:00:00 GMT\",\"entity\":\"E01\",\"equivalents\":{},\"name\":\"Barking and Dagenham 011A\",\"name_welsh\":null,\"owner\":\"ONS\",\"parent\":\"E02000012\",\"predecessor\":[],\"sort_order\":\"E01000066\",\"stats\":{\"idaci2015\":{\"idaci_decile\":5,\"idaci_rank\":14487,\"idaci_score\":0.171},\"idaci2019\":{\"idaci_decile\":5,\"idaci_rank\":14705,\"idaci_score\":0.143},\"idaopi2015\":{\"idaopi_decile\":3,\"idaopi_rank\":8068,\"idaopi_score\":0.255},\"idaopi2019\":{\"idaopi_decile\":2,\"idaopi_rank\":6256,\"idaopi_score\":0.263},\"imd2015\":{\"imd_crime_decile\":4,\"imd_crime_rank\":10686,\"imd_crime_score\":0.38,\"imd_decile\":4,\"imd_education_adults_decile\":3,\"imd_education_adults_rank\":8701,\"imd_education_adults_score\":0.374,\"imd_education_children_decile\":7,\"imd_education_children_rank\":20514,\"imd_education_children_score\":-0.269,\"imd_education_decile\":5,\"imd_education_rank\":13615,\"imd_education_score\":20.196,\"imd_employment_decile\":4,\"imd_employment_rank\":11912,\"imd_employment_score\":0.125,\"imd_environment_decile\":6,\"imd_environment_indoors_decile\":6,\"imd_environment_indoors_rank\":18308,\"imd_environment_indoors_score\":-0.123,\"imd_environment_outdoors_rank\":4,\"imd_environment_outdoors_score\":0.215,\"imd_environment_rank\":17730,\"imd_environment_score\":15.929,\"imd_health_decile\":5,\"imd_health_rank\":13793,\"imd_health_score\":0.16,\"imd_housing_decile\":1,\"imd_housing_geographical_decile\":5,\"imd_housing_geographical_rank\":14500,\"imd_housing_geographical_score\":0.078,\"imd_housing_rank\":2707,\"imd_housing_score\":38.14,\"imd_housing_wider_decile\":1,\"imd_housing_wider_rank\":2261,\"imd_housing_wider_score\":3.941,\"imd_income_decile\":4,\"imd_income_rank\":12039,\"imd_income_score\":0.154,\"imd_rank\":11307,\"imd_score\":24.222},\"imd2019\":{\"imd_crime_decile\":7,\"imd_crime_rank\":20658,\"imd_crime_score\":-0.273,\"imd_decile\":4,\"imd_education_adults_decile\":3,\"imd_education_adults_rank\":8701,\"imd_education_adults_score\":0.374,\"imd_education_children_decile\":8,\"imd_education_children_rank\":24280,\"imd_education_children_score\":-0.527,\"imd_education_decile\":5,\"imd_education_rank\":14926,\"imd_education_score\":18.294,\"imd_employment_decile\":4,\"imd_employment_rank\":13108,\"imd_employment_score\":0.097,\"imd_environment_decile\":6,\"imd_environment_indoors_decile\":7,\"imd_environment_indoors_rank\":21990,\"imd_environment_indoors_score\":-0.359,\"imd_environment_outdoors_rank\":3,\"imd_environment_outdoors_score\":0.682,\"imd_environment_rank\":16885,\"imd_environment_score\":17.916,\"imd_health_decile\":5,\"imd_health_rank\":15169,\"imd_health_score\":0.054,\"imd_housing_decile\":1,\"imd_housing_geographical_decile\":5,\"imd_housing_geographical_rank\":13160,\"imd_housing_geographical_score\":0.145,\"imd_housing_rank\":249,\"imd_housing_score\":50.656,\"imd_housing_wider_decile\":1,\"imd_housing_wider_rank\":566,\"imd_housing_wider_score\":5.535,\"imd_income_decile\":4,\"imd_income_rank\":10725,\"imd_income_score\":0.147,\"imd_rank\":10329,\"imd_score\":25.763},\"population2012\":{\"population_0_15\":495,\"population_16_59\":1171,\"population_60_plus\":277,\"population_total\":1943,\"population_workingage\":1148},\"population2015\":{\"population_0_15\":550,\"population_16_59\":1319,\"population_60_plus\":263,\"population_total\":2132,\"population_workingage\":1291}},\"statutory_instrument_id\":null,\"statutory_instrument_title\":null,\"successor\":[]},\"type\":\"Feature\"}],\"type\":\"FeatureCollection\"}\n",
      "\n"
     ]
    },
    {
     "name": "stderr",
     "output_type": "stream",
     "text": [
      "Skipping field alternative_names: unsupported OGR type: 5\n"
     ]
    },
    {
     "name": "stdout",
     "output_type": "stream",
     "text": [
      "{\"features\":[{\"geometry\":{\"coordinates\":[[[[0.103313232000062,51.54818071200003],[0.104097387000024,51.546352486000046],[0.104062482000074,51.545852065000076],[0.103483647000076,51.545861761000026],[0.103372874000058,51.54554098600005],[0.103224587000057,51.54517917700008],[0.101547327000048,51.54533568700003],[0.099835922000068,51.54400094600004],[0.099258907000035,51.544627723000076],[0.100335065000024,51.545411450000074],[0.098870471000055,51.54546523600004],[0.098293730000023,51.54573485600008],[0.098424383000065,51.54625377200006],[0.098165445000063,51.546492053000065],[0.096962337000036,51.54601610800006],[0.096578892000025,51.54629015300003],[0.095315953000068,51.54580952300006],[0.094683914000029,51.54626497900006],[0.095954155000072,51.54669909300003],[0.099986683000054,51.548501015000056],[0.100794578000034,51.54877788500005],[0.102175148000072,51.54919553000008],[0.104723228000069,51.54999591600006],[0.105579203000048,51.54927887800005],[0.105108373000064,51.54905911700007],[0.105356194000024,51.54873476900008],[0.104827729000021,51.54863775000007],[0.103313232000062,51.54818071200003]]]],\"type\":\"MultiPolygon\"},\"properties\":{\"active\":true,\"alternative_names\":[\"Barking and Dagenham 011B\"],\"areachect\":19.25,\"areaehect\":19.25,\"areaihect\":0.0,\"arealhect\":19.25,\"child_count\":5,\"child_counts\":{\"oa21\":5},\"code\":\"E01000067\",\"date_end\":null,\"date_start\":\"Sun, 01 Feb 2004 00:00:00 GMT\",\"entity\":\"E01\",\"equivalents\":{},\"name\":\"Barking and Dagenham 011B\",\"name_welsh\":null,\"owner\":\"ONS\",\"parent\":\"E02000012\",\"predecessor\":[],\"sort_order\":\"E01000067\",\"stats\":{\"idaci2015\":{\"idaci_decile\":4,\"idaci_rank\":10792,\"idaci_score\":0.225},\"idaci2019\":{\"idaci_decile\":4,\"idaci_rank\":13001,\"idaci_score\":0.162},\"idaopi2015\":{\"idaopi_decile\":4,\"idaopi_rank\":10449,\"idaopi_score\":0.219},\"idaopi2019\":{\"idaopi_decile\":3,\"idaopi_rank\":7362,\"idaopi_score\":0.242},\"imd2015\":{\"imd_crime_decile\":3,\"imd_crime_rank\":7984,\"imd_crime_score\":0.577,\"imd_decile\":5,\"imd_education_adults_decile\":3,\"imd_education_adults_rank\":9732,\"imd_education_adults_score\":0.361,\"imd_education_children_decile\":8,\"imd_education_children_rank\":23635,\"imd_education_children_score\":-0.483,\"imd_education_decile\":5,\"imd_education_rank\":15606,\"imd_education_score\":17.368,\"imd_employment_decile\":5,\"imd_employment_rank\":16419,\"imd_employment_score\":0.097,\"imd_environment_decile\":5,\"imd_environment_indoors_decile\":7,\"imd_environment_indoors_rank\":22294,\"imd_environment_indoors_score\":-0.407,\"imd_environment_outdoors_rank\":3,\"imd_environment_outdoors_score\":0.683,\"imd_environment_rank\":16370,\"imd_environment_score\":17.651,\"imd_health_decile\":6,\"imd_health_rank\":19452,\"imd_health_score\":-0.222,\"imd_housing_decile\":2,\"imd_housing_geographical_decile\":7,\"imd_housing_geographical_rank\":21920,\"imd_housing_geographical_score\":-0.354,\"imd_housing_rank\":5245,\"imd_housing_score\":32.537,\"imd_housing_wider_decile\":1,\"imd_housing_wider_rank\":2496,\"imd_housing_wider_score\":3.777,\"imd_income_decile\":4,\"imd_income_rank\":11250,\"imd_income_score\":0.163,\"imd_rank\":13473,\"imd_score\":20.992},\"imd2019\":{\"imd_crime_decile\":4,\"imd_crime_rank\":10735,\"imd_crime_score\":0.381,\"imd_decile\":5,\"imd_education_adults_decile\":3,\"imd_education_adults_rank\":9732,\"imd_education_adults_score\":0.361,\"imd_education_children_decile\":9,\"imd_education_children_rank\":26697,\"imd_education_children_score\":-0.715,\"imd_education_decile\":6,\"imd_education_rank\":16594,\"imd_education_score\":15.99,\"imd_employment_decile\":7,\"imd_employment_rank\":19905,\"imd_employment_score\":0.066,\"imd_environment_decile\":5,\"imd_environment_indoors_decile\":8,\"imd_environment_indoors_rank\":23747,\"imd_environment_indoors_score\":-0.487,\"imd_environment_outdoors_rank\":1,\"imd_environment_outdoors_score\":1.136,\"imd_environment_rank\":14035,\"imd_environment_score\":21.711,\"imd_health_decile\":7,\"imd_health_rank\":21963,\"imd_health_score\":-0.388,\"imd_housing_decile\":1,\"imd_housing_geographical_decile\":8,\"imd_housing_geographical_rank\":25210,\"imd_housing_geographical_score\":-0.579,\"imd_housing_rank\":1551,\"imd_housing_score\":42.456,\"imd_housing_wider_decile\":1,\"imd_housing_wider_rank\":647,\"imd_housing_wider_score\":5.391,\"imd_income_decile\":4,\"imd_income_rank\":12329,\"imd_income_score\":0.132,\"imd_rank\":13573,\"imd_score\":20.973},\"population2012\":{\"population_0_15\":469,\"population_16_59\":1250,\"population_60_plus\":323,\"population_total\":2042,\"population_workingage\":1224},\"population2015\":{\"population_0_15\":492,\"population_16_59\":1340,\"population_60_plus\":317,\"population_total\":2149,\"population_workingage\":1322}},\"statutory_instrument_id\":null,\"statutory_instrument_title\":null,\"successor\":[]},\"type\":\"Feature\"}],\"type\":\"FeatureCollection\"}\n",
      "\n"
     ]
    },
    {
     "name": "stderr",
     "output_type": "stream",
     "text": [
      "Skipping field alternative_names: unsupported OGR type: 5\n"
     ]
    },
    {
     "name": "stdout",
     "output_type": "stream",
     "text": [
      "{\"features\":[{\"geometry\":{\"coordinates\":[[[[0.093074051000031,51.54644224000003],[0.093490705000022,51.545794329000046],[0.094683914000029,51.54626497900006],[0.095315953000068,51.54580952300006],[0.096578892000025,51.54629015300003],[0.096962337000036,51.54601610800006],[0.098165445000063,51.546492053000065],[0.098424383000065,51.54625377200006],[0.098293730000023,51.54573485600008],[0.098870471000055,51.54546523600004],[0.099021490000041,51.54499745600003],[0.09811970200002,51.54464682000008],[0.097704415000067,51.54516536600005],[0.096868259000075,51.54539889200004],[0.096283528000072,51.54476116600006],[0.096075401000064,51.544617207000044],[0.095780776000026,51.54424506400005],[0.096103267000046,51.543641843000046],[0.097990439000057,51.54172427100008],[0.097843923000028,51.54120561900004],[0.097265176000064,51.541622225000026],[0.096594005000043,51.54161889800008],[0.094978925000021,51.54085999400007],[0.092438251000033,51.542390683000065],[0.091679058000068,51.541909899000075],[0.08916541800005,51.54337731800007],[0.088664545000029,51.54323408000005],[0.088163486000042,51.54347522900008],[0.089102629000024,51.543827219000036],[0.086698373000047,51.54581243700005],[0.086263993000046,51.54559336600005],[0.085040296000045,51.546883137000066],[0.086271120000049,51.547429316000034],[0.08851484500002,51.54770513200003],[0.091502607000052,51.54826226100005],[0.091720858000031,51.549070251000046],[0.092564887000037,51.54960613600008],[0.092545188000031,51.54939277100004],[0.092343876000029,51.54856130100006],[0.093074051000031,51.54644224000003]]]],\"type\":\"MultiPolygon\"},\"properties\":{\"active\":true,\"alternative_names\":[\"Barking and Dagenham 011D\"],\"areachect\":39.18,\"areaehect\":39.18,\"areaihect\":0.0,\"arealhect\":39.18,\"child_count\":5,\"child_counts\":{\"oa21\":5},\"code\":\"E01000070\",\"date_end\":null,\"date_start\":\"Sun, 01 Feb 2004 00:00:00 GMT\",\"entity\":\"E01\",\"equivalents\":{},\"name\":\"Barking and Dagenham 011D\",\"name_welsh\":null,\"owner\":\"ONS\",\"parent\":\"E02000012\",\"predecessor\":[],\"sort_order\":\"E01000070\",\"stats\":{\"idaci2015\":{\"idaci_decile\":5,\"idaci_rank\":13847,\"idaci_score\":0.179},\"idaci2019\":{\"idaci_decile\":6,\"idaci_rank\":16928,\"idaci_score\":0.121},\"idaopi2015\":{\"idaopi_decile\":5,\"idaopi_rank\":16226,\"idaopi_score\":0.152},\"idaopi2019\":{\"idaopi_decile\":4,\"idaopi_rank\":11616,\"idaopi_score\":0.178},\"imd2015\":{\"imd_crime_decile\":2,\"imd_crime_rank\":4312,\"imd_crime_score\":0.897,\"imd_decile\":5,\"imd_education_adults_decile\":4,\"imd_education_adults_rank\":11292,\"imd_education_adults_score\":0.344,\"imd_education_children_decile\":8,\"imd_education_children_rank\":24906,\"imd_education_children_score\":-0.577,\"imd_education_decile\":6,\"imd_education_rank\":17358,\"imd_education_score\":15.134,\"imd_employment_decile\":5,\"imd_employment_rank\":15265,\"imd_employment_score\":0.103,\"imd_environment_decile\":4,\"imd_environment_indoors_decile\":6,\"imd_environment_indoors_rank\":16930,\"imd_environment_indoors_score\":-0.03,\"imd_environment_outdoors_rank\":2,\"imd_environment_outdoors_score\":0.917,\"imd_environment_rank\":11698,\"imd_environment_score\":24.524,\"imd_health_decile\":7,\"imd_health_rank\":22949,\"imd_health_score\":-0.476,\"imd_housing_decile\":2,\"imd_housing_geographical_decile\":8,\"imd_housing_geographical_rank\":23897,\"imd_housing_geographical_score\":-0.482,\"imd_housing_rank\":6507,\"imd_housing_score\":30.436,\"imd_housing_wider_decile\":1,\"imd_housing_wider_rank\":2797,\"imd_housing_wider_score\":3.58,\"imd_income_decile\":5,\"imd_income_rank\":13998,\"imd_income_score\":0.135,\"imd_rank\":13517,\"imd_score\":20.935},\"imd2019\":{\"imd_crime_decile\":2,\"imd_crime_rank\":5018,\"imd_crime_score\":0.84,\"imd_decile\":5,\"imd_education_adults_decile\":4,\"imd_education_adults_rank\":11292,\"imd_education_adults_score\":0.344,\"imd_education_children_decile\":9,\"imd_education_children_rank\":26496,\"imd_education_children_score\":-0.699,\"imd_education_decile\":6,\"imd_education_rank\":17805,\"imd_education_score\":14.434,\"imd_employment_decile\":6,\"imd_employment_rank\":17070,\"imd_employment_score\":0.077,\"imd_environment_decile\":4,\"imd_environment_indoors_decile\":6,\"imd_environment_indoors_rank\":17756,\"imd_environment_indoors_score\":-0.082,\"imd_environment_outdoors_rank\":1,\"imd_environment_outdoors_score\":1.271,\"imd_environment_rank\":10170,\"imd_environment_score\":27.639,\"imd_health_decile\":7,\"imd_health_rank\":22662,\"imd_health_score\":-0.442,\"imd_housing_decile\":2,\"imd_housing_geographical_decile\":10,\"imd_housing_geographical_rank\":30459,\"imd_housing_geographical_score\":-1.096,\"imd_housing_rank\":3806,\"imd_housing_score\":35.596,\"imd_housing_wider_decile\":1,\"imd_housing_wider_rank\":1193,\"imd_housing_wider_score\":4.835,\"imd_income_decile\":5,\"imd_income_rank\":14981,\"imd_income_score\":0.11,\"imd_rank\":13531,\"imd_score\":21.038},\"population2012\":{\"population_0_15\":415,\"population_16_59\":1181,\"population_60_plus\":367,\"population_total\":1963,\"population_workingage\":1183},\"population2015\":{\"population_0_15\":478,\"population_16_59\":1304,\"population_60_plus\":372,\"population_total\":2154,\"population_workingage\":1291}},\"statutory_instrument_id\":null,\"statutory_instrument_title\":null,\"successor\":[]},\"type\":\"Feature\"}],\"type\":\"FeatureCollection\"}\n",
      "\n"
     ]
    },
    {
     "name": "stderr",
     "output_type": "stream",
     "text": [
      "Skipping field alternative_names: unsupported OGR type: 5\n"
     ]
    },
    {
     "name": "stdout",
     "output_type": "stream",
     "text": [
      "{\"features\":[{\"geometry\":{\"coordinates\":[[[[0.106031665000046,51.54298268500003],[0.104252950000046,51.54122315800004],[0.104340882000031,51.54085144700008],[0.105666663000022,51.539278523000064],[0.105711989000042,51.53867889300005],[0.104919121000023,51.53862054000007],[0.101787114000047,51.538339102000066],[0.100968859000034,51.53827338900004],[0.099206451000043,51.53813338000003],[0.097650268000052,51.53801163000003],[0.093767766000042,51.53768239900006],[0.093722499000023,51.53767918600005],[0.093626209000035,51.53767172400006],[0.09328368000007,51.537871884000026],[0.093274257000076,51.538740465000046],[0.094070216000034,51.538749273000064],[0.094867174000058,51.539160871000036],[0.094141532000037,51.53963588400006],[0.094165,51.54005895300003],[0.094486838000023,51.54022539200008],[0.094192294000038,51.54046826700005],[0.094978925000021,51.54085999400007],[0.096594005000043,51.54161889800008],[0.097265176000064,51.541622225000026],[0.097843923000028,51.54120561900004],[0.097814170000049,51.541165756000055],[0.098695046000046,51.54045425700008],[0.099891211000056,51.540397176000056],[0.100334124000028,51.539900043000046],[0.100594641000043,51.53970112400003],[0.101480242000036,51.53997909900005],[0.101005604000022,51.53999353300003],[0.100326488000064,51.54062079800008],[0.101206455000067,51.541662977000044],[0.100574102000053,51.54211572400004],[0.100680906000036,51.54257050600006],[0.102003883000066,51.54149240100003],[0.104080279000073,51.54211162100006],[0.105258926000033,51.543162247000055],[0.106031665000046,51.54298268500003]]]],\"type\":\"MultiPolygon\"},\"properties\":{\"active\":true,\"alternative_names\":[\"Barking and Dagenham 011E\"],\"areachect\":27.06,\"areaehect\":27.06,\"areaihect\":0.0,\"arealhect\":27.06,\"child_count\":7,\"child_counts\":{\"oa21\":7},\"code\":\"E01000071\",\"date_end\":null,\"date_start\":\"Sun, 01 Feb 2004 00:00:00 GMT\",\"entity\":\"E01\",\"equivalents\":{},\"name\":\"Barking and Dagenham 011E\",\"name_welsh\":null,\"owner\":\"ONS\",\"parent\":\"E02000012\",\"predecessor\":[],\"sort_order\":\"E01000071\",\"stats\":{\"idaci2015\":{\"idaci_decile\":4,\"idaci_rank\":12028,\"idaci_score\":0.206},\"idaci2019\":{\"idaci_decile\":5,\"idaci_rank\":13267,\"idaci_score\":0.158},\"idaopi2015\":{\"idaopi_decile\":3,\"idaopi_rank\":8971,\"idaopi_score\":0.241},\"idaopi2019\":{\"idaopi_decile\":3,\"idaopi_rank\":7099,\"idaopi_score\":0.247},\"imd2015\":{\"imd_crime_decile\":5,\"imd_crime_rank\":13706,\"imd_crime_score\":0.183,\"imd_decile\":5,\"imd_education_adults_decile\":4,\"imd_education_adults_rank\":12477,\"imd_education_adults_score\":0.332,\"imd_education_children_decile\":7,\"imd_education_children_rank\":21076,\"imd_education_children_score\":-0.308,\"imd_education_decile\":6,\"imd_education_rank\":16753,\"imd_education_score\":15.911,\"imd_employment_decile\":7,\"imd_employment_rank\":21513,\"imd_employment_score\":0.074,\"imd_environment_decile\":5,\"imd_environment_indoors_decile\":5,\"imd_environment_indoors_rank\":16297,\"imd_environment_indoors_score\":0.016,\"imd_environment_outdoors_rank\":3,\"imd_environment_outdoors_score\":0.466,\"imd_environment_rank\":14639,\"imd_environment_score\":20.022,\"imd_health_decile\":6,\"imd_health_rank\":18057,\"imd_health_score\":-0.13,\"imd_housing_decile\":2,\"imd_housing_geographical_decile\":7,\"imd_housing_geographical_rank\":22558,\"imd_housing_geographical_score\":-0.394,\"imd_housing_rank\":5021,\"imd_housing_score\":32.915,\"imd_housing_wider_decile\":1,\"imd_housing_wider_rank\":2323,\"imd_housing_wider_score\":3.895,\"imd_income_decile\":4,\"imd_income_rank\":12559,\"imd_income_score\":0.149,\"imd_rank\":15618,\"imd_score\":18.295},\"imd2019\":{\"imd_crime_decile\":6,\"imd_crime_rank\":18962,\"imd_crime_score\":-0.155,\"imd_decile\":5,\"imd_education_adults_decile\":4,\"imd_education_adults_rank\":12477,\"imd_education_adults_score\":0.332,\"imd_education_children_decile\":8,\"imd_education_children_rank\":24713,\"imd_education_children_score\":-0.558,\"imd_education_decile\":6,\"imd_education_rank\":18062,\"imd_education_score\":14.114,\"imd_employment_decile\":7,\"imd_employment_rank\":22157,\"imd_employment_score\":0.058,\"imd_environment_decile\":5,\"imd_environment_indoors_decile\":6,\"imd_environment_indoors_rank\":19206,\"imd_environment_indoors_score\":-0.173,\"imd_environment_outdoors_rank\":2,\"imd_environment_outdoors_score\":0.886,\"imd_environment_rank\":13807,\"imd_environment_score\":22.064,\"imd_health_decile\":7,\"imd_health_rank\":20051,\"imd_health_score\":-0.261,\"imd_housing_decile\":1,\"imd_housing_geographical_decile\":9,\"imd_housing_geographical_rank\":28692,\"imd_housing_geographical_score\":-0.873,\"imd_housing_rank\":1935,\"imd_housing_score\":40.981,\"imd_housing_wider_decile\":1,\"imd_housing_wider_rank\":648,\"imd_housing_wider_score\":5.389,\"imd_income_decile\":4,\"imd_income_rank\":12518,\"imd_income_score\":0.13,\"imd_rank\":15370,\"imd_score\":18.848},\"population2012\":{\"population_0_15\":574,\"population_16_59\":1404,\"population_60_plus\":362,\"population_total\":2340,\"population_workingage\":1390},\"population2015\":{\"population_0_15\":610,\"population_16_59\":1564,\"population_60_plus\":367,\"population_total\":2541,\"population_workingage\":1554}},\"statutory_instrument_id\":null,\"statutory_instrument_title\":null,\"successor\":[]},\"type\":\"Feature\"}],\"type\":\"FeatureCollection\"}\n",
      "\n"
     ]
    },
    {
     "name": "stderr",
     "output_type": "stream",
     "text": [
      "Skipping field alternative_names: unsupported OGR type: 5\n"
     ]
    },
    {
     "name": "stdout",
     "output_type": "stream",
     "text": [
      "{\"features\":[{\"geometry\":{\"coordinates\":[[[[0.113423216000058,51.54704242000008],[0.113881325000023,51.54675330900005],[0.11438116000005,51.546956900000055],[0.11526158700002,51.546680421000076],[0.114799539000046,51.54532599800007],[0.115359702000035,51.54493891300007],[0.115340483000068,51.54469672600004],[0.113878899000042,51.544480400000054],[0.114721685000063,51.54406857500004],[0.114741153000068,51.54354917400008],[0.116214898000067,51.54289953300008],[0.115867778000052,51.54267804800003],[0.11612148100005,51.542472616000055],[0.116355319000036,51.54225526600004],[0.115166155000054,51.54170447200005],[0.115130710000074,51.541313149000075],[0.116382119000036,51.541150592000065],[0.117300911000029,51.54136287800003],[0.11779376000004,51.54042534900003],[0.117817639000066,51.54031467300007],[0.117987623000033,51.53962893000005],[0.117186491000041,51.53956501300007],[0.112688716000036,51.539230512000074],[0.106623442000057,51.538753091000046],[0.105711989000042,51.53867889300005],[0.105666663000022,51.539278523000064],[0.104340882000031,51.54085144700008],[0.104252950000046,51.54122315800004],[0.106031665000046,51.54298268500003],[0.107234056000038,51.54447241100007],[0.108982906000051,51.544792492000056],[0.109653828000035,51.54516184000005],[0.109653386000048,51.545854330000054],[0.113327705000074,51.546093694000035],[0.113423216000058,51.54704242000008]]]],\"type\":\"MultiPolygon\"},\"properties\":{\"active\":true,\"alternative_names\":[\"Barking and Dagenham 017E\"],\"areachect\":52.02,\"areaehect\":52.02,\"areaihect\":0.0,\"arealhect\":52.02,\"child_count\":8,\"child_counts\":{\"oa21\":8},\"code\":\"E01000072\",\"date_end\":null,\"date_start\":\"Sun, 01 Feb 2004 00:00:00 GMT\",\"entity\":\"E01\",\"equivalents\":{},\"name\":\"Barking and Dagenham 017E\",\"name_welsh\":null,\"owner\":\"ONS\",\"parent\":\"E02000018\",\"predecessor\":[],\"sort_order\":\"E01000072\",\"stats\":{\"idaci2015\":{\"idaci_decile\":2,\"idaci_rank\":4295,\"idaci_score\":0.358},\"idaci2019\":{\"idaci_decile\":2,\"idaci_rank\":4870,\"idaci_score\":0.29},\"idaopi2015\":{\"idaopi_decile\":2,\"idaopi_rank\":4986,\"idaopi_score\":0.321},\"idaopi2019\":{\"idaopi_decile\":2,\"idaopi_rank\":4356,\"idaopi_score\":0.308},\"imd2015\":{\"imd_crime_decile\":1,\"imd_crime_rank\":636,\"imd_crime_score\":1.547,\"imd_decile\":2,\"imd_education_adults_decile\":2,\"imd_education_adults_rank\":4412,\"imd_education_adults_score\":0.442,\"imd_education_children_decile\":4,\"imd_education_children_rank\":10099,\"imd_education_children_score\":0.402,\"imd_education_decile\":3,\"imd_education_rank\":6730,\"imd_education_score\":35.4,\"imd_employment_decile\":3,\"imd_employment_rank\":6679,\"imd_employment_score\":0.176,\"imd_environment_decile\":2,\"imd_environment_indoors_decile\":3,\"imd_environment_indoors_rank\":9181,\"imd_environment_indoors_score\":0.515,\"imd_environment_outdoors_rank\":2,\"imd_environment_outdoors_score\":1.095,\"imd_environment_rank\":6265,\"imd_environment_score\":35.696,\"imd_health_decile\":3,\"imd_health_rank\":7488,\"imd_health_score\":0.667,\"imd_housing_decile\":1,\"imd_housing_geographical_decile\":10,\"imd_housing_geographical_rank\":29905,\"imd_housing_geographical_score\":-1.028,\"imd_housing_rank\":1359,\"imd_housing_score\":43.192,\"imd_housing_wider_decile\":1,\"imd_housing_wider_rank\":424,\"imd_housing_wider_score\":5.533,\"imd_income_decile\":2,\"imd_income_rank\":4319,\"imd_income_score\":0.276,\"imd_rank\":3339,\"imd_score\":44.336},\"imd2019\":{\"imd_crime_decile\":1,\"imd_crime_rank\":2249,\"imd_crime_score\":1.197,\"imd_decile\":2,\"imd_education_adults_decile\":2,\"imd_education_adults_rank\":4412,\"imd_education_adults_score\":0.442,\"imd_education_children_decile\":4,\"imd_education_children_rank\":11215,\"imd_education_children_score\":0.315,\"imd_education_decile\":3,\"imd_education_rank\":7028,\"imd_education_score\":34.242,\"imd_employment_decile\":3,\"imd_employment_rank\":7689,\"imd_employment_score\":0.138,\"imd_environment_decile\":3,\"imd_environment_indoors_decile\":5,\"imd_environment_indoors_rank\":14695,\"imd_environment_indoors_score\":0.114,\"imd_environment_outdoors_rank\":1,\"imd_environment_outdoors_score\":1.235,\"imd_environment_rank\":8754,\"imd_environment_score\":30.082,\"imd_health_decile\":3,\"imd_health_rank\":9357,\"imd_health_score\":0.478,\"imd_housing_decile\":1,\"imd_housing_geographical_decile\":10,\"imd_housing_geographical_rank\":29842,\"imd_housing_geographical_score\":-1.006,\"imd_housing_rank\":722,\"imd_housing_score\":46.957,\"imd_housing_wider_decile\":1,\"imd_housing_wider_rank\":187,\"imd_housing_wider_score\":6.336,\"imd_income_decile\":2,\"imd_income_rank\":4451,\"imd_income_score\":0.241,\"imd_rank\":3974,\"imd_score\":41.016},\"population2012\":{\"population_0_15\":573,\"population_16_59\":1196,\"population_60_plus\":288,\"population_total\":2057,\"population_workingage\":1167},\"population2015\":{\"population_0_15\":592,\"population_16_59\":1221,\"population_60_plus\":299,\"population_total\":2112,\"population_workingage\":1189}},\"statutory_instrument_id\":null,\"statutory_instrument_title\":null,\"successor\":[]},\"type\":\"Feature\"}],\"type\":\"FeatureCollection\"}\n",
      "\n"
     ]
    },
    {
     "name": "stderr",
     "output_type": "stream",
     "text": [
      "Skipping field alternative_names: unsupported OGR type: 5\n"
     ]
    },
    {
     "name": "stdout",
     "output_type": "stream",
     "text": [
      "{\"features\":[{\"geometry\":{\"coordinates\":[[[[0.125481065000031,51.547017768000046],[0.125872153000046,51.54686292400004],[0.128569188000029,51.54714972000005],[0.128926935000038,51.54696769100008],[0.130134506000047,51.54711782900006],[0.130903371000045,51.54506125800003],[0.131913656000052,51.54377333700006],[0.134216567000067,51.54188163600003],[0.133940296000048,51.541618131000064],[0.134204950000026,51.54071673400006],[0.130660638000052,51.54049185200006],[0.127664667000033,51.54028094200004],[0.127723327000069,51.53883102100008],[0.127494668000054,51.538821056000074],[0.126515819000019,51.53877950800006],[0.125796908000041,51.53873841700005],[0.125575333000029,51.539027145000034],[0.123831148000022,51.53935583100008],[0.123660337000047,51.540004571000054],[0.12345490000007,51.54079256000006],[0.122780656000032,51.540844236000055],[0.122643260000075,51.541175715000065],[0.122149148000062,51.54318927200006],[0.121339952000028,51.54356690600008],[0.122250931000053,51.54465913300004],[0.122021699000072,51.54491781000007],[0.123906411000064,51.54574701900003],[0.124287547000051,51.54607337500005],[0.12476257000003,51.54648654200008],[0.125742884000033,51.547246923000046],[0.125481065000031,51.547017768000046]]]],\"type\":\"MultiPolygon\"},\"properties\":{\"active\":true,\"alternative_names\":[\"Barking and Dagenham 012D\"],\"areachect\":51.74,\"areaehect\":51.74,\"areaihect\":0.0,\"arealhect\":51.74,\"child_count\":5,\"child_counts\":{\"oa21\":5},\"code\":\"E01000075\",\"date_end\":null,\"date_start\":\"Sun, 01 Feb 2004 00:00:00 GMT\",\"entity\":\"E01\",\"equivalents\":{},\"name\":\"Barking and Dagenham 012D\",\"name_welsh\":null,\"owner\":\"ONS\",\"parent\":\"E02000013\",\"predecessor\":[],\"sort_order\":\"E01000075\",\"stats\":{\"idaci2015\":{\"idaci_decile\":2,\"idaci_rank\":4879,\"idaci_score\":0.342},\"idaci2019\":{\"idaci_decile\":2,\"idaci_rank\":5360,\"idaci_score\":0.279},\"idaopi2015\":{\"idaopi_decile\":4,\"idaopi_rank\":11304,\"idaopi_score\":0.207},\"idaopi2019\":{\"idaopi_decile\":3,\"idaopi_rank\":8331,\"idaopi_score\":0.225},\"imd2015\":{\"imd_crime_decile\":1,\"imd_crime_rank\":428,\"imd_crime_score\":1.666,\"imd_decile\":2,\"imd_education_adults_decile\":2,\"imd_education_adults_rank\":4457,\"imd_education_adults_score\":0.44,\"imd_education_children_decile\":4,\"imd_education_children_rank\":12393,\"imd_education_children_score\":0.245,\"imd_education_decile\":3,\"imd_education_rank\":7489,\"imd_education_score\":33.027,\"imd_employment_decile\":3,\"imd_employment_rank\":8547,\"imd_employment_score\":0.155,\"imd_environment_decile\":2,\"imd_environment_indoors_decile\":3,\"imd_environment_indoors_rank\":7294,\"imd_environment_indoors_score\":0.673,\"imd_environment_outdoors_rank\":2,\"imd_environment_outdoors_score\":0.868,\"imd_environment_rank\":6009,\"imd_environment_score\":36.327,\"imd_health_decile\":4,\"imd_health_rank\":12021,\"imd_health_score\":0.291,\"imd_housing_decile\":2,\"imd_housing_geographical_decile\":7,\"imd_housing_geographical_rank\":20748,\"imd_housing_geographical_score\":-0.285,\"imd_housing_rank\":3484,\"imd_housing_score\":36.189,\"imd_housing_wider_decile\":1,\"imd_housing_wider_rank\":1818,\"imd_housing_wider_score\":4.257,\"imd_income_decile\":2,\"imd_income_rank\":6152,\"imd_income_score\":0.237,\"imd_rank\":4926,\"imd_score\":38.594},\"imd2019\":{\"imd_crime_decile\":1,\"imd_crime_rank\":3101,\"imd_crime_score\":1.057,\"imd_decile\":2,\"imd_education_adults_decile\":2,\"imd_education_adults_rank\":4457,\"imd_education_adults_score\":0.44,\"imd_education_children_decile\":3,\"imd_education_children_rank\":9178,\"imd_education_children_score\":0.472,\"imd_education_decile\":2,\"imd_education_rank\":6343,\"imd_education_score\":36.347,\"imd_employment_decile\":4,\"imd_employment_rank\":9943,\"imd_employment_score\":0.118,\"imd_environment_decile\":2,\"imd_environment_indoors_decile\":3,\"imd_environment_indoors_rank\":8552,\"imd_environment_indoors_score\":0.549,\"imd_environment_outdoors_rank\":1,\"imd_environment_outdoors_score\":1.375,\"imd_environment_rank\":4325,\"imd_environment_score\":39.815,\"imd_health_decile\":5,\"imd_health_rank\":13939,\"imd_health_score\":0.136,\"imd_housing_decile\":1,\"imd_housing_geographical_decile\":8,\"imd_housing_geographical_rank\":23262,\"imd_housing_geographical_score\":-0.45,\"imd_housing_rank\":1086,\"imd_housing_score\":44.869,\"imd_housing_wider_decile\":1,\"imd_housing_wider_rank\":515,\"imd_housing_wider_score\":5.597,\"imd_income_decile\":3,\"imd_income_rank\":6873,\"imd_income_score\":0.196,\"imd_rank\":5215,\"imd_score\":36.999},\"population2012\":{\"population_0_15\":440,\"population_16_59\":1015,\"population_60_plus\":299,\"population_total\":1754,\"population_workingage\":991},\"population2015\":{\"population_0_15\":429,\"population_16_59\":1054,\"population_60_plus\":294,\"population_total\":1777,\"population_workingage\":1046}},\"statutory_instrument_id\":null,\"statutory_instrument_title\":null,\"successor\":[]},\"type\":\"Feature\"}],\"type\":\"FeatureCollection\"}\n",
      "\n"
     ]
    },
    {
     "name": "stderr",
     "output_type": "stream",
     "text": [
      "Skipping field alternative_names: unsupported OGR type: 5\n"
     ]
    },
    {
     "name": "stdout",
     "output_type": "stream",
     "text": [
      "{\"features\":[{\"geometry\":{\"coordinates\":[[[[0.125742884000033,51.547246923000046],[0.12476257000003,51.54648654200008],[0.124488295000049,51.54700043500003],[0.123382934000063,51.547153483000045],[0.123654012000031,51.547797452000054],[0.122256540000024,51.54803111000007],[0.12256140900007,51.54872818000007],[0.122764851000056,51.54918306400003],[0.12334170500003,51.550494283000035],[0.12361342500003,51.551230702000055],[0.124402219000046,51.55130330800006],[0.127534078000053,51.551621537000074],[0.128842100000043,51.55166274000004],[0.130307541000036,51.551767538000036],[0.130410041000061,51.55134219800004],[0.130321271000071,51.55126411200007],[0.128684792000058,51.549825240000075],[0.128678322000042,51.54981893100006],[0.127868731000035,51.54911754700004],[0.125742884000033,51.547246923000046]]]],\"type\":\"MultiPolygon\"},\"properties\":{\"active\":true,\"alternative_names\":[\"Barking and Dagenham 008F\"],\"areachect\":17.38,\"areaehect\":17.38,\"areaihect\":0.0,\"arealhect\":17.38,\"child_count\":5,\"child_counts\":{\"oa21\":5},\"code\":\"E01000077\",\"date_end\":null,\"date_start\":\"Sun, 01 Feb 2004 00:00:00 GMT\",\"entity\":\"E01\",\"equivalents\":{},\"name\":\"Barking and Dagenham 008F\",\"name_welsh\":null,\"owner\":\"ONS\",\"parent\":\"E02000009\",\"predecessor\":[],\"sort_order\":\"E01000077\",\"stats\":{\"idaci2015\":{\"idaci_decile\":2,\"idaci_rank\":6129,\"idaci_score\":0.312},\"idaci2019\":{\"idaci_decile\":2,\"idaci_rank\":4647,\"idaci_score\":0.294},\"idaopi2015\":{\"idaopi_decile\":2,\"idaopi_rank\":5426,\"idaopi_score\":0.31},\"idaopi2019\":{\"idaopi_decile\":2,\"idaopi_rank\":4001,\"idaopi_score\":0.318},\"imd2015\":{\"imd_crime_decile\":2,\"imd_crime_rank\":6036,\"imd_crime_score\":0.732,\"imd_decile\":2,\"imd_education_adults_decile\":2,\"imd_education_adults_rank\":3444,\"imd_education_adults_score\":0.463,\"imd_education_children_decile\":5,\"imd_education_children_rank\":13773,\"imd_education_children_score\":0.156,\"imd_education_decile\":3,\"imd_education_rank\":7009,\"imd_education_score\":34.523,\"imd_employment_decile\":2,\"imd_employment_rank\":6213,\"imd_employment_score\":0.182,\"imd_environment_decile\":3,\"imd_environment_indoors_decile\":3,\"imd_environment_indoors_rank\":8415,\"imd_environment_indoors_score\":0.577,\"imd_environment_outdoors_rank\":2,\"imd_environment_outdoors_score\":0.713,\"imd_environment_rank\":7592,\"imd_environment_score\":32.429,\"imd_health_decile\":4,\"imd_health_rank\":10138,\"imd_health_score\":0.437,\"imd_housing_decile\":2,\"imd_housing_geographical_decile\":10,\"imd_housing_geographical_rank\":31783,\"imd_housing_geographical_score\":-1.383,\"imd_housing_rank\":4175,\"imd_housing_score\":34.627,\"imd_housing_wider_decile\":1,\"imd_housing_wider_rank\":1263,\"imd_housing_wider_score\":4.714,\"imd_income_decile\":2,\"imd_income_rank\":5028,\"imd_income_score\":0.26,\"imd_rank\":5549,\"imd_score\":36.685},\"imd2019\":{\"imd_crime_decile\":3,\"imd_crime_rank\":9244,\"imd_crime_score\":0.487,\"imd_decile\":2,\"imd_education_adults_decile\":2,\"imd_education_adults_rank\":3444,\"imd_education_adults_score\":0.463,\"imd_education_children_decile\":5,\"imd_education_children_rank\":15103,\"imd_education_children_score\":0.058,\"imd_education_decile\":3,\"imd_education_rank\":7276,\"imd_education_score\":33.494,\"imd_employment_decile\":2,\"imd_employment_rank\":5768,\"imd_employment_score\":0.159,\"imd_environment_decile\":2,\"imd_environment_indoors_decile\":3,\"imd_environment_indoors_rank\":9385,\"imd_environment_indoors_score\":0.487,\"imd_environment_outdoors_rank\":2,\"imd_environment_outdoors_score\":1.091,\"imd_environment_rank\":6233,\"imd_environment_score\":35.02,\"imd_health_decile\":3,\"imd_health_rank\":6631,\"imd_health_score\":0.725,\"imd_housing_decile\":1,\"imd_housing_geographical_decile\":10,\"imd_housing_geographical_rank\":31890,\"imd_housing_geographical_score\":-1.411,\"imd_housing_rank\":1218,\"imd_housing_score\":44.143,\"imd_housing_wider_decile\":1,\"imd_housing_wider_rank\":308,\"imd_housing_wider_score\":6.019,\"imd_income_decile\":2,\"imd_income_rank\":3973,\"imd_income_score\":0.251,\"imd_rank\":3967,\"imd_score\":41.032},\"population2012\":{\"population_0_15\":396,\"population_16_59\":921,\"population_60_plus\":202,\"population_total\":1519,\"population_workingage\":895},\"population2015\":{\"population_0_15\":409,\"population_16_59\":886,\"population_60_plus\":192,\"population_total\":1487,\"population_workingage\":872}},\"statutory_instrument_id\":null,\"statutory_instrument_title\":null,\"successor\":[]},\"type\":\"Feature\"}],\"type\":\"FeatureCollection\"}\n",
      "\n"
     ]
    },
    {
     "name": "stderr",
     "output_type": "stream",
     "text": [
      "Skipping field alternative_names: unsupported OGR type: 5\n"
     ]
    },
    {
     "name": "stdout",
     "output_type": "stream",
     "text": [
      "{\"features\":[{\"geometry\":{\"coordinates\":[[[[0.133787784000049,51.55088552400008],[0.133251549000022,51.55028621500003],[0.132412785000042,51.55084886600008],[0.131762494000043,51.550496990000056],[0.132382151000058,51.54989879900006],[0.13331727700006,51.549193856000045],[0.132391981000069,51.54917375300005],[0.131782543000043,51.54877020200007],[0.13056356900006,51.548959755000055],[0.13056442200002,51.54960593700008],[0.129938262000053,51.54952985500006],[0.129350087000034,51.54987938100004],[0.128980107000075,51.549679164000054],[0.128678322000042,51.54981893100006],[0.128684792000058,51.549825240000075],[0.130321271000071,51.55126411200007],[0.130410041000061,51.55134219800004],[0.130307541000036,51.551767538000036],[0.131040924000047,51.55221353400003],[0.130940400000043,51.55402309800007],[0.131969617000038,51.55406796500006],[0.132500486000026,51.555559008000046],[0.133956972000021,51.55558906200008],[0.133979368000041,51.55558957200003],[0.135577301000069,51.55412343200004],[0.134111136000058,51.55261856000004],[0.134126455000057,51.55240537100008],[0.134623112000043,51.55209167500004],[0.135070885000061,51.55158634900005],[0.134580102000029,51.55089955700004],[0.133787784000049,51.55088552400008]]]],\"type\":\"MultiPolygon\"},\"properties\":{\"active\":true,\"alternative_names\":[\"Barking and Dagenham 007B\"],\"areachect\":17.58,\"areaehect\":17.58,\"areaihect\":0.0,\"arealhect\":17.58,\"child_count\":5,\"child_counts\":{\"oa21\":5},\"code\":\"E01000078\",\"date_end\":null,\"date_start\":\"Sun, 01 Feb 2004 00:00:00 GMT\",\"entity\":\"E01\",\"equivalents\":{},\"name\":\"Barking and Dagenham 007B\",\"name_welsh\":null,\"owner\":\"ONS\",\"parent\":\"E02000008\",\"predecessor\":[],\"sort_order\":\"E01000078\",\"stats\":{\"idaci2015\":{\"idaci_decile\":1,\"idaci_rank\":2163,\"idaci_score\":0.425},\"idaci2019\":{\"idaci_decile\":2,\"idaci_rank\":3524,\"idaci_score\":0.322},\"idaopi2015\":{\"idaopi_decile\":3,\"idaopi_rank\":6872,\"idaopi_score\":0.279},\"idaopi2019\":{\"idaopi_decile\":3,\"idaopi_rank\":7609,\"idaopi_score\":0.238},\"imd2015\":{\"imd_crime_decile\":1,\"imd_crime_rank\":2512,\"imd_crime_score\":1.112,\"imd_decile\":2,\"imd_education_adults_decile\":2,\"imd_education_adults_rank\":4923,\"imd_education_adults_score\":0.431,\"imd_education_children_decile\":3,\"imd_education_children_rank\":9383,\"imd_education_children_score\":0.453,\"imd_education_decile\":3,\"imd_education_rank\":6840,\"imd_education_score\":35.056,\"imd_employment_decile\":3,\"imd_employment_rank\":8895,\"imd_employment_score\":0.151,\"imd_environment_decile\":3,\"imd_environment_indoors_decile\":3,\"imd_environment_indoors_rank\":8733,\"imd_environment_indoors_score\":0.551,\"imd_environment_outdoors_rank\":3,\"imd_environment_outdoors_score\":0.558,\"imd_environment_rank\":8563,\"imd_environment_score\":30.221,\"imd_health_decile\":5,\"imd_health_rank\":13365,\"imd_health_score\":0.19,\"imd_housing_decile\":2,\"imd_housing_geographical_decile\":10,\"imd_housing_geographical_rank\":32220,\"imd_housing_geographical_score\":-1.541,\"imd_housing_rank\":3855,\"imd_housing_score\":35.377,\"imd_housing_wider_decile\":1,\"imd_housing_wider_rank\":1135,\"imd_housing_wider_score\":4.823,\"imd_income_decile\":2,\"imd_income_rank\":3847,\"imd_income_score\":0.287,\"imd_rank\":5435,\"imd_score\":37.03},\"imd2019\":{\"imd_crime_decile\":3,\"imd_crime_rank\":9512,\"imd_crime_score\":0.467,\"imd_decile\":2,\"imd_education_adults_decile\":2,\"imd_education_adults_rank\":4923,\"imd_education_adults_score\":0.431,\"imd_education_children_decile\":4,\"imd_education_children_rank\":10642,\"imd_education_children_score\":0.359,\"imd_education_decile\":3,\"imd_education_rank\":7216,\"imd_education_score\":33.668,\"imd_employment_decile\":3,\"imd_employment_rank\":8778,\"imd_employment_score\":0.128,\"imd_environment_decile\":3,\"imd_environment_indoors_decile\":4,\"imd_environment_indoors_rank\":10560,\"imd_environment_indoors_score\":0.399,\"imd_environment_outdoors_rank\":2,\"imd_environment_outdoors_score\":1.073,\"imd_environment_rank\":7156,\"imd_environment_score\":33.091,\"imd_health_decile\":5,\"imd_health_rank\":15460,\"imd_health_score\":0.035,\"imd_housing_decile\":1,\"imd_housing_geographical_decile\":10,\"imd_housing_geographical_rank\":32263,\"imd_housing_geographical_score\":-1.582,\"imd_housing_rank\":1183,\"imd_housing_score\":44.311,\"imd_housing_wider_decile\":1,\"imd_housing_wider_rank\":289,\"imd_housing_wider_score\":6.066,\"imd_income_decile\":2,\"imd_income_rank\":5086,\"imd_income_score\":0.228,\"imd_rank\":5874,\"imd_score\":35.033},\"population2012\":{\"population_0_15\":415,\"population_16_59\":1017,\"population_60_plus\":227,\"population_total\":1659,\"population_workingage\":1004},\"population2015\":{\"population_0_15\":479,\"population_16_59\":1096,\"population_60_plus\":251,\"population_total\":1826,\"population_workingage\":1067}},\"statutory_instrument_id\":null,\"statutory_instrument_title\":null,\"successor\":[]},\"type\":\"Feature\"}],\"type\":\"FeatureCollection\"}\n",
      "\n"
     ]
    },
    {
     "name": "stderr",
     "output_type": "stream",
     "text": [
      "Skipping field alternative_names: unsupported OGR type: 5\n"
     ]
    },
    {
     "name": "stdout",
     "output_type": "stream",
     "text": [
      "{\"features\":[{\"geometry\":{\"coordinates\":[[[[0.143315640000026,51.548404024000035],[0.14578259600006,51.54758384300004],[0.145533643000022,51.54726894700008],[0.14647383700003,51.54645858300006],[0.146037124000031,51.54615658100005],[0.144617199000038,51.54636911500006],[0.14297666300007,51.54662217600003],[0.14192954400005,51.54549148700005],[0.14232262500002,51.54532659700004],[0.142092711000032,51.54508411300003],[0.141576625000027,51.544540598000026],[0.138602798000022,51.54567437500003],[0.136772955000026,51.54423285400003],[0.131913656000052,51.54377333700006],[0.130903371000045,51.54506125800003],[0.13347789900007,51.54545657700004],[0.133470973000044,51.547636057000034],[0.134116458000051,51.548569712000074],[0.135763306000058,51.54731245500005],[0.136782185000072,51.54739681600006],[0.137206432000028,51.548009093000076],[0.13769049800004,51.54780761000006],[0.138759055000037,51.548019605000036],[0.140534469000045,51.54805175600006],[0.140905185000065,51.548647696000046],[0.14019491800002,51.54897191800006],[0.140452087000028,51.54915411800005],[0.142382307000048,51.549058064000064],[0.143134343000042,51.54863764700008],[0.143315640000026,51.548404024000035]]]],\"type\":\"MultiPolygon\"},\"properties\":{\"active\":true,\"alternative_names\":[\"Barking and Dagenham 009E\"],\"areachect\":30.96,\"areaehect\":30.96,\"areaihect\":0.0,\"arealhect\":30.96,\"child_count\":5,\"child_counts\":{\"oa21\":5},\"code\":\"E01000079\",\"date_end\":null,\"date_start\":\"Sun, 01 Feb 2004 00:00:00 GMT\",\"entity\":\"E01\",\"equivalents\":{},\"name\":\"Barking and Dagenham 009E\",\"name_welsh\":null,\"owner\":\"ONS\",\"parent\":\"E02000010\",\"predecessor\":[],\"sort_order\":\"E01000079\",\"stats\":{\"idaci2015\":{\"idaci_decile\":3,\"idaci_rank\":7979,\"idaci_score\":0.275},\"idaci2019\":{\"idaci_decile\":3,\"idaci_rank\":6811,\"idaci_score\":0.252},\"idaopi2015\":{\"idaopi_decile\":1,\"idaopi_rank\":3235,\"idaopi_score\":0.37},\"idaopi2019\":{\"idaopi_decile\":2,\"idaopi_rank\":3522,\"idaopi_score\":0.332},\"imd2015\":{\"imd_crime_decile\":2,\"imd_crime_rank\":4449,\"imd_crime_score\":0.883,\"imd_decile\":2,\"imd_education_adults_decile\":2,\"imd_education_adults_rank\":5948,\"imd_education_adults_score\":0.413,\"imd_education_children_decile\":4,\"imd_education_children_rank\":12442,\"imd_education_children_score\":0.24,\"imd_education_decile\":3,\"imd_education_rank\":8613,\"imd_education_score\":29.921,\"imd_employment_decile\":3,\"imd_employment_rank\":6830,\"imd_employment_score\":0.174,\"imd_environment_decile\":4,\"imd_environment_indoors_decile\":4,\"imd_environment_indoors_rank\":11568,\"imd_environment_indoors_score\":0.337,\"imd_environment_outdoors_rank\":4,\"imd_environment_outdoors_score\":0.376,\"imd_environment_rank\":11866,\"imd_environment_score\":24.235,\"imd_health_decile\":2,\"imd_health_rank\":6384,\"imd_health_score\":0.771,\"imd_housing_decile\":1,\"imd_housing_geographical_decile\":7,\"imd_housing_geographical_rank\":20093,\"imd_housing_geographical_score\":-0.246,\"imd_housing_rank\":2380,\"imd_housing_score\":39.094,\"imd_housing_wider_decile\":1,\"imd_housing_wider_rank\":1372,\"imd_housing_wider_score\":4.615,\"imd_income_decile\":2,\"imd_income_rank\":5300,\"imd_income_score\":0.253,\"imd_rank\":5302,\"imd_score\":37.476},\"imd2019\":{\"imd_crime_decile\":4,\"imd_crime_rank\":12695,\"imd_crime_score\":0.253,\"imd_decile\":2,\"imd_education_adults_decile\":2,\"imd_education_adults_rank\":5948,\"imd_education_adults_score\":0.413,\"imd_education_children_decile\":7,\"imd_education_children_rank\":20146,\"imd_education_children_score\":-0.246,\"imd_education_decile\":4,\"imd_education_rank\":11072,\"imd_education_score\":24.526,\"imd_employment_decile\":3,\"imd_employment_rank\":7379,\"imd_employment_score\":0.141,\"imd_environment_decile\":3,\"imd_environment_indoors_decile\":4,\"imd_environment_indoors_rank\":12225,\"imd_environment_indoors_score\":0.275,\"imd_environment_outdoors_rank\":2,\"imd_environment_outdoors_score\":0.94,\"imd_environment_rank\":9200,\"imd_environment_score\":29.325,\"imd_health_decile\":5,\"imd_health_rank\":15314,\"imd_health_score\":0.045,\"imd_housing_decile\":1,\"imd_housing_geographical_decile\":7,\"imd_housing_geographical_rank\":21794,\"imd_housing_geographical_score\":-0.354,\"imd_housing_rank\":566,\"imd_housing_score\":48.007,\"imd_housing_wider_decile\":1,\"imd_housing_wider_rank\":337,\"imd_housing_wider_score\":5.952,\"imd_income_decile\":2,\"imd_income_rank\":5141,\"imd_income_score\":0.227,\"imd_rank\":6057,\"imd_score\":34.522},\"population2012\":{\"population_0_15\":417,\"population_16_59\":880,\"population_60_plus\":282,\"population_total\":1579,\"population_workingage\":868},\"population2015\":{\"population_0_15\":440,\"population_16_59\":937,\"population_60_plus\":285,\"population_total\":1662,\"population_workingage\":942}},\"statutory_instrument_id\":null,\"statutory_instrument_title\":null,\"successor\":[]},\"type\":\"Feature\"}],\"type\":\"FeatureCollection\"}\n",
      "\n"
     ]
    },
    {
     "name": "stderr",
     "output_type": "stream",
     "text": [
      "Skipping field alternative_names: unsupported OGR type: 5\n"
     ]
    },
    {
     "name": "stdout",
     "output_type": "stream",
     "text": [
      "{\"features\":[{\"geometry\":{\"coordinates\":[[[[0.134580102000029,51.55089955700004],[0.13468315800003,51.54997537500003],[0.135470832000067,51.54972888800006],[0.136287175000064,51.54968482500004],[0.136325916000033,51.549606836000066],[0.136457705000055,51.548389437000026],[0.135983732000057,51.548043042000074],[0.136561550000067,51.54786643300008],[0.137105980000058,51.54836835300006],[0.138409678000073,51.54877108300008],[0.138759055000037,51.548019605000036],[0.13769049800004,51.54780761000006],[0.137206432000028,51.548009093000076],[0.136782185000072,51.54739681600006],[0.135763306000058,51.54731245500005],[0.134116458000051,51.548569712000074],[0.133470973000044,51.547636057000034],[0.13347789900007,51.54545657700004],[0.130903371000045,51.54506125800003],[0.130134506000047,51.54711782900006],[0.128926935000038,51.54696769100008],[0.128569188000029,51.54714972000005],[0.125872153000046,51.54686292400004],[0.125481065000031,51.547017768000046],[0.125742884000033,51.547246923000046],[0.127868731000035,51.54911754700004],[0.128678322000042,51.54981893100006],[0.128980107000075,51.549679164000054],[0.129350087000034,51.54987938100004],[0.129938262000053,51.54952985500006],[0.13056442200002,51.54960593700008],[0.13056356900006,51.548959755000055],[0.131782543000043,51.54877020200007],[0.132391981000069,51.54917375300005],[0.13331727700006,51.549193856000045],[0.132382151000058,51.54989879900006],[0.131762494000043,51.550496990000056],[0.132412785000042,51.55084886600008],[0.133251549000022,51.55028621500003],[0.133787784000049,51.55088552400008],[0.134580102000029,51.55089955700004]]]],\"type\":\"MultiPolygon\"},\"properties\":{\"active\":true,\"alternative_names\":[\"Barking and Dagenham 007C\"],\"areachect\":23.13,\"areaehect\":23.13,\"areaihect\":0.0,\"arealhect\":23.13,\"child_count\":5,\"child_counts\":{\"oa21\":5},\"code\":\"E01000080\",\"date_end\":null,\"date_start\":\"Sun, 01 Feb 2004 00:00:00 GMT\",\"entity\":\"E01\",\"equivalents\":{},\"name\":\"Barking and Dagenham 007C\",\"name_welsh\":null,\"owner\":\"ONS\",\"parent\":\"E02000008\",\"predecessor\":[],\"sort_order\":\"E01000080\",\"stats\":{\"idaci2015\":{\"idaci_decile\":2,\"idaci_rank\":6429,\"idaci_score\":0.305},\"idaci2019\":{\"idaci_decile\":3,\"idaci_rank\":8697,\"idaci_score\":0.221},\"idaopi2015\":{\"idaopi_decile\":2,\"idaopi_rank\":5983,\"idaopi_score\":0.298},\"idaopi2019\":{\"idaopi_decile\":3,\"idaopi_rank\":7102,\"idaopi_score\":0.247},\"imd2015\":{\"imd_crime_decile\":3,\"imd_crime_rank\":7068,\"imd_crime_score\":0.645,\"imd_decile\":2,\"imd_education_adults_decile\":2,\"imd_education_adults_rank\":5310,\"imd_education_adults_score\":0.424,\"imd_education_children_decile\":6,\"imd_education_children_rank\":19673,\"imd_education_children_score\":-0.213,\"imd_education_decile\":4,\"imd_education_rank\":10366,\"imd_education_score\":26.006,\"imd_employment_decile\":2,\"imd_employment_rank\":5991,\"imd_employment_score\":0.185,\"imd_environment_decile\":5,\"imd_environment_indoors_decile\":5,\"imd_environment_indoors_rank\":15460,\"imd_environment_indoors_score\":0.073,\"imd_environment_outdoors_rank\":3,\"imd_environment_outdoors_score\":0.484,\"imd_environment_rank\":13948,\"imd_environment_score\":21.008,\"imd_health_decile\":3,\"imd_health_rank\":9697,\"imd_health_score\":0.474,\"imd_housing_decile\":1,\"imd_housing_geographical_decile\":8,\"imd_housing_geographical_rank\":24432,\"imd_housing_geographical_score\":-0.519,\"imd_housing_rank\":3034,\"imd_housing_score\":37.258,\"imd_housing_wider_decile\":1,\"imd_housing_wider_rank\":1315,\"imd_housing_wider_score\":4.673,\"imd_income_decile\":2,\"imd_income_rank\":5965,\"imd_income_score\":0.24,\"imd_rank\":6505,\"imd_score\":34.061},\"imd2019\":{\"imd_crime_decile\":5,\"imd_crime_rank\":14386,\"imd_crime_score\":0.145,\"imd_decile\":3,\"imd_education_adults_decile\":2,\"imd_education_adults_rank\":5310,\"imd_education_adults_score\":0.424,\"imd_education_children_decile\":6,\"imd_education_children_rank\":19031,\"imd_education_children_score\":-0.177,\"imd_education_decile\":4,\"imd_education_rank\":10114,\"imd_education_score\":26.379,\"imd_employment_decile\":3,\"imd_employment_rank\":6934,\"imd_employment_score\":0.146,\"imd_environment_decile\":4,\"imd_environment_indoors_decile\":6,\"imd_environment_indoors_rank\":17552,\"imd_environment_indoors_score\":-0.068,\"imd_environment_outdoors_rank\":2,\"imd_environment_outdoors_score\":0.984,\"imd_environment_rank\":12095,\"imd_environment_score\":24.492,\"imd_health_decile\":3,\"imd_health_rank\":9777,\"imd_health_score\":0.445,\"imd_housing_decile\":1,\"imd_housing_geographical_decile\":9,\"imd_housing_geographical_rank\":26984,\"imd_housing_geographical_score\":-0.713,\"imd_housing_rank\":989,\"imd_housing_score\":45.385,\"imd_housing_wider_decile\":1,\"imd_housing_wider_rank\":351,\"imd_housing_wider_score\":5.922,\"imd_income_decile\":3,\"imd_income_rank\":7274,\"imd_income_score\":0.19,\"imd_rank\":6596,\"imd_score\":33.185},\"population2012\":{\"population_0_15\":409,\"population_16_59\":946,\"population_60_plus\":231,\"population_total\":1586,\"population_workingage\":929},\"population2015\":{\"population_0_15\":471,\"population_16_59\":971,\"population_60_plus\":209,\"population_total\":1651,\"population_workingage\":959}},\"statutory_instrument_id\":null,\"statutory_instrument_title\":null,\"successor\":[]},\"type\":\"Feature\"}],\"type\":\"FeatureCollection\"}\n",
      "\n"
     ]
    },
    {
     "name": "stderr",
     "output_type": "stream",
     "text": [
      "Skipping field alternative_names: unsupported OGR type: 5\n"
     ]
    },
    {
     "name": "stdout",
     "output_type": "stream",
     "text": [
      "{\"features\":[{\"geometry\":{\"coordinates\":[[[[0.136268262000044,51.55254946700006],[0.136306822000051,51.552272824000056],[0.135874727000044,51.55249272900005],[0.135407568000062,51.55213837900004],[0.134623112000043,51.55209167500004],[0.134126455000057,51.55240537100008],[0.134111136000058,51.55261856000004],[0.135577301000069,51.55412343200004],[0.133979368000041,51.55558957200003],[0.136669949000066,51.55565074000003],[0.14038186800002,51.555717564000076],[0.14240412700002,51.55575216700004],[0.142651228000034,51.55575741600006],[0.145248007000021,51.55581254400005],[0.143469959000072,51.554541923000045],[0.141426312000021,51.55406017200005],[0.14133345700003,51.55403933800005],[0.138715416000025,51.55343663300005],[0.136993118000021,51.552819611000075],[0.136319596000021,51.552549131000035],[0.136268262000044,51.55254946700006]]]],\"type\":\"MultiPolygon\"},\"properties\":{\"active\":true,\"alternative_names\":[\"Barking and Dagenham 007E\"],\"areachect\":16.07,\"areaehect\":16.07,\"areaihect\":0.0,\"arealhect\":16.07,\"child_count\":5,\"child_counts\":{\"oa21\":5},\"code\":\"E01000082\",\"date_end\":null,\"date_start\":\"Sun, 01 Feb 2004 00:00:00 GMT\",\"entity\":\"E01\",\"equivalents\":{},\"name\":\"Barking and Dagenham 007E\",\"name_welsh\":null,\"owner\":\"ONS\",\"parent\":\"E02000008\",\"predecessor\":[],\"sort_order\":\"E01000082\",\"stats\":{\"idaci2015\":{\"idaci_decile\":3,\"idaci_rank\":8868,\"idaci_score\":0.257},\"idaci2019\":{\"idaci_decile\":4,\"idaci_rank\":12181,\"idaci_score\":0.171},\"idaopi2015\":{\"idaopi_decile\":2,\"idaopi_rank\":5081,\"idaopi_score\":0.319},\"idaopi2019\":{\"idaopi_decile\":3,\"idaopi_rank\":8412,\"idaopi_score\":0.224},\"imd2015\":{\"imd_crime_decile\":3,\"imd_crime_rank\":6984,\"imd_crime_score\":0.652,\"imd_decile\":3,\"imd_education_adults_decile\":2,\"imd_education_adults_rank\":4983,\"imd_education_adults_score\":0.43,\"imd_education_children_decile\":6,\"imd_education_children_rank\":18044,\"imd_education_children_score\":-0.111,\"imd_education_decile\":3,\"imd_education_rank\":9573,\"imd_education_score\":27.652,\"imd_employment_decile\":3,\"imd_employment_rank\":7558,\"imd_employment_score\":0.166,\"imd_environment_decile\":3,\"imd_environment_indoors_decile\":4,\"imd_environment_indoors_rank\":10068,\"imd_environment_indoors_score\":0.445,\"imd_environment_outdoors_rank\":3,\"imd_environment_outdoors_score\":0.589,\"imd_environment_rank\":9451,\"imd_environment_score\":28.441,\"imd_health_decile\":4,\"imd_health_rank\":10027,\"imd_health_score\":0.447,\"imd_housing_decile\":2,\"imd_housing_geographical_decile\":10,\"imd_housing_geographical_rank\":31526,\"imd_housing_geographical_score\":-1.313,\"imd_housing_rank\":5400,\"imd_housing_score\":32.263,\"imd_housing_wider_decile\":1,\"imd_housing_wider_rank\":1666,\"imd_housing_wider_score\":4.382,\"imd_income_decile\":3,\"imd_income_rank\":6810,\"imd_income_score\":0.225,\"imd_rank\":7276,\"imd_score\":32.139},\"imd2019\":{\"imd_crime_decile\":7,\"imd_crime_rank\":19918,\"imd_crime_score\":-0.221,\"imd_decile\":3,\"imd_education_adults_decile\":2,\"imd_education_adults_rank\":4983,\"imd_education_adults_score\":0.43,\"imd_education_children_decile\":5,\"imd_education_children_rank\":13315,\"imd_education_children_score\":0.174,\"imd_education_decile\":3,\"imd_education_rank\":8160,\"imd_education_score\":31.053,\"imd_employment_decile\":4,\"imd_employment_rank\":10671,\"imd_employment_score\":0.113,\"imd_environment_decile\":3,\"imd_environment_indoors_decile\":4,\"imd_environment_indoors_rank\":12618,\"imd_environment_indoors_score\":0.248,\"imd_environment_outdoors_rank\":2,\"imd_environment_outdoors_score\":1.037,\"imd_environment_rank\":8806,\"imd_environment_score\":30.006,\"imd_health_decile\":6,\"imd_health_rank\":17747,\"imd_health_score\":-0.111,\"imd_housing_decile\":1,\"imd_housing_geographical_decile\":10,\"imd_housing_geographical_rank\":31015,\"imd_housing_geographical_score\":-1.197,\"imd_housing_rank\":1396,\"imd_housing_score\":43.176,\"imd_housing_wider_decile\":1,\"imd_housing_wider_rank\":395,\"imd_housing_wider_score\":5.841,\"imd_income_decile\":3,\"imd_income_rank\":9753,\"imd_income_score\":0.158,\"imd_rank\":9100,\"imd_score\":27.895},\"population2012\":{\"population_0_15\":468,\"population_16_59\":1020,\"population_60_plus\":221,\"population_total\":1709,\"population_workingage\":1008},\"population2015\":{\"population_0_15\":496,\"population_16_59\":1197,\"population_60_plus\":260,\"population_total\":1953,\"population_workingage\":1175}},\"statutory_instrument_id\":null,\"statutory_instrument_title\":null,\"successor\":[]},\"type\":\"Feature\"}],\"type\":\"FeatureCollection\"}\n",
      "\n"
     ]
    },
    {
     "name": "stderr",
     "output_type": "stream",
     "text": [
      "Skipping field alternative_names: unsupported OGR type: 5\n"
     ]
    },
    {
     "name": "stdout",
     "output_type": "stream",
     "text": [
      "{\"features\":[{\"geometry\":{\"coordinates\":[[[[0.148169050000035,51.54023306700003],[0.147653750000075,51.53948741600004],[0.148206477000031,51.539359483000055],[0.148231086000067,51.53881909900008],[0.148229815000036,51.538523690000034],[0.148739963000025,51.538142968000045],[0.148268747000031,51.53752348900008],[0.147697607000055,51.537819256000034],[0.146278893000044,51.537543020000044],[0.145586837000053,51.53757273300005],[0.145602275000044,51.53798461100007],[0.145679231000031,51.53843969900004],[0.144829417000039,51.53858588300005],[0.144804081000075,51.53933779400006],[0.144022522000057,51.53967208000006],[0.142463834000068,51.53869803200007],[0.141181388000064,51.54020529600007],[0.140255104000062,51.541115812000044],[0.140597343000024,51.54113492300007],[0.143070218000048,51.54128500300004],[0.143686491000039,51.54132470800005],[0.147240928000031,51.54155377700005],[0.147931005000032,51.54159808900005],[0.148056479000047,51.540939053000045],[0.148169050000035,51.54023306700003]]]],\"type\":\"MultiPolygon\"},\"properties\":{\"active\":true,\"alternative_names\":[\"Barking and Dagenham 013D\"],\"areachect\":15.0,\"areaehect\":15.0,\"areaihect\":0.0,\"arealhect\":15.0,\"child_count\":4,\"child_counts\":{\"oa21\":4},\"code\":\"E01000084\",\"date_end\":null,\"date_start\":\"Sun, 01 Feb 2004 00:00:00 GMT\",\"entity\":\"E01\",\"equivalents\":{},\"name\":\"Barking and Dagenham 013D\",\"name_welsh\":null,\"owner\":\"ONS\",\"parent\":\"E02000014\",\"predecessor\":[],\"sort_order\":\"E01000084\",\"stats\":{\"idaci2015\":{\"idaci_decile\":1,\"idaci_rank\":3089,\"idaci_score\":0.392},\"idaci2019\":{\"idaci_decile\":2,\"idaci_rank\":6043,\"idaci_score\":0.266},\"idaopi2015\":{\"idaopi_decile\":2,\"idaopi_rank\":5368,\"idaopi_score\":0.311},\"idaopi2019\":{\"idaopi_decile\":2,\"idaopi_rank\":5988,\"idaopi_score\":0.269},\"imd2015\":{\"imd_crime_decile\":1,\"imd_crime_rank\":689,\"imd_crime_score\":1.526,\"imd_decile\":2,\"imd_education_adults_decile\":2,\"imd_education_adults_rank\":4732,\"imd_education_adults_score\":0.435,\"imd_education_children_decile\":2,\"imd_education_children_rank\":4817,\"imd_education_children_score\":0.87,\"imd_education_decile\":2,\"imd_education_rank\":4659,\"imd_education_score\":42.675,\"imd_employment_decile\":3,\"imd_employment_rank\":6766,\"imd_employment_score\":0.175,\"imd_environment_decile\":3,\"imd_environment_indoors_decile\":4,\"imd_environment_indoors_rank\":11599,\"imd_environment_indoors_score\":0.334,\"imd_environment_outdoors_rank\":2,\"imd_environment_outdoors_score\":0.823,\"imd_environment_rank\":9187,\"imd_environment_score\":28.959,\"imd_health_decile\":3,\"imd_health_rank\":9588,\"imd_health_score\":0.482,\"imd_housing_decile\":2,\"imd_housing_geographical_decile\":10,\"imd_housing_geographical_rank\":31014,\"imd_housing_geographical_score\":-1.206,\"imd_housing_rank\":4877,\"imd_housing_score\":33.191,\"imd_housing_wider_decile\":1,\"imd_housing_wider_rank\":1535,\"imd_housing_wider_score\":4.485,\"imd_income_decile\":2,\"imd_income_rank\":3963,\"imd_income_score\":0.284,\"imd_rank\":3973,\"imd_score\":41.801},\"imd2019\":{\"imd_crime_decile\":1,\"imd_crime_rank\":1715,\"imd_crime_score\":1.309,\"imd_decile\":2,\"imd_education_adults_decile\":2,\"imd_education_adults_rank\":4732,\"imd_education_adults_score\":0.435,\"imd_education_children_decile\":3,\"imd_education_children_rank\":8285,\"imd_education_children_score\":0.545,\"imd_education_decile\":2,\"imd_education_rank\":6237,\"imd_education_score\":36.839,\"imd_employment_decile\":3,\"imd_employment_rank\":7393,\"imd_employment_score\":0.141,\"imd_environment_decile\":3,\"imd_environment_indoors_decile\":5,\"imd_environment_indoors_rank\":14489,\"imd_environment_indoors_score\":0.127,\"imd_environment_outdoors_rank\":2,\"imd_environment_outdoors_score\":1.086,\"imd_environment_rank\":9648,\"imd_environment_score\":28.534,\"imd_health_decile\":4,\"imd_health_rank\":11120,\"imd_health_score\":0.338,\"imd_housing_decile\":1,\"imd_housing_geographical_decile\":10,\"imd_housing_geographical_rank\":29882,\"imd_housing_geographical_score\":-1.011,\"imd_housing_rank\":1344,\"imd_housing_score\":43.432,\"imd_housing_wider_decile\":1,\"imd_housing_wider_rank\":407,\"imd_housing_wider_score\":5.82,\"imd_income_decile\":2,\"imd_income_rank\":5030,\"imd_income_score\":0.229,\"imd_rank\":4315,\"imd_score\":39.815},\"population2012\":{\"population_0_15\":378,\"population_16_59\":798,\"population_60_plus\":201,\"population_total\":1377,\"population_workingage\":796},\"population2015\":{\"population_0_15\":381,\"population_16_59\":784,\"population_60_plus\":190,\"population_total\":1355,\"population_workingage\":787}},\"statutory_instrument_id\":null,\"statutory_instrument_title\":null,\"successor\":[]},\"type\":\"Feature\"}],\"type\":\"FeatureCollection\"}\n",
      "\n"
     ]
    },
    {
     "name": "stderr",
     "output_type": "stream",
     "text": [
      "Skipping field alternative_names: unsupported OGR type: 5\n"
     ]
    },
    {
     "name": "stdout",
     "output_type": "stream",
     "text": [
      "{\"features\":[{\"geometry\":{\"coordinates\":[[[[0.152201124000044,51.53596771300005],[0.151802417000056,51.535455469000055],[0.152179771000021,51.535043743000074],[0.151593405000028,51.53439666300005],[0.150626054000043,51.53426629100005],[0.150212264000061,51.53489649200003],[0.151045940000074,51.535432325000045],[0.15052257900004,51.53575179200004],[0.149661339000033,51.53547442900003],[0.148702485000058,51.53580722400005],[0.148733091000054,51.537209156000074],[0.148268747000031,51.53752348900008],[0.148739963000025,51.538142968000045],[0.148229815000036,51.538523690000034],[0.148231086000067,51.53881909900008],[0.148206477000031,51.539359483000055],[0.147653750000075,51.53948741600004],[0.148169050000035,51.54023306700003],[0.15067451300007,51.54021368100007],[0.152989965000074,51.54007909000006],[0.152985063000074,51.539781332000075],[0.152932598000064,51.53890093600006],[0.152296920000026,51.53819937600008],[0.151250838000067,51.537688037000066],[0.151764019000041,51.53712124000003],[0.151159885000027,51.536217831000044],[0.152201124000044,51.53596771300005]]]],\"type\":\"MultiPolygon\"},\"properties\":{\"active\":true,\"alternative_names\":[\"Barking and Dagenham 013E\"],\"areachect\":14.53,\"areaehect\":14.53,\"areaihect\":0.0,\"arealhect\":14.53,\"child_count\":5,\"child_counts\":{\"oa21\":5},\"code\":\"E01000085\",\"date_end\":null,\"date_start\":\"Sun, 01 Feb 2004 00:00:00 GMT\",\"entity\":\"E01\",\"equivalents\":{},\"name\":\"Barking and Dagenham 013E\",\"name_welsh\":null,\"owner\":\"ONS\",\"parent\":\"E02000014\",\"predecessor\":[],\"sort_order\":\"E01000085\",\"stats\":{\"idaci2015\":{\"idaci_decile\":3,\"idaci_rank\":6902,\"idaci_score\":0.295},\"idaci2019\":{\"idaci_decile\":4,\"idaci_rank\":10257,\"idaci_score\":0.197},\"idaopi2015\":{\"idaopi_decile\":3,\"idaopi_rank\":7711,\"idaopi_score\":0.262},\"idaopi2019\":{\"idaopi_decile\":2,\"idaopi_rank\":4473,\"idaopi_score\":0.305},\"imd2015\":{\"imd_crime_decile\":1,\"imd_crime_rank\":2613,\"imd_crime_score\":1.099,\"imd_decile\":2,\"imd_education_adults_decile\":2,\"imd_education_adults_rank\":3787,\"imd_education_adults_score\":0.455,\"imd_education_children_decile\":4,\"imd_education_children_rank\":10761,\"imd_education_children_score\":0.355,\"imd_education_decile\":2,\"imd_education_rank\":6408,\"imd_education_score\":36.289,\"imd_employment_decile\":2,\"imd_employment_rank\":6419,\"imd_employment_score\":0.18,\"imd_environment_decile\":4,\"imd_environment_indoors_decile\":3,\"imd_environment_indoors_rank\":9617,\"imd_environment_indoors_score\":0.48,\"imd_environment_outdoors_rank\":3,\"imd_environment_outdoors_score\":0.45,\"imd_environment_rank\":9868,\"imd_environment_score\":27.669,\"imd_health_decile\":4,\"imd_health_rank\":10193,\"imd_health_score\":0.432,\"imd_housing_decile\":1,\"imd_housing_geographical_decile\":10,\"imd_housing_geographical_rank\":32199,\"imd_housing_geographical_score\":-1.531,\"imd_housing_rank\":1893,\"imd_housing_score\":40.876,\"imd_housing_wider_decile\":1,\"imd_housing_wider_rank\":541,\"imd_housing_wider_score\":5.402,\"imd_income_decile\":2,\"imd_income_rank\":5601,\"imd_income_score\":0.248,\"imd_rank\":4861,\"imd_score\":38.798},\"imd2019\":{\"imd_crime_decile\":1,\"imd_crime_rank\":3245,\"imd_crime_score\":1.036,\"imd_decile\":2,\"imd_education_adults_decile\":2,\"imd_education_adults_rank\":3787,\"imd_education_adults_score\":0.455,\"imd_education_children_decile\":4,\"imd_education_children_rank\":10790,\"imd_education_children_score\":0.347,\"imd_education_decile\":2,\"imd_education_rank\":6360,\"imd_education_score\":36.259,\"imd_employment_decile\":3,\"imd_employment_rank\":9203,\"imd_employment_score\":0.124,\"imd_environment_decile\":3,\"imd_environment_indoors_decile\":4,\"imd_environment_indoors_rank\":11722,\"imd_environment_indoors_score\":0.311,\"imd_environment_outdoors_rank\":1,\"imd_environment_outdoors_score\":1.156,\"imd_environment_rank\":7484,\"imd_environment_score\":32.465,\"imd_health_decile\":6,\"imd_health_rank\":19518,\"imd_health_score\":-0.227,\"imd_housing_decile\":1,\"imd_housing_geographical_decile\":10,\"imd_housing_geographical_rank\":31918,\"imd_housing_geographical_score\":-1.424,\"imd_housing_rank\":871,\"imd_housing_score\":46.139,\"imd_housing_wider_decile\":1,\"imd_housing_wider_rank\":190,\"imd_housing_wider_score\":6.327,\"imd_income_decile\":3,\"imd_income_rank\":7390,\"imd_income_score\":0.189,\"imd_rank\":5838,\"imd_score\":35.154},\"population2012\":{\"population_0_15\":484,\"population_16_59\":974,\"population_60_plus\":269,\"population_total\":1727,\"population_workingage\":980},\"population2015\":{\"population_0_15\":532,\"population_16_59\":1021,\"population_60_plus\":276,\"population_total\":1829,\"population_workingage\":1033}},\"statutory_instrument_id\":null,\"statutory_instrument_title\":null,\"successor\":[]},\"type\":\"Feature\"}],\"type\":\"FeatureCollection\"}\n",
      "\n"
     ]
    },
    {
     "name": "stderr",
     "output_type": "stream",
     "text": [
      "Skipping field alternative_names: unsupported OGR type: 5\n"
     ]
    },
    {
     "name": "stdout",
     "output_type": "stream",
     "text": [
      "{\"features\":[{\"geometry\":{\"coordinates\":[[[[0.148171496000032,51.53544621700007],[0.14904070700004,51.534906067000065],[0.150212264000061,51.53489649200003],[0.150626054000043,51.53426629100005],[0.151593405000028,51.53439666300005],[0.151643716000024,51.53411277300006],[0.154088848000072,51.53377271100004],[0.154586506000044,51.53374770100004],[0.154630523000037,51.53307296500003],[0.153393286000039,51.53304802900004],[0.153497537000021,51.53264058900004],[0.153025686000035,51.532581306000054],[0.153458303000036,51.53227658800006],[0.153775861000042,51.53061121400003],[0.15389641400003,51.530435183000066],[0.154344009000056,51.53067001100004],[0.154966006000052,51.53006698200005],[0.155320417000041,51.52987723900003],[0.155270443000063,51.529734259000065],[0.154689509000036,51.52932301300007],[0.153315042000031,51.52994974600006],[0.15287041800002,51.52962689000003],[0.148600189000035,51.52407863500008],[0.146467709000035,51.524273736000055],[0.147773135000023,51.529277283000056],[0.147822500000075,51.53170584900005],[0.14826942600007,51.53221958100005],[0.148244238000075,51.53281900500008],[0.148192965000021,51.533673125000064],[0.14816806400006,51.535292705000074],[0.148171496000032,51.53544621700007]]]],\"type\":\"MultiPolygon\"},\"properties\":{\"active\":true,\"alternative_names\":[\"Barking and Dagenham 020B\"],\"areachect\":37.25,\"areaehect\":37.25,\"areaihect\":0.0,\"arealhect\":37.25,\"child_count\":4,\"child_counts\":{\"oa21\":4},\"code\":\"E01000087\",\"date_end\":null,\"date_start\":\"Sun, 01 Feb 2004 00:00:00 GMT\",\"entity\":\"E01\",\"equivalents\":{},\"name\":\"Barking and Dagenham 020B\",\"name_welsh\":null,\"owner\":\"ONS\",\"parent\":\"E02000021\",\"predecessor\":[],\"sort_order\":\"E01000087\",\"stats\":{\"idaci2015\":{\"idaci_decile\":3,\"idaci_rank\":7331,\"idaci_score\":0.286},\"idaci2019\":{\"idaci_decile\":2,\"idaci_rank\":6195,\"idaci_score\":0.263},\"idaopi2015\":{\"idaopi_decile\":2,\"idaopi_rank\":4200,\"idaopi_score\":0.341},\"idaopi2019\":{\"idaopi_decile\":2,\"idaopi_rank\":5755,\"idaopi_score\":0.274},\"imd2015\":{\"imd_crime_decile\":4,\"imd_crime_rank\":11003,\"imd_crime_score\":0.358,\"imd_decile\":2,\"imd_education_adults_decile\":2,\"imd_education_adults_rank\":4871,\"imd_education_adults_score\":0.432,\"imd_education_children_decile\":5,\"imd_education_children_rank\":13666,\"imd_education_children_score\":0.161,\"imd_education_decile\":3,\"imd_education_rank\":8192,\"imd_education_score\":31.003,\"imd_employment_decile\":3,\"imd_employment_rank\":7836,\"imd_employment_score\":0.163,\"imd_environment_decile\":3,\"imd_environment_indoors_decile\":3,\"imd_environment_indoors_rank\":9074,\"imd_environment_indoors_score\":0.524,\"imd_environment_outdoors_rank\":3,\"imd_environment_outdoors_score\":0.531,\"imd_environment_rank\":8979,\"imd_environment_score\":29.363,\"imd_health_decile\":3,\"imd_health_rank\":7563,\"imd_health_score\":0.66,\"imd_housing_decile\":1,\"imd_housing_geographical_decile\":7,\"imd_housing_geographical_rank\":20523,\"imd_housing_geographical_score\":-0.272,\"imd_housing_rank\":3208,\"imd_housing_score\":36.841,\"imd_housing_wider_decile\":1,\"imd_housing_wider_rank\":1717,\"imd_housing_wider_score\":4.339,\"imd_income_decile\":2,\"imd_income_rank\":5611,\"imd_income_score\":0.248,\"imd_rank\":6382,\"imd_score\":34.381},\"imd2019\":{\"imd_crime_decile\":5,\"imd_crime_rank\":14563,\"imd_crime_score\":0.135,\"imd_decile\":2,\"imd_education_adults_decile\":2,\"imd_education_adults_rank\":4871,\"imd_education_adults_score\":0.432,\"imd_education_children_decile\":6,\"imd_education_children_rank\":19240,\"imd_education_children_score\":-0.19,\"imd_education_decile\":3,\"imd_education_rank\":9744,\"imd_education_score\":27.171,\"imd_employment_decile\":3,\"imd_employment_rank\":8331,\"imd_employment_score\":0.131,\"imd_environment_decile\":3,\"imd_environment_indoors_decile\":4,\"imd_environment_indoors_rank\":10899,\"imd_environment_indoors_score\":0.372,\"imd_environment_outdoors_rank\":2,\"imd_environment_outdoors_score\":0.968,\"imd_environment_rank\":8076,\"imd_environment_score\":31.357,\"imd_health_decile\":5,\"imd_health_rank\":15307,\"imd_health_score\":0.046,\"imd_housing_decile\":1,\"imd_housing_geographical_decile\":6,\"imd_housing_geographical_rank\":19396,\"imd_housing_geographical_score\":-0.209,\"imd_housing_rank\":506,\"imd_housing_score\":48.565,\"imd_housing_wider_decile\":1,\"imd_housing_wider_rank\":389,\"imd_housing_wider_score\":5.846,\"imd_income_decile\":2,\"imd_income_rank\":5212,\"imd_income_score\":0.226,\"imd_rank\":6122,\"imd_score\":34.357},\"population2012\":{\"population_0_15\":350,\"population_16_59\":848,\"population_60_plus\":179,\"population_total\":1377,\"population_workingage\":837},\"population2015\":{\"population_0_15\":378,\"population_16_59\":865,\"population_60_plus\":204,\"population_total\":1447,\"population_workingage\":879}},\"statutory_instrument_id\":null,\"statutory_instrument_title\":null,\"successor\":[]},\"type\":\"Feature\"}],\"type\":\"FeatureCollection\"}\n",
      "\n"
     ]
    },
    {
     "name": "stderr",
     "output_type": "stream",
     "text": [
      "Skipping field alternative_names: unsupported OGR type: 5\n"
     ]
    },
    {
     "name": "stdout",
     "output_type": "stream",
     "text": [
      "{\"features\":[{\"geometry\":{\"coordinates\":[[[[0.160723337000036,51.53307613800007],[0.159551509000039,51.53198948200003],[0.157129843000064,51.53246995000006],[0.156909900000073,51.532087293000075],[0.156382067000038,51.53212846200006],[0.156851244000052,51.532772831000045],[0.156164630000035,51.532793455000046],[0.155320417000041,51.52987723900003],[0.154966006000052,51.53006698200005],[0.154344009000056,51.53067001100004],[0.15389641400003,51.530435183000066],[0.153775861000042,51.53061121400003],[0.153458303000036,51.53227658800006],[0.153025686000035,51.532581306000054],[0.153497537000021,51.53264058900004],[0.153393286000039,51.53304802900004],[0.154630523000037,51.53307296500003],[0.154586506000044,51.53374770100004],[0.154088848000072,51.53377271100004],[0.151643716000024,51.53411277300006],[0.151593405000028,51.53439666300005],[0.152179771000021,51.535043743000074],[0.151802417000056,51.535455469000055],[0.152201124000044,51.53596771300005],[0.151159885000027,51.536217831000044],[0.151764019000041,51.53712124000003],[0.152946159000066,51.53743058100008],[0.152978467000025,51.53631777900006],[0.154275076000033,51.53629372000006],[0.155082943000025,51.53592574400005],[0.155631034000066,51.53572570600005],[0.15844725200003,51.53515487900006],[0.159002555000029,51.53479590200004],[0.158582771000056,51.53452224600005],[0.16065728600006,51.53319321200007],[0.160723337000036,51.53307613800007]]]],\"type\":\"MultiPolygon\"},\"properties\":{\"active\":true,\"alternative_names\":[\"Barking and Dagenham 020C\"],\"areachect\":22.64,\"areaehect\":22.64,\"areaihect\":0.0,\"arealhect\":22.64,\"child_count\":5,\"child_counts\":{\"oa21\":5},\"code\":\"E01000088\",\"date_end\":null,\"date_start\":\"Sun, 01 Feb 2004 00:00:00 GMT\",\"entity\":\"E01\",\"equivalents\":{},\"name\":\"Barking and Dagenham 020C\",\"name_welsh\":null,\"owner\":\"ONS\",\"parent\":\"E02000021\",\"predecessor\":[],\"sort_order\":\"E01000088\",\"stats\":{\"idaci2015\":{\"idaci_decile\":3,\"idaci_rank\":8706,\"idaci_score\":0.26},\"idaci2019\":{\"idaci_decile\":4,\"idaci_rank\":11795,\"idaci_score\":0.177},\"idaopi2015\":{\"idaopi_decile\":4,\"idaopi_rank\":11049,\"idaopi_score\":0.211},\"idaopi2019\":{\"idaopi_decile\":4,\"idaopi_rank\":11461,\"idaopi_score\":0.181},\"imd2015\":{\"imd_crime_decile\":3,\"imd_crime_rank\":7156,\"imd_crime_score\":0.638,\"imd_decile\":3,\"imd_education_adults_decile\":3,\"imd_education_adults_rank\":8349,\"imd_education_adults_score\":0.378,\"imd_education_children_decile\":5,\"imd_education_children_rank\":14078,\"imd_education_children_score\":0.137,\"imd_education_decile\":4,\"imd_education_rank\":10928,\"imd_education_score\":24.87,\"imd_employment_decile\":4,\"imd_employment_rank\":10305,\"imd_employment_score\":0.138,\"imd_environment_decile\":3,\"imd_environment_indoors_decile\":3,\"imd_environment_indoors_rank\":9523,\"imd_environment_indoors_score\":0.488,\"imd_environment_outdoors_rank\":2,\"imd_environment_outdoors_score\":0.943,\"imd_environment_rank\":7207,\"imd_environment_score\":33.36,\"imd_health_decile\":3,\"imd_health_rank\":8606,\"imd_health_score\":0.568,\"imd_housing_decile\":2,\"imd_housing_geographical_decile\":9,\"imd_housing_geographical_rank\":28295,\"imd_housing_geographical_score\":-0.836,\"imd_housing_rank\":4879,\"imd_housing_score\":33.191,\"imd_housing_wider_decile\":1,\"imd_housing_wider_rank\":1721,\"imd_housing_wider_score\":4.329,\"imd_income_decile\":3,\"imd_income_rank\":8654,\"imd_income_score\":0.196,\"imd_rank\":8154,\"imd_score\":30.196},\"imd2019\":{\"imd_crime_decile\":3,\"imd_crime_rank\":8365,\"imd_crime_score\":0.552,\"imd_decile\":3,\"imd_education_adults_decile\":3,\"imd_education_adults_rank\":8349,\"imd_education_adults_score\":0.378,\"imd_education_children_decile\":7,\"imd_education_children_rank\":21132,\"imd_education_children_score\":-0.311,\"imd_education_decile\":5,\"imd_education_rank\":13589,\"imd_education_score\":20.313,\"imd_employment_decile\":4,\"imd_employment_rank\":12495,\"imd_employment_score\":0.1,\"imd_environment_decile\":2,\"imd_environment_indoors_decile\":4,\"imd_environment_indoors_rank\":11152,\"imd_environment_indoors_score\":0.353,\"imd_environment_outdoors_rank\":1,\"imd_environment_outdoors_score\":1.268,\"imd_environment_rank\":6458,\"imd_environment_score\":34.525,\"imd_health_decile\":4,\"imd_health_rank\":12126,\"imd_health_score\":0.264,\"imd_housing_decile\":1,\"imd_housing_geographical_decile\":9,\"imd_housing_geographical_rank\":29079,\"imd_housing_geographical_score\":-0.913,\"imd_housing_rank\":1238,\"imd_housing_score\":44.005,\"imd_housing_wider_decile\":1,\"imd_housing_wider_rank\":388,\"imd_housing_wider_score\":5.848,\"imd_income_decile\":4,\"imd_income_rank\":10790,\"imd_income_score\":0.147,\"imd_rank\":8574,\"imd_score\":28.849},\"population2012\":{\"population_0_15\":496,\"population_16_59\":1101,\"population_60_plus\":308,\"population_total\":1905,\"population_workingage\":1094},\"population2015\":{\"population_0_15\":599,\"population_16_59\":1138,\"population_60_plus\":323,\"population_total\":2060,\"population_workingage\":1148}},\"statutory_instrument_id\":null,\"statutory_instrument_title\":null,\"successor\":[]},\"type\":\"Feature\"}],\"type\":\"FeatureCollection\"}\n",
      "\n"
     ]
    },
    {
     "name": "stderr",
     "output_type": "stream",
     "text": [
      "Skipping field alternative_names: unsupported OGR type: 5\n"
     ]
    },
    {
     "name": "stdout",
     "output_type": "stream",
     "text": [
      "{\"features\":[{\"geometry\":{\"coordinates\":[[[[0.156894535000049,51.53025727800008],[0.159041865000063,51.529505974000074],[0.160268410000072,51.53023588900004],[0.162516900000071,51.52778432900004],[0.162914373000035,51.52801407700008],[0.162695500000041,51.52833370500008],[0.16337750100007,51.52829905300007],[0.163880401000029,51.52918130000006],[0.163393724000059,51.52995031000006],[0.164000462000047,51.530116546000045],[0.166012533000071,51.52880064300007],[0.164981169000043,51.52752889200008],[0.164557688000059,51.52717307200004],[0.162318077000066,51.52194071800005],[0.158972135000056,51.51358623500005],[0.158694297000068,51.51224261100003],[0.158080107000046,51.51200536500005],[0.151713406000056,51.51274850600004],[0.146565251000027,51.514099086000044],[0.14648513000003,51.514418456000044],[0.145847081000056,51.51432382400003],[0.14507496300007,51.51462454600005],[0.145767558000045,51.51448418500007],[0.145506535000038,51.51514095400006],[0.144264373000055,51.51549999300005],[0.143744882000021,51.51505713000006],[0.143278209000073,51.51534923000003],[0.144741727000053,51.51676434900003],[0.146467709000035,51.524273736000055],[0.148600189000035,51.52407863500008],[0.15287041800002,51.52962689000003],[0.153315042000031,51.52994974600006],[0.154689509000036,51.52932301300007],[0.155270443000063,51.529734259000065],[0.155320417000041,51.52987723900003],[0.156164630000035,51.532793455000046],[0.156851244000052,51.532772831000045],[0.156382067000038,51.53212846200006],[0.15625142600004,51.53143746900008],[0.156788929000072,51.53135783500005],[0.156894535000049,51.53025727800008]]]],\"type\":\"MultiPolygon\"},\"properties\":{\"active\":true,\"alternative_names\":[\"Barking and Dagenham 020E\"],\"areachect\":195.51,\"areaehect\":237.17,\"areaihect\":0.0,\"arealhect\":195.51,\"child_count\":4,\"child_counts\":{\"oa21\":4},\"code\":\"E01000090\",\"date_end\":null,\"date_start\":\"Sun, 01 Feb 2004 00:00:00 GMT\",\"entity\":\"E01\",\"equivalents\":{},\"name\":\"Barking and Dagenham 020E\",\"name_welsh\":null,\"owner\":\"ONS\",\"parent\":\"E02000021\",\"predecessor\":[],\"sort_order\":\"E01000090\",\"stats\":{\"idaci2015\":{\"idaci_decile\":2,\"idaci_rank\":6444,\"idaci_score\":0.304},\"idaci2019\":{\"idaci_decile\":3,\"idaci_rank\":6899,\"idaci_score\":0.25},\"idaopi2015\":{\"idaopi_decile\":4,\"idaopi_rank\":11828,\"idaopi_score\":0.201},\"idaopi2019\":{\"idaopi_decile\":4,\"idaopi_rank\":13059,\"idaopi_score\":0.161},\"imd2015\":{\"imd_crime_decile\":1,\"imd_crime_rank\":1899,\"imd_crime_score\":1.211,\"imd_decile\":3,\"imd_education_adults_decile\":3,\"imd_education_adults_rank\":8068,\"imd_education_adults_score\":0.382,\"imd_education_children_decile\":6,\"imd_education_children_rank\":18201,\"imd_education_children_score\":-0.121,\"imd_education_decile\":4,\"imd_education_rank\":12277,\"imd_education_score\":22.368,\"imd_employment_decile\":4,\"imd_employment_rank\":10934,\"imd_employment_score\":0.133,\"imd_environment_decile\":4,\"imd_environment_indoors_decile\":4,\"imd_environment_indoors_rank\":11859,\"imd_environment_indoors_score\":0.315,\"imd_environment_outdoors_rank\":4,\"imd_environment_outdoors_score\":0.368,\"imd_environment_rank\":12124,\"imd_environment_score\":23.777,\"imd_health_decile\":6,\"imd_health_rank\":19228,\"imd_health_score\":-0.209,\"imd_housing_decile\":1,\"imd_housing_geographical_decile\":6,\"imd_housing_geographical_rank\":16997,\"imd_housing_geographical_score\":-0.071,\"imd_housing_rank\":2635,\"imd_housing_score\":38.354,\"imd_housing_wider_decile\":1,\"imd_housing_wider_rank\":1833,\"imd_housing_wider_score\":4.249,\"imd_income_decile\":3,\"imd_income_rank\":7219,\"imd_income_score\":0.218,\"imd_rank\":7920,\"imd_score\":30.667},\"imd2019\":{\"imd_crime_decile\":2,\"imd_crime_rank\":6503,\"imd_crime_score\":0.7,\"imd_decile\":3,\"imd_education_adults_decile\":3,\"imd_education_adults_rank\":8068,\"imd_education_adults_score\":0.382,\"imd_education_children_decile\":6,\"imd_education_children_rank\":18766,\"imd_education_children_score\":-0.161,\"imd_education_decile\":4,\"imd_education_rank\":12523,\"imd_education_score\":22.024,\"imd_employment_decile\":5,\"imd_employment_rank\":14060,\"imd_employment_score\":0.091,\"imd_environment_decile\":3,\"imd_environment_indoors_decile\":5,\"imd_environment_indoors_rank\":13462,\"imd_environment_indoors_score\":0.19,\"imd_environment_outdoors_rank\":2,\"imd_environment_outdoors_score\":1.071,\"imd_environment_rank\":9116,\"imd_environment_score\":29.464,\"imd_health_decile\":6,\"imd_health_rank\":18942,\"imd_health_score\":-0.187,\"imd_housing_decile\":1,\"imd_housing_geographical_decile\":8,\"imd_housing_geographical_rank\":23410,\"imd_housing_geographical_score\":-0.458,\"imd_housing_rank\":973,\"imd_housing_score\":45.475,\"imd_housing_wider_decile\":1,\"imd_housing_wider_rank\":461,\"imd_housing_wider_score\":5.7,\"imd_income_decile\":3,\"imd_income_rank\":8855,\"imd_income_score\":0.169,\"imd_rank\":8873,\"imd_score\":28.317},\"population2012\":{\"population_0_15\":459,\"population_16_59\":948,\"population_60_plus\":195,\"population_total\":1602,\"population_workingage\":934},\"population2015\":{\"population_0_15\":483,\"population_16_59\":1008,\"population_60_plus\":192,\"population_total\":1683,\"population_workingage\":991}},\"statutory_instrument_id\":null,\"statutory_instrument_title\":null,\"successor\":[]},\"type\":\"Feature\"}],\"type\":\"FeatureCollection\"}\n",
      "\n"
     ]
    },
    {
     "name": "stderr",
     "output_type": "stream",
     "text": [
      "Skipping field alternative_names: unsupported OGR type: 5\n"
     ]
    },
    {
     "name": "stdout",
     "output_type": "stream",
     "text": [
      "{\"features\":[{\"geometry\":{\"coordinates\":[[[[0.106713134000074,51.531302346000075],[0.106773573000055,51.530400764000035],[0.105194515000051,51.53062659900007],[0.105098167000051,51.52967170000005],[0.104587066000022,51.529647529000044],[0.104506814000047,51.529241873000046],[0.105053703000067,51.52915599100004],[0.105316029000051,51.528591824000046],[0.106685408000033,51.52846982800003],[0.106600036000032,51.52750008800007],[0.105919724000046,51.52669432500005],[0.104934043000071,51.52614061000003],[0.103827237000075,51.52618615500006],[0.102583544000026,51.527425264000044],[0.099284917000034,51.527124137000044],[0.099439527000072,51.52668875900008],[0.098779467000043,51.52630026600008],[0.098146129000042,51.52692469900006],[0.09729797600005,51.52675049800007],[0.096795741000051,51.52712125800008],[0.097128921000035,51.527388433000056],[0.09653632900006,51.52735776600008],[0.096410233000029,51.52768101000004],[0.097250883000072,51.527818522000075],[0.097605422000072,51.52828083700007],[0.096992127000021,51.52851946200008],[0.101694327000075,51.529114880000066],[0.101697324000042,51.52911779400006],[0.100949593000053,51.53000012700005],[0.099751753000021,51.529945895000026],[0.098864945000059,51.53026057300008],[0.098547604000032,51.531122624000034],[0.100649910000072,51.53148442100007],[0.10368199200002,51.53204870600007],[0.108587967000062,51.532769966000046],[0.106713134000074,51.531302346000075]]]],\"type\":\"MultiPolygon\"},\"properties\":{\"active\":true,\"alternative_names\":[\"Barking and Dagenham 022B\"],\"areachect\":29.38,\"areaehect\":29.38,\"areaihect\":0.0,\"arealhect\":29.38,\"child_count\":5,\"child_counts\":{\"oa21\":5},\"code\":\"E01000093\",\"date_end\":null,\"date_start\":\"Sun, 01 Feb 2004 00:00:00 GMT\",\"entity\":\"E01\",\"equivalents\":{},\"name\":\"Barking and Dagenham 022B\",\"name_welsh\":null,\"owner\":\"ONS\",\"parent\":\"E02000023\",\"predecessor\":[],\"sort_order\":\"E01000093\",\"stats\":{\"idaci2015\":{\"idaci_decile\":2,\"idaci_rank\":4105,\"idaci_score\":0.363},\"idaci2019\":{\"idaci_decile\":2,\"idaci_rank\":3607,\"idaci_score\":0.32},\"idaopi2015\":{\"idaopi_decile\":1,\"idaopi_rank\":3117,\"idaopi_score\":0.374},\"idaopi2019\":{\"idaopi_decile\":2,\"idaopi_rank\":3602,\"idaopi_score\":0.33},\"imd2015\":{\"imd_crime_decile\":1,\"imd_crime_rank\":1506,\"imd_crime_score\":1.289,\"imd_decile\":1,\"imd_education_adults_decile\":3,\"imd_education_adults_rank\":7427,\"imd_education_adults_score\":0.391,\"imd_education_children_decile\":3,\"imd_education_children_rank\":9119,\"imd_education_children_score\":0.475,\"imd_education_decile\":3,\"imd_education_rank\":8216,\"imd_education_score\":30.957,\"imd_employment_decile\":2,\"imd_employment_rank\":3646,\"imd_employment_score\":0.224,\"imd_environment_decile\":4,\"imd_environment_indoors_decile\":5,\"imd_environment_indoors_rank\":16060,\"imd_environment_indoors_score\":0.032,\"imd_environment_outdoors_rank\":2,\"imd_environment_outdoors_score\":0.933,\"imd_environment_rank\":11085,\"imd_environment_score\":25.505,\"imd_health_decile\":2,\"imd_health_rank\":6327,\"imd_health_score\":0.776,\"imd_housing_decile\":1,\"imd_housing_geographical_decile\":10,\"imd_housing_geographical_rank\":31238,\"imd_housing_geographical_score\":-1.247,\"imd_housing_rank\":2272,\"imd_housing_score\":39.444,\"imd_housing_wider_decile\":1,\"imd_housing_wider_rank\":703,\"imd_housing_wider_score\":5.237,\"imd_income_decile\":1,\"imd_income_rank\":3200,\"imd_income_score\":0.304,\"imd_rank\":3154,\"imd_score\":45.193},\"imd2019\":{\"imd_crime_decile\":1,\"imd_crime_rank\":2977,\"imd_crime_score\":1.073,\"imd_decile\":1,\"imd_education_adults_decile\":3,\"imd_education_adults_rank\":7427,\"imd_education_adults_score\":0.391,\"imd_education_children_decile\":4,\"imd_education_children_rank\":11967,\"imd_education_children_score\":0.263,\"imd_education_decile\":3,\"imd_education_rank\":9411,\"imd_education_score\":27.955,\"imd_employment_decile\":2,\"imd_employment_rank\":5065,\"imd_employment_score\":0.169,\"imd_environment_decile\":1,\"imd_environment_indoors_decile\":3,\"imd_environment_indoors_rank\":7927,\"imd_environment_indoors_score\":0.601,\"imd_environment_outdoors_rank\":1,\"imd_environment_outdoors_score\":1.582,\"imd_environment_rank\":3282,\"imd_environment_score\":43.57,\"imd_health_decile\":2,\"imd_health_rank\":5519,\"imd_health_score\":0.842,\"imd_housing_decile\":1,\"imd_housing_geographical_decile\":10,\"imd_housing_geographical_rank\":30284,\"imd_housing_geographical_score\":-1.069,\"imd_housing_rank\":370,\"imd_housing_score\":49.657,\"imd_housing_wider_decile\":1,\"imd_housing_wider_rank\":51,\"imd_housing_wider_score\":6.797,\"imd_income_decile\":2,\"imd_income_rank\":3596,\"imd_income_score\":0.26,\"imd_rank\":2669,\"imd_score\":46.922},\"population2012\":{\"population_0_15\":465,\"population_16_59\":996,\"population_60_plus\":172,\"population_total\":1633,\"population_workingage\":989},\"population2015\":{\"population_0_15\":504,\"population_16_59\":1058,\"population_60_plus\":157,\"population_total\":1719,\"population_workingage\":1058}},\"statutory_instrument_id\":null,\"statutory_instrument_title\":null,\"successor\":[]},\"type\":\"Feature\"}],\"type\":\"FeatureCollection\"}\n",
      "\n"
     ]
    },
    {
     "ename": "KeyboardInterrupt",
     "evalue": "",
     "output_type": "error",
     "traceback": [
      "\u001b[1;31m---------------------------------------------------------------------------\u001b[0m",
      "\u001b[1;31mKeyboardInterrupt\u001b[0m                         Traceback (most recent call last)",
      "Cell \u001b[1;32mIn[6], line 6\u001b[0m\n\u001b[0;32m      4\u001b[0m \u001b[38;5;28;01mfor\u001b[39;00m code \u001b[38;5;129;01min\u001b[39;00m stats_df[\u001b[38;5;124m'\u001b[39m\u001b[38;5;124mLSOA Code\u001b[39m\u001b[38;5;124m'\u001b[39m]\u001b[38;5;241m.\u001b[39munique():\n\u001b[0;32m      5\u001b[0m     api_url \u001b[38;5;241m=\u001b[39m \u001b[38;5;124mf\u001b[39m\u001b[38;5;124m'\u001b[39m\u001b[38;5;124mhttps://findthatpostcode.uk/areas/\u001b[39m\u001b[38;5;132;01m{\u001b[39;00mcode\u001b[38;5;132;01m}\u001b[39;00m\u001b[38;5;124m.geojson\u001b[39m\u001b[38;5;124m'\u001b[39m\n\u001b[1;32m----> 6\u001b[0m     response \u001b[38;5;241m=\u001b[39m \u001b[43mrequests\u001b[49m\u001b[38;5;241;43m.\u001b[39;49m\u001b[43mget\u001b[49m\u001b[43m(\u001b[49m\u001b[43mapi_url\u001b[49m\u001b[43m)\u001b[49m\n\u001b[0;32m      7\u001b[0m     \u001b[38;5;28mprint\u001b[39m(response\u001b[38;5;241m.\u001b[39mtext)\n\u001b[0;32m      9\u001b[0m     \u001b[38;5;28;01mif\u001b[39;00m response\u001b[38;5;241m.\u001b[39mstatus_code \u001b[38;5;241m==\u001b[39m \u001b[38;5;241m200\u001b[39m:\n",
      "File \u001b[1;32m~\\AppData\\Local\\Packages\\PythonSoftwareFoundation.Python.3.11_qbz5n2kfra8p0\\LocalCache\\local-packages\\Python311\\site-packages\\requests\\api.py:73\u001b[0m, in \u001b[0;36mget\u001b[1;34m(url, params, **kwargs)\u001b[0m\n\u001b[0;32m     62\u001b[0m \u001b[38;5;28;01mdef\u001b[39;00m \u001b[38;5;21mget\u001b[39m(url, params\u001b[38;5;241m=\u001b[39m\u001b[38;5;28;01mNone\u001b[39;00m, \u001b[38;5;241m*\u001b[39m\u001b[38;5;241m*\u001b[39mkwargs):\n\u001b[0;32m     63\u001b[0m \u001b[38;5;250m    \u001b[39m\u001b[38;5;124mr\u001b[39m\u001b[38;5;124;03m\"\"\"Sends a GET request.\u001b[39;00m\n\u001b[0;32m     64\u001b[0m \n\u001b[0;32m     65\u001b[0m \u001b[38;5;124;03m    :param url: URL for the new :class:`Request` object.\u001b[39;00m\n\u001b[1;32m   (...)\u001b[0m\n\u001b[0;32m     70\u001b[0m \u001b[38;5;124;03m    :rtype: requests.Response\u001b[39;00m\n\u001b[0;32m     71\u001b[0m \u001b[38;5;124;03m    \"\"\"\u001b[39;00m\n\u001b[1;32m---> 73\u001b[0m     \u001b[38;5;28;01mreturn\u001b[39;00m \u001b[43mrequest\u001b[49m\u001b[43m(\u001b[49m\u001b[38;5;124;43m\"\u001b[39;49m\u001b[38;5;124;43mget\u001b[39;49m\u001b[38;5;124;43m\"\u001b[39;49m\u001b[43m,\u001b[49m\u001b[43m \u001b[49m\u001b[43murl\u001b[49m\u001b[43m,\u001b[49m\u001b[43m \u001b[49m\u001b[43mparams\u001b[49m\u001b[38;5;241;43m=\u001b[39;49m\u001b[43mparams\u001b[49m\u001b[43m,\u001b[49m\u001b[43m \u001b[49m\u001b[38;5;241;43m*\u001b[39;49m\u001b[38;5;241;43m*\u001b[39;49m\u001b[43mkwargs\u001b[49m\u001b[43m)\u001b[49m\n",
      "File \u001b[1;32m~\\AppData\\Local\\Packages\\PythonSoftwareFoundation.Python.3.11_qbz5n2kfra8p0\\LocalCache\\local-packages\\Python311\\site-packages\\requests\\api.py:59\u001b[0m, in \u001b[0;36mrequest\u001b[1;34m(method, url, **kwargs)\u001b[0m\n\u001b[0;32m     55\u001b[0m \u001b[38;5;66;03m# By using the 'with' statement we are sure the session is closed, thus we\u001b[39;00m\n\u001b[0;32m     56\u001b[0m \u001b[38;5;66;03m# avoid leaving sockets open which can trigger a ResourceWarning in some\u001b[39;00m\n\u001b[0;32m     57\u001b[0m \u001b[38;5;66;03m# cases, and look like a memory leak in others.\u001b[39;00m\n\u001b[0;32m     58\u001b[0m \u001b[38;5;28;01mwith\u001b[39;00m sessions\u001b[38;5;241m.\u001b[39mSession() \u001b[38;5;28;01mas\u001b[39;00m session:\n\u001b[1;32m---> 59\u001b[0m     \u001b[38;5;28;01mreturn\u001b[39;00m \u001b[43msession\u001b[49m\u001b[38;5;241;43m.\u001b[39;49m\u001b[43mrequest\u001b[49m\u001b[43m(\u001b[49m\u001b[43mmethod\u001b[49m\u001b[38;5;241;43m=\u001b[39;49m\u001b[43mmethod\u001b[49m\u001b[43m,\u001b[49m\u001b[43m \u001b[49m\u001b[43murl\u001b[49m\u001b[38;5;241;43m=\u001b[39;49m\u001b[43murl\u001b[49m\u001b[43m,\u001b[49m\u001b[43m \u001b[49m\u001b[38;5;241;43m*\u001b[39;49m\u001b[38;5;241;43m*\u001b[39;49m\u001b[43mkwargs\u001b[49m\u001b[43m)\u001b[49m\n",
      "File \u001b[1;32m~\\AppData\\Local\\Packages\\PythonSoftwareFoundation.Python.3.11_qbz5n2kfra8p0\\LocalCache\\local-packages\\Python311\\site-packages\\requests\\sessions.py:589\u001b[0m, in \u001b[0;36mSession.request\u001b[1;34m(self, method, url, params, data, headers, cookies, files, auth, timeout, allow_redirects, proxies, hooks, stream, verify, cert, json)\u001b[0m\n\u001b[0;32m    584\u001b[0m send_kwargs \u001b[38;5;241m=\u001b[39m {\n\u001b[0;32m    585\u001b[0m     \u001b[38;5;124m\"\u001b[39m\u001b[38;5;124mtimeout\u001b[39m\u001b[38;5;124m\"\u001b[39m: timeout,\n\u001b[0;32m    586\u001b[0m     \u001b[38;5;124m\"\u001b[39m\u001b[38;5;124mallow_redirects\u001b[39m\u001b[38;5;124m\"\u001b[39m: allow_redirects,\n\u001b[0;32m    587\u001b[0m }\n\u001b[0;32m    588\u001b[0m send_kwargs\u001b[38;5;241m.\u001b[39mupdate(settings)\n\u001b[1;32m--> 589\u001b[0m resp \u001b[38;5;241m=\u001b[39m \u001b[38;5;28;43mself\u001b[39;49m\u001b[38;5;241;43m.\u001b[39;49m\u001b[43msend\u001b[49m\u001b[43m(\u001b[49m\u001b[43mprep\u001b[49m\u001b[43m,\u001b[49m\u001b[43m \u001b[49m\u001b[38;5;241;43m*\u001b[39;49m\u001b[38;5;241;43m*\u001b[39;49m\u001b[43msend_kwargs\u001b[49m\u001b[43m)\u001b[49m\n\u001b[0;32m    591\u001b[0m \u001b[38;5;28;01mreturn\u001b[39;00m resp\n",
      "File \u001b[1;32m~\\AppData\\Local\\Packages\\PythonSoftwareFoundation.Python.3.11_qbz5n2kfra8p0\\LocalCache\\local-packages\\Python311\\site-packages\\requests\\sessions.py:703\u001b[0m, in \u001b[0;36mSession.send\u001b[1;34m(self, request, **kwargs)\u001b[0m\n\u001b[0;32m    700\u001b[0m start \u001b[38;5;241m=\u001b[39m preferred_clock()\n\u001b[0;32m    702\u001b[0m \u001b[38;5;66;03m# Send the request\u001b[39;00m\n\u001b[1;32m--> 703\u001b[0m r \u001b[38;5;241m=\u001b[39m \u001b[43madapter\u001b[49m\u001b[38;5;241;43m.\u001b[39;49m\u001b[43msend\u001b[49m\u001b[43m(\u001b[49m\u001b[43mrequest\u001b[49m\u001b[43m,\u001b[49m\u001b[43m \u001b[49m\u001b[38;5;241;43m*\u001b[39;49m\u001b[38;5;241;43m*\u001b[39;49m\u001b[43mkwargs\u001b[49m\u001b[43m)\u001b[49m\n\u001b[0;32m    705\u001b[0m \u001b[38;5;66;03m# Total elapsed time of the request (approximately)\u001b[39;00m\n\u001b[0;32m    706\u001b[0m elapsed \u001b[38;5;241m=\u001b[39m preferred_clock() \u001b[38;5;241m-\u001b[39m start\n",
      "File \u001b[1;32m~\\AppData\\Local\\Packages\\PythonSoftwareFoundation.Python.3.11_qbz5n2kfra8p0\\LocalCache\\local-packages\\Python311\\site-packages\\requests\\adapters.py:486\u001b[0m, in \u001b[0;36mHTTPAdapter.send\u001b[1;34m(self, request, stream, timeout, verify, cert, proxies)\u001b[0m\n\u001b[0;32m    483\u001b[0m     timeout \u001b[38;5;241m=\u001b[39m TimeoutSauce(connect\u001b[38;5;241m=\u001b[39mtimeout, read\u001b[38;5;241m=\u001b[39mtimeout)\n\u001b[0;32m    485\u001b[0m \u001b[38;5;28;01mtry\u001b[39;00m:\n\u001b[1;32m--> 486\u001b[0m     resp \u001b[38;5;241m=\u001b[39m \u001b[43mconn\u001b[49m\u001b[38;5;241;43m.\u001b[39;49m\u001b[43murlopen\u001b[49m\u001b[43m(\u001b[49m\n\u001b[0;32m    487\u001b[0m \u001b[43m        \u001b[49m\u001b[43mmethod\u001b[49m\u001b[38;5;241;43m=\u001b[39;49m\u001b[43mrequest\u001b[49m\u001b[38;5;241;43m.\u001b[39;49m\u001b[43mmethod\u001b[49m\u001b[43m,\u001b[49m\n\u001b[0;32m    488\u001b[0m \u001b[43m        \u001b[49m\u001b[43murl\u001b[49m\u001b[38;5;241;43m=\u001b[39;49m\u001b[43murl\u001b[49m\u001b[43m,\u001b[49m\n\u001b[0;32m    489\u001b[0m \u001b[43m        \u001b[49m\u001b[43mbody\u001b[49m\u001b[38;5;241;43m=\u001b[39;49m\u001b[43mrequest\u001b[49m\u001b[38;5;241;43m.\u001b[39;49m\u001b[43mbody\u001b[49m\u001b[43m,\u001b[49m\n\u001b[0;32m    490\u001b[0m \u001b[43m        \u001b[49m\u001b[43mheaders\u001b[49m\u001b[38;5;241;43m=\u001b[39;49m\u001b[43mrequest\u001b[49m\u001b[38;5;241;43m.\u001b[39;49m\u001b[43mheaders\u001b[49m\u001b[43m,\u001b[49m\n\u001b[0;32m    491\u001b[0m \u001b[43m        \u001b[49m\u001b[43mredirect\u001b[49m\u001b[38;5;241;43m=\u001b[39;49m\u001b[38;5;28;43;01mFalse\u001b[39;49;00m\u001b[43m,\u001b[49m\n\u001b[0;32m    492\u001b[0m \u001b[43m        \u001b[49m\u001b[43massert_same_host\u001b[49m\u001b[38;5;241;43m=\u001b[39;49m\u001b[38;5;28;43;01mFalse\u001b[39;49;00m\u001b[43m,\u001b[49m\n\u001b[0;32m    493\u001b[0m \u001b[43m        \u001b[49m\u001b[43mpreload_content\u001b[49m\u001b[38;5;241;43m=\u001b[39;49m\u001b[38;5;28;43;01mFalse\u001b[39;49;00m\u001b[43m,\u001b[49m\n\u001b[0;32m    494\u001b[0m \u001b[43m        \u001b[49m\u001b[43mdecode_content\u001b[49m\u001b[38;5;241;43m=\u001b[39;49m\u001b[38;5;28;43;01mFalse\u001b[39;49;00m\u001b[43m,\u001b[49m\n\u001b[0;32m    495\u001b[0m \u001b[43m        \u001b[49m\u001b[43mretries\u001b[49m\u001b[38;5;241;43m=\u001b[39;49m\u001b[38;5;28;43mself\u001b[39;49m\u001b[38;5;241;43m.\u001b[39;49m\u001b[43mmax_retries\u001b[49m\u001b[43m,\u001b[49m\n\u001b[0;32m    496\u001b[0m \u001b[43m        \u001b[49m\u001b[43mtimeout\u001b[49m\u001b[38;5;241;43m=\u001b[39;49m\u001b[43mtimeout\u001b[49m\u001b[43m,\u001b[49m\n\u001b[0;32m    497\u001b[0m \u001b[43m        \u001b[49m\u001b[43mchunked\u001b[49m\u001b[38;5;241;43m=\u001b[39;49m\u001b[43mchunked\u001b[49m\u001b[43m,\u001b[49m\n\u001b[0;32m    498\u001b[0m \u001b[43m    \u001b[49m\u001b[43m)\u001b[49m\n\u001b[0;32m    500\u001b[0m \u001b[38;5;28;01mexcept\u001b[39;00m (ProtocolError, \u001b[38;5;167;01mOSError\u001b[39;00m) \u001b[38;5;28;01mas\u001b[39;00m err:\n\u001b[0;32m    501\u001b[0m     \u001b[38;5;28;01mraise\u001b[39;00m \u001b[38;5;167;01mConnectionError\u001b[39;00m(err, request\u001b[38;5;241m=\u001b[39mrequest)\n",
      "File \u001b[1;32m~\\AppData\\Local\\Packages\\PythonSoftwareFoundation.Python.3.11_qbz5n2kfra8p0\\LocalCache\\local-packages\\Python311\\site-packages\\urllib3\\connectionpool.py:699\u001b[0m, in \u001b[0;36mHTTPConnectionPool.urlopen\u001b[1;34m(self, method, url, body, headers, retries, redirect, assert_same_host, timeout, pool_timeout, release_conn, chunked, body_pos, **response_kw)\u001b[0m\n\u001b[0;32m    696\u001b[0m     \u001b[38;5;28mself\u001b[39m\u001b[38;5;241m.\u001b[39m_prepare_proxy(conn)\n\u001b[0;32m    698\u001b[0m \u001b[38;5;66;03m# Make the request on the httplib connection object.\u001b[39;00m\n\u001b[1;32m--> 699\u001b[0m httplib_response \u001b[38;5;241m=\u001b[39m \u001b[38;5;28;43mself\u001b[39;49m\u001b[38;5;241;43m.\u001b[39;49m\u001b[43m_make_request\u001b[49m\u001b[43m(\u001b[49m\n\u001b[0;32m    700\u001b[0m \u001b[43m    \u001b[49m\u001b[43mconn\u001b[49m\u001b[43m,\u001b[49m\n\u001b[0;32m    701\u001b[0m \u001b[43m    \u001b[49m\u001b[43mmethod\u001b[49m\u001b[43m,\u001b[49m\n\u001b[0;32m    702\u001b[0m \u001b[43m    \u001b[49m\u001b[43murl\u001b[49m\u001b[43m,\u001b[49m\n\u001b[0;32m    703\u001b[0m \u001b[43m    \u001b[49m\u001b[43mtimeout\u001b[49m\u001b[38;5;241;43m=\u001b[39;49m\u001b[43mtimeout_obj\u001b[49m\u001b[43m,\u001b[49m\n\u001b[0;32m    704\u001b[0m \u001b[43m    \u001b[49m\u001b[43mbody\u001b[49m\u001b[38;5;241;43m=\u001b[39;49m\u001b[43mbody\u001b[49m\u001b[43m,\u001b[49m\n\u001b[0;32m    705\u001b[0m \u001b[43m    \u001b[49m\u001b[43mheaders\u001b[49m\u001b[38;5;241;43m=\u001b[39;49m\u001b[43mheaders\u001b[49m\u001b[43m,\u001b[49m\n\u001b[0;32m    706\u001b[0m \u001b[43m    \u001b[49m\u001b[43mchunked\u001b[49m\u001b[38;5;241;43m=\u001b[39;49m\u001b[43mchunked\u001b[49m\u001b[43m,\u001b[49m\n\u001b[0;32m    707\u001b[0m \u001b[43m\u001b[49m\u001b[43m)\u001b[49m\n\u001b[0;32m    709\u001b[0m \u001b[38;5;66;03m# If we're going to release the connection in ``finally:``, then\u001b[39;00m\n\u001b[0;32m    710\u001b[0m \u001b[38;5;66;03m# the response doesn't need to know about the connection. Otherwise\u001b[39;00m\n\u001b[0;32m    711\u001b[0m \u001b[38;5;66;03m# it will also try to release it and we'll have a double-release\u001b[39;00m\n\u001b[0;32m    712\u001b[0m \u001b[38;5;66;03m# mess.\u001b[39;00m\n\u001b[0;32m    713\u001b[0m response_conn \u001b[38;5;241m=\u001b[39m conn \u001b[38;5;28;01mif\u001b[39;00m \u001b[38;5;129;01mnot\u001b[39;00m release_conn \u001b[38;5;28;01melse\u001b[39;00m \u001b[38;5;28;01mNone\u001b[39;00m\n",
      "File \u001b[1;32m~\\AppData\\Local\\Packages\\PythonSoftwareFoundation.Python.3.11_qbz5n2kfra8p0\\LocalCache\\local-packages\\Python311\\site-packages\\urllib3\\connectionpool.py:382\u001b[0m, in \u001b[0;36mHTTPConnectionPool._make_request\u001b[1;34m(self, conn, method, url, timeout, chunked, **httplib_request_kw)\u001b[0m\n\u001b[0;32m    380\u001b[0m \u001b[38;5;66;03m# Trigger any extra validation we need to do.\u001b[39;00m\n\u001b[0;32m    381\u001b[0m \u001b[38;5;28;01mtry\u001b[39;00m:\n\u001b[1;32m--> 382\u001b[0m     \u001b[38;5;28;43mself\u001b[39;49m\u001b[38;5;241;43m.\u001b[39;49m\u001b[43m_validate_conn\u001b[49m\u001b[43m(\u001b[49m\u001b[43mconn\u001b[49m\u001b[43m)\u001b[49m\n\u001b[0;32m    383\u001b[0m \u001b[38;5;28;01mexcept\u001b[39;00m (SocketTimeout, BaseSSLError) \u001b[38;5;28;01mas\u001b[39;00m e:\n\u001b[0;32m    384\u001b[0m     \u001b[38;5;66;03m# Py2 raises this as a BaseSSLError, Py3 raises it as socket timeout.\u001b[39;00m\n\u001b[0;32m    385\u001b[0m     \u001b[38;5;28mself\u001b[39m\u001b[38;5;241m.\u001b[39m_raise_timeout(err\u001b[38;5;241m=\u001b[39me, url\u001b[38;5;241m=\u001b[39murl, timeout_value\u001b[38;5;241m=\u001b[39mconn\u001b[38;5;241m.\u001b[39mtimeout)\n",
      "File \u001b[1;32m~\\AppData\\Local\\Packages\\PythonSoftwareFoundation.Python.3.11_qbz5n2kfra8p0\\LocalCache\\local-packages\\Python311\\site-packages\\urllib3\\connectionpool.py:1010\u001b[0m, in \u001b[0;36mHTTPSConnectionPool._validate_conn\u001b[1;34m(self, conn)\u001b[0m\n\u001b[0;32m   1008\u001b[0m \u001b[38;5;66;03m# Force connect early to allow us to validate the connection.\u001b[39;00m\n\u001b[0;32m   1009\u001b[0m \u001b[38;5;28;01mif\u001b[39;00m \u001b[38;5;129;01mnot\u001b[39;00m \u001b[38;5;28mgetattr\u001b[39m(conn, \u001b[38;5;124m\"\u001b[39m\u001b[38;5;124msock\u001b[39m\u001b[38;5;124m\"\u001b[39m, \u001b[38;5;28;01mNone\u001b[39;00m):  \u001b[38;5;66;03m# AppEngine might not have  `.sock`\u001b[39;00m\n\u001b[1;32m-> 1010\u001b[0m     \u001b[43mconn\u001b[49m\u001b[38;5;241;43m.\u001b[39;49m\u001b[43mconnect\u001b[49m\u001b[43m(\u001b[49m\u001b[43m)\u001b[49m\n\u001b[0;32m   1012\u001b[0m \u001b[38;5;28;01mif\u001b[39;00m \u001b[38;5;129;01mnot\u001b[39;00m conn\u001b[38;5;241m.\u001b[39mis_verified:\n\u001b[0;32m   1013\u001b[0m     warnings\u001b[38;5;241m.\u001b[39mwarn(\n\u001b[0;32m   1014\u001b[0m         (\n\u001b[0;32m   1015\u001b[0m             \u001b[38;5;124m\"\u001b[39m\u001b[38;5;124mUnverified HTTPS request is being made to host \u001b[39m\u001b[38;5;124m'\u001b[39m\u001b[38;5;132;01m%s\u001b[39;00m\u001b[38;5;124m'\u001b[39m\u001b[38;5;124m. \u001b[39m\u001b[38;5;124m\"\u001b[39m\n\u001b[1;32m   (...)\u001b[0m\n\u001b[0;32m   1020\u001b[0m         InsecureRequestWarning,\n\u001b[0;32m   1021\u001b[0m     )\n",
      "File \u001b[1;32m~\\AppData\\Local\\Packages\\PythonSoftwareFoundation.Python.3.11_qbz5n2kfra8p0\\LocalCache\\local-packages\\Python311\\site-packages\\urllib3\\connection.py:416\u001b[0m, in \u001b[0;36mHTTPSConnection.connect\u001b[1;34m(self)\u001b[0m\n\u001b[0;32m    407\u001b[0m \u001b[38;5;28;01mif\u001b[39;00m (\n\u001b[0;32m    408\u001b[0m     \u001b[38;5;129;01mnot\u001b[39;00m \u001b[38;5;28mself\u001b[39m\u001b[38;5;241m.\u001b[39mca_certs\n\u001b[0;32m    409\u001b[0m     \u001b[38;5;129;01mand\u001b[39;00m \u001b[38;5;129;01mnot\u001b[39;00m \u001b[38;5;28mself\u001b[39m\u001b[38;5;241m.\u001b[39mca_cert_dir\n\u001b[1;32m   (...)\u001b[0m\n\u001b[0;32m    412\u001b[0m     \u001b[38;5;129;01mand\u001b[39;00m \u001b[38;5;28mhasattr\u001b[39m(context, \u001b[38;5;124m\"\u001b[39m\u001b[38;5;124mload_default_certs\u001b[39m\u001b[38;5;124m\"\u001b[39m)\n\u001b[0;32m    413\u001b[0m ):\n\u001b[0;32m    414\u001b[0m     context\u001b[38;5;241m.\u001b[39mload_default_certs()\n\u001b[1;32m--> 416\u001b[0m \u001b[38;5;28mself\u001b[39m\u001b[38;5;241m.\u001b[39msock \u001b[38;5;241m=\u001b[39m \u001b[43mssl_wrap_socket\u001b[49m\u001b[43m(\u001b[49m\n\u001b[0;32m    417\u001b[0m \u001b[43m    \u001b[49m\u001b[43msock\u001b[49m\u001b[38;5;241;43m=\u001b[39;49m\u001b[43mconn\u001b[49m\u001b[43m,\u001b[49m\n\u001b[0;32m    418\u001b[0m \u001b[43m    \u001b[49m\u001b[43mkeyfile\u001b[49m\u001b[38;5;241;43m=\u001b[39;49m\u001b[38;5;28;43mself\u001b[39;49m\u001b[38;5;241;43m.\u001b[39;49m\u001b[43mkey_file\u001b[49m\u001b[43m,\u001b[49m\n\u001b[0;32m    419\u001b[0m \u001b[43m    \u001b[49m\u001b[43mcertfile\u001b[49m\u001b[38;5;241;43m=\u001b[39;49m\u001b[38;5;28;43mself\u001b[39;49m\u001b[38;5;241;43m.\u001b[39;49m\u001b[43mcert_file\u001b[49m\u001b[43m,\u001b[49m\n\u001b[0;32m    420\u001b[0m \u001b[43m    \u001b[49m\u001b[43mkey_password\u001b[49m\u001b[38;5;241;43m=\u001b[39;49m\u001b[38;5;28;43mself\u001b[39;49m\u001b[38;5;241;43m.\u001b[39;49m\u001b[43mkey_password\u001b[49m\u001b[43m,\u001b[49m\n\u001b[0;32m    421\u001b[0m \u001b[43m    \u001b[49m\u001b[43mca_certs\u001b[49m\u001b[38;5;241;43m=\u001b[39;49m\u001b[38;5;28;43mself\u001b[39;49m\u001b[38;5;241;43m.\u001b[39;49m\u001b[43mca_certs\u001b[49m\u001b[43m,\u001b[49m\n\u001b[0;32m    422\u001b[0m \u001b[43m    \u001b[49m\u001b[43mca_cert_dir\u001b[49m\u001b[38;5;241;43m=\u001b[39;49m\u001b[38;5;28;43mself\u001b[39;49m\u001b[38;5;241;43m.\u001b[39;49m\u001b[43mca_cert_dir\u001b[49m\u001b[43m,\u001b[49m\n\u001b[0;32m    423\u001b[0m \u001b[43m    \u001b[49m\u001b[43mca_cert_data\u001b[49m\u001b[38;5;241;43m=\u001b[39;49m\u001b[38;5;28;43mself\u001b[39;49m\u001b[38;5;241;43m.\u001b[39;49m\u001b[43mca_cert_data\u001b[49m\u001b[43m,\u001b[49m\n\u001b[0;32m    424\u001b[0m \u001b[43m    \u001b[49m\u001b[43mserver_hostname\u001b[49m\u001b[38;5;241;43m=\u001b[39;49m\u001b[43mserver_hostname\u001b[49m\u001b[43m,\u001b[49m\n\u001b[0;32m    425\u001b[0m \u001b[43m    \u001b[49m\u001b[43mssl_context\u001b[49m\u001b[38;5;241;43m=\u001b[39;49m\u001b[43mcontext\u001b[49m\u001b[43m,\u001b[49m\n\u001b[0;32m    426\u001b[0m \u001b[43m    \u001b[49m\u001b[43mtls_in_tls\u001b[49m\u001b[38;5;241;43m=\u001b[39;49m\u001b[43mtls_in_tls\u001b[49m\u001b[43m,\u001b[49m\n\u001b[0;32m    427\u001b[0m \u001b[43m\u001b[49m\u001b[43m)\u001b[49m\n\u001b[0;32m    429\u001b[0m \u001b[38;5;66;03m# If we're using all defaults and the connection\u001b[39;00m\n\u001b[0;32m    430\u001b[0m \u001b[38;5;66;03m# is TLSv1 or TLSv1.1 we throw a DeprecationWarning\u001b[39;00m\n\u001b[0;32m    431\u001b[0m \u001b[38;5;66;03m# for the host.\u001b[39;00m\n\u001b[0;32m    432\u001b[0m \u001b[38;5;28;01mif\u001b[39;00m (\n\u001b[0;32m    433\u001b[0m     default_ssl_context\n\u001b[0;32m    434\u001b[0m     \u001b[38;5;129;01mand\u001b[39;00m \u001b[38;5;28mself\u001b[39m\u001b[38;5;241m.\u001b[39mssl_version \u001b[38;5;129;01mis\u001b[39;00m \u001b[38;5;28;01mNone\u001b[39;00m\n\u001b[0;32m    435\u001b[0m     \u001b[38;5;129;01mand\u001b[39;00m \u001b[38;5;28mhasattr\u001b[39m(\u001b[38;5;28mself\u001b[39m\u001b[38;5;241m.\u001b[39msock, \u001b[38;5;124m\"\u001b[39m\u001b[38;5;124mversion\u001b[39m\u001b[38;5;124m\"\u001b[39m)\n\u001b[0;32m    436\u001b[0m     \u001b[38;5;129;01mand\u001b[39;00m \u001b[38;5;28mself\u001b[39m\u001b[38;5;241m.\u001b[39msock\u001b[38;5;241m.\u001b[39mversion() \u001b[38;5;129;01min\u001b[39;00m {\u001b[38;5;124m\"\u001b[39m\u001b[38;5;124mTLSv1\u001b[39m\u001b[38;5;124m\"\u001b[39m, \u001b[38;5;124m\"\u001b[39m\u001b[38;5;124mTLSv1.1\u001b[39m\u001b[38;5;124m\"\u001b[39m}\n\u001b[0;32m    437\u001b[0m ):\n",
      "File \u001b[1;32m~\\AppData\\Local\\Packages\\PythonSoftwareFoundation.Python.3.11_qbz5n2kfra8p0\\LocalCache\\local-packages\\Python311\\site-packages\\urllib3\\util\\ssl_.py:402\u001b[0m, in \u001b[0;36mssl_wrap_socket\u001b[1;34m(sock, keyfile, certfile, cert_reqs, ca_certs, server_hostname, ssl_version, ciphers, ssl_context, ca_cert_dir, key_password, ca_cert_data, tls_in_tls)\u001b[0m\n\u001b[0;32m    400\u001b[0m \u001b[38;5;28;01mif\u001b[39;00m ca_certs \u001b[38;5;129;01mor\u001b[39;00m ca_cert_dir \u001b[38;5;129;01mor\u001b[39;00m ca_cert_data:\n\u001b[0;32m    401\u001b[0m     \u001b[38;5;28;01mtry\u001b[39;00m:\n\u001b[1;32m--> 402\u001b[0m         \u001b[43mcontext\u001b[49m\u001b[38;5;241;43m.\u001b[39;49m\u001b[43mload_verify_locations\u001b[49m\u001b[43m(\u001b[49m\u001b[43mca_certs\u001b[49m\u001b[43m,\u001b[49m\u001b[43m \u001b[49m\u001b[43mca_cert_dir\u001b[49m\u001b[43m,\u001b[49m\u001b[43m \u001b[49m\u001b[43mca_cert_data\u001b[49m\u001b[43m)\u001b[49m\n\u001b[0;32m    403\u001b[0m     \u001b[38;5;28;01mexcept\u001b[39;00m (\u001b[38;5;167;01mIOError\u001b[39;00m, \u001b[38;5;167;01mOSError\u001b[39;00m) \u001b[38;5;28;01mas\u001b[39;00m e:\n\u001b[0;32m    404\u001b[0m         \u001b[38;5;28;01mraise\u001b[39;00m SSLError(e)\n",
      "\u001b[1;31mKeyboardInterrupt\u001b[0m: "
     ]
    }
   ],
   "source": [
    "stats_df = pd.read_csv('bikeTheftDataTotal.csv')\n",
    "all_geojson = gpd.GeoDataFrame()\n",
    "\n",
    "for code in stats_df['LSOA Code'].unique():\n",
    "    api_url = f'https://findthatpostcode.uk/areas/{code}.geojson'\n",
    "    response = requests.get(api_url)\n",
    "    \n",
    "    if response.status_code == 200:\n",
    "        temp_gdf = gpd.read_file(StringIO(response.text))\n",
    "        all_geojson = pd.concat([all_geojson, temp_gdf], ignore_index=True)\n",
    "\n",
    "merged_gdf = all_geojson.merge(stats_df, left_on='LSOA21CD', right_on='LSOA Code', how='left')\n",
    "merged_gdf.to_file('lsoaDataBikeTheft.geojson', driver='GeoJSON')\n",
    "\n",
    "print(\"GeoJSON file successfully exported: lsoaDataBikeTheft.geojson\")"
   ]
  }
 ],
 "metadata": {
  "kernelspec": {
   "display_name": "Python 3",
   "language": "python",
   "name": "python3"
  },
  "language_info": {
   "codemirror_mode": {
    "name": "ipython",
    "version": 3
   },
   "file_extension": ".py",
   "mimetype": "text/x-python",
   "name": "python",
   "nbconvert_exporter": "python",
   "pygments_lexer": "ipython3",
   "version": "3.11.9"
  }
 },
 "nbformat": 4,
 "nbformat_minor": 2
}
